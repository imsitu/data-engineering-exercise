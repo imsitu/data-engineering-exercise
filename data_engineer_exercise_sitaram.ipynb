{
 "cells": [
  {
   "cell_type": "markdown",
   "metadata": {},
   "source": [
    "# Evaluation criteria\n",
    "\n",
    "The goal of this assignment is to get a view on your hands-on \"data engineering\" skills.  \n",
    "At our company, our data scientists and engineers collaborate on projects.  \n",
    "Your main focus will be creating performant & robust data flows.  \n",
    "For a take-home-assignment, we cannot grant you access to our infrastructure.  \n",
    "The assignement below measures your proficiency in general programming, data science & engineering tasks using python.  \n",
    "Completion should not take more than half a day.\n",
    "\n",
    "**We expect you to be proficient in:**\n",
    " * SQL queries (Sybase IQ system)\n",
    " * ETL flows (In collaboration with existing teams)\n",
    " * General python to glue it all together\n",
    " * Python data science ecosystem (Pandas + SKlearn)\n",
    " \n",
    "**In this exercise we expect you to demonstrate your ability to / knowledge of:**\n",
    " * Building a data science runtime\n",
    " * PEP8 / Google python styleguide\n",
    " * Efficiently getting the job done\n",
    " * Choose meaningfull names for variables & functions\n",
    " * Writing maintainable code (yes, you might need to document some steps)\n",
    " * Help a data scientist present interactive results.\n",
    " * Offer predictions via REST api"
   ]
  },
  {
   "cell_type": "markdown",
   "metadata": {},
   "source": [
    "# Setting-up a data science workspace\n",
    "\n",
    "We allow you full freedom in setting up a data science runtime.  \n",
    "The main objective is having a runtime where you can run this notebook and the code you will develop.  \n",
    "You can choose for a local setup on your pc, or even a cloud setup if you're up for it.   \n",
    "\n",
    "**In your environment, you will need things for:**\n",
    " * https request\n",
    " * python3 (not python2 !!)\n",
    " * (geo)pandas\n",
    " * interactive maps (e.g. folium, altair, ...)\n",
    " * REST apis\n",
    " \n",
    "**Deliverables we expect**:\n",
    " * notebook with the completed assignment\n",
    " * list of packages for your runtime (e.g. yml or txt file)\n",
    " * evidence of a working API endpoint"
   ]
  },
  {
   "cell_type": "markdown",
   "metadata": {},
   "source": [
    "# Importing packages"
   ]
  },
  {
   "cell_type": "markdown",
   "metadata": {},
   "source": [
    "We would like you to put all your import statements here, together in 1 place.  \n",
    "Before submitting, please make sure you remove any unused imports :-)  "
   ]
  },
  {
   "cell_type": "code",
   "execution_count": 1,
   "metadata": {},
   "outputs": [],
   "source": [
    "## your imports go here.  You get pandas for free.\n",
    "\n",
    "import pandas as pd\n",
    "import requests\n",
    "from requests import ReadTimeout, Timeout, HTTPError, Timeout, ConnectionError\n",
    "import unittest\n",
    "import joblib\n",
    "import math\n",
    "import warnings\n",
    "warnings.filterwarnings('ignore')"
   ]
  },
  {
   "cell_type": "markdown",
   "metadata": {},
   "source": [
    "# Data ingestion exercises\n",
    "\n",
    "## Getting store location data from an API"
   ]
  },
  {
   "cell_type": "markdown",
   "metadata": {},
   "source": [
    "**Goal:** Obtain a pandas dataframe  \n",
    "**Hint:** You will need to normalise/flatten the json, because it contains multiple levels  \n",
    "**API call:** https://ecgplacesmw.colruytgroup.com/ecgplacesmw/v3/nl/places/filter/clp-places  "
   ]
  },
  {
   "cell_type": "code",
   "execution_count": 2,
   "metadata": {},
   "outputs": [
    {
     "name": "stdout",
     "output_type": "stream",
     "text": [
      "Index(['placeId', 'commercialName', 'branchId', 'sourceStatus',\n",
      "       'sellingPartners', 'handoverServices', 'moreInfoUrl', 'routeUrl',\n",
      "       'isActive', 'ensign.id', 'ensign.name', 'placeType.id',\n",
      "       'placeType.longName', 'placeType.placeTypeDescription',\n",
      "       'geoCoordinates.latitude', 'geoCoordinates.longitude',\n",
      "       'address.streetName', 'address.houseNumber', 'address.postalcode',\n",
      "       'address.cityName', 'address.countryName'],\n",
      "      dtype='object')\n"
     ]
    },
    {
     "data": {
      "text/html": [
       "<div>\n",
       "<style scoped>\n",
       "    .dataframe tbody tr th:only-of-type {\n",
       "        vertical-align: middle;\n",
       "    }\n",
       "\n",
       "    .dataframe tbody tr th {\n",
       "        vertical-align: top;\n",
       "    }\n",
       "\n",
       "    .dataframe thead th {\n",
       "        text-align: right;\n",
       "    }\n",
       "</style>\n",
       "<table border=\"1\" class=\"dataframe\">\n",
       "  <thead>\n",
       "    <tr style=\"text-align: right;\">\n",
       "      <th></th>\n",
       "      <th>placeId</th>\n",
       "      <th>commercialName</th>\n",
       "      <th>branchId</th>\n",
       "      <th>sourceStatus</th>\n",
       "      <th>sellingPartners</th>\n",
       "      <th>handoverServices</th>\n",
       "      <th>moreInfoUrl</th>\n",
       "      <th>routeUrl</th>\n",
       "      <th>isActive</th>\n",
       "      <th>ensign.id</th>\n",
       "      <th>...</th>\n",
       "      <th>placeType.id</th>\n",
       "      <th>placeType.longName</th>\n",
       "      <th>placeType.placeTypeDescription</th>\n",
       "      <th>geoCoordinates.latitude</th>\n",
       "      <th>geoCoordinates.longitude</th>\n",
       "      <th>address.streetName</th>\n",
       "      <th>address.houseNumber</th>\n",
       "      <th>address.postalcode</th>\n",
       "      <th>address.cityName</th>\n",
       "      <th>address.countryName</th>\n",
       "    </tr>\n",
       "  </thead>\n",
       "  <tbody>\n",
       "    <tr>\n",
       "      <th>0</th>\n",
       "      <td>902</td>\n",
       "      <td>AALST (COLRUYT)</td>\n",
       "      <td>4156</td>\n",
       "      <td>AC</td>\n",
       "      <td>[QUALITY, 3RDPARTY]</td>\n",
       "      <td>[CSOP_ORDERABLE, PREPAID_PARCEL]</td>\n",
       "      <td>https://www.colruyt.be/nl/colruyt-openingsuren...</td>\n",
       "      <td>https://maps.apple.com/?daddr=50.933074,4.0538972</td>\n",
       "      <td>True</td>\n",
       "      <td>8</td>\n",
       "      <td>...</td>\n",
       "      <td>1</td>\n",
       "      <td>Winkel</td>\n",
       "      <td>Winkel</td>\n",
       "      <td>50.933074</td>\n",
       "      <td>4.053897</td>\n",
       "      <td>BRUSSELSE STEENWEG</td>\n",
       "      <td>41</td>\n",
       "      <td>9300</td>\n",
       "      <td>AALST</td>\n",
       "      <td>België</td>\n",
       "    </tr>\n",
       "    <tr>\n",
       "      <th>1</th>\n",
       "      <td>946</td>\n",
       "      <td>AALTER (COLRUYT)</td>\n",
       "      <td>4218</td>\n",
       "      <td>AC</td>\n",
       "      <td>[QUALITY, 3RDPARTY]</td>\n",
       "      <td>[CSOP_ORDERABLE, PREPAID_PARCEL]</td>\n",
       "      <td>https://www.colruyt.be/nl/colruyt-openingsuren...</td>\n",
       "      <td>https://maps.apple.com/?daddr=51.0784761,3.450...</td>\n",
       "      <td>True</td>\n",
       "      <td>8</td>\n",
       "      <td>...</td>\n",
       "      <td>1</td>\n",
       "      <td>Winkel</td>\n",
       "      <td>Winkel</td>\n",
       "      <td>51.078476</td>\n",
       "      <td>3.450013</td>\n",
       "      <td>LOSTRAAT</td>\n",
       "      <td>66</td>\n",
       "      <td>9880</td>\n",
       "      <td>AALTER</td>\n",
       "      <td>België</td>\n",
       "    </tr>\n",
       "    <tr>\n",
       "      <th>2</th>\n",
       "      <td>950</td>\n",
       "      <td>AARSCHOT (COLRUYT)</td>\n",
       "      <td>4222</td>\n",
       "      <td>AC</td>\n",
       "      <td>[QUALITY, 3RDPARTY]</td>\n",
       "      <td>[CSOP_ORDERABLE, PREPAID_PARCEL]</td>\n",
       "      <td>https://www.colruyt.be/nl/colruyt-openingsuren...</td>\n",
       "      <td>https://maps.apple.com/?daddr=50.9760369,4.811...</td>\n",
       "      <td>True</td>\n",
       "      <td>8</td>\n",
       "      <td>...</td>\n",
       "      <td>1</td>\n",
       "      <td>Winkel</td>\n",
       "      <td>Winkel</td>\n",
       "      <td>50.976037</td>\n",
       "      <td>4.811097</td>\n",
       "      <td>LEUVENSESTEENWEG</td>\n",
       "      <td>241</td>\n",
       "      <td>3200</td>\n",
       "      <td>AARSCHOT</td>\n",
       "      <td>België</td>\n",
       "    </tr>\n",
       "    <tr>\n",
       "      <th>3</th>\n",
       "      <td>886</td>\n",
       "      <td>ALSEMBERG (COLRUYT)</td>\n",
       "      <td>4138</td>\n",
       "      <td>AC</td>\n",
       "      <td>[QUALITY, 3RDPARTY]</td>\n",
       "      <td>[CSOP_ORDERABLE, PREPAID_PARCEL]</td>\n",
       "      <td>https://www.colruyt.be/nl/colruyt-openingsuren...</td>\n",
       "      <td>https://maps.apple.com/?daddr=50.7415212,4.336719</td>\n",
       "      <td>True</td>\n",
       "      <td>8</td>\n",
       "      <td>...</td>\n",
       "      <td>1</td>\n",
       "      <td>Winkel</td>\n",
       "      <td>Winkel</td>\n",
       "      <td>50.741521</td>\n",
       "      <td>4.336719</td>\n",
       "      <td>BRUSSELSESTEENWEG</td>\n",
       "      <td>19</td>\n",
       "      <td>1652</td>\n",
       "      <td>ALSEMBERG</td>\n",
       "      <td>België</td>\n",
       "    </tr>\n",
       "    <tr>\n",
       "      <th>4</th>\n",
       "      <td>783</td>\n",
       "      <td>AMAY (COLRUYT)</td>\n",
       "      <td>3853</td>\n",
       "      <td>AC</td>\n",
       "      <td>[QUALITY, 3RDPARTY]</td>\n",
       "      <td>[CSOP_ORDERABLE, PREPAID_PARCEL]</td>\n",
       "      <td>https://www.colruyt.be/nl/colruyt-openingsuren...</td>\n",
       "      <td>https://maps.apple.com/?daddr=50.5599284,5.306...</td>\n",
       "      <td>True</td>\n",
       "      <td>8</td>\n",
       "      <td>...</td>\n",
       "      <td>1</td>\n",
       "      <td>Winkel</td>\n",
       "      <td>Winkel</td>\n",
       "      <td>50.559928</td>\n",
       "      <td>5.306195</td>\n",
       "      <td>CHAUSSEE DE TONGRES</td>\n",
       "      <td>247</td>\n",
       "      <td>4540</td>\n",
       "      <td>AMAY</td>\n",
       "      <td>België</td>\n",
       "    </tr>\n",
       "    <tr>\n",
       "      <th>5</th>\n",
       "      <td>650</td>\n",
       "      <td>ANDENNE (COLRUYT)</td>\n",
       "      <td>3596</td>\n",
       "      <td>AC</td>\n",
       "      <td>[QUALITY, 3RDPARTY]</td>\n",
       "      <td>[CSOP_ORDERABLE, PREPAID_PARCEL]</td>\n",
       "      <td>https://www.colruyt.be/nl/colruyt-openingsuren...</td>\n",
       "      <td>https://maps.apple.com/?daddr=50.4917055,5.093...</td>\n",
       "      <td>True</td>\n",
       "      <td>8</td>\n",
       "      <td>...</td>\n",
       "      <td>1</td>\n",
       "      <td>Winkel</td>\n",
       "      <td>Winkel</td>\n",
       "      <td>50.491706</td>\n",
       "      <td>5.093003</td>\n",
       "      <td>RUE DE LA PAPETERIE</td>\n",
       "      <td>4</td>\n",
       "      <td>5300</td>\n",
       "      <td>ANDENNE</td>\n",
       "      <td>België</td>\n",
       "    </tr>\n",
       "    <tr>\n",
       "      <th>6</th>\n",
       "      <td>669</td>\n",
       "      <td>ANDERLECHT (HERBETTELN) COLR</td>\n",
       "      <td>3620</td>\n",
       "      <td>AC</td>\n",
       "      <td>[QUALITY, 3RDPARTY]</td>\n",
       "      <td>[CSOP_ORDERABLE, PREPAID_PARCEL]</td>\n",
       "      <td>https://www.colruyt.be/nl/colruyt-openingsuren...</td>\n",
       "      <td>https://maps.apple.com/?daddr=50.8439965,4.309...</td>\n",
       "      <td>True</td>\n",
       "      <td>8</td>\n",
       "      <td>...</td>\n",
       "      <td>1</td>\n",
       "      <td>Winkel</td>\n",
       "      <td>Winkel</td>\n",
       "      <td>50.843997</td>\n",
       "      <td>4.309948</td>\n",
       "      <td>MAURICE HERBETTELAAN</td>\n",
       "      <td>57</td>\n",
       "      <td>1070</td>\n",
       "      <td>ANDERLECHT</td>\n",
       "      <td>België</td>\n",
       "    </tr>\n",
       "    <tr>\n",
       "      <th>7</th>\n",
       "      <td>744</td>\n",
       "      <td>ANDERLECHT (VEEWEYDE) COLRUYT</td>\n",
       "      <td>3759</td>\n",
       "      <td>AC</td>\n",
       "      <td>[QUALITY, 3RDPARTY]</td>\n",
       "      <td>[CSOP_ORDERABLE, PREPAID_PARCEL]</td>\n",
       "      <td>https://www.colruyt.be/nl/colruyt-openingsuren...</td>\n",
       "      <td>https://maps.apple.com/?daddr=50.8275378372,4....</td>\n",
       "      <td>True</td>\n",
       "      <td>8</td>\n",
       "      <td>...</td>\n",
       "      <td>1</td>\n",
       "      <td>Winkel</td>\n",
       "      <td>Winkel</td>\n",
       "      <td>50.827538</td>\n",
       "      <td>4.302574</td>\n",
       "      <td>BERGENSESTEENWEG</td>\n",
       "      <td>824</td>\n",
       "      <td>1070</td>\n",
       "      <td>ANDERLECHT</td>\n",
       "      <td>België</td>\n",
       "    </tr>\n",
       "    <tr>\n",
       "      <th>8</th>\n",
       "      <td>448</td>\n",
       "      <td>ANDERLUES (COLRUYT)</td>\n",
       "      <td>3074</td>\n",
       "      <td>AC</td>\n",
       "      <td>[QUALITY, 3RDPARTY]</td>\n",
       "      <td>[CSOP_ORDERABLE, PREPAID_PARCEL]</td>\n",
       "      <td>https://www.colruyt.be/nl/colruyt-openingsuren...</td>\n",
       "      <td>https://maps.apple.com/?daddr=50.401257,4.2797751</td>\n",
       "      <td>True</td>\n",
       "      <td>8</td>\n",
       "      <td>...</td>\n",
       "      <td>1</td>\n",
       "      <td>Winkel</td>\n",
       "      <td>Winkel</td>\n",
       "      <td>50.401257</td>\n",
       "      <td>4.279775</td>\n",
       "      <td>RUE DE LA STATION</td>\n",
       "      <td>4</td>\n",
       "      <td>6150</td>\n",
       "      <td>ANDERLUES</td>\n",
       "      <td>België</td>\n",
       "    </tr>\n",
       "    <tr>\n",
       "      <th>9</th>\n",
       "      <td>681</td>\n",
       "      <td>ANS (COLRUYT)</td>\n",
       "      <td>3644</td>\n",
       "      <td>AC</td>\n",
       "      <td>[QUALITY, 3RDPARTY]</td>\n",
       "      <td>[CSOP_ORDERABLE, PREPAID_PARCEL]</td>\n",
       "      <td>https://www.colruyt.be/nl/colruyt-openingsuren...</td>\n",
       "      <td>https://maps.apple.com/?daddr=50.6588119,5.532...</td>\n",
       "      <td>True</td>\n",
       "      <td>8</td>\n",
       "      <td>...</td>\n",
       "      <td>1</td>\n",
       "      <td>Winkel</td>\n",
       "      <td>Winkel</td>\n",
       "      <td>50.658812</td>\n",
       "      <td>5.532497</td>\n",
       "      <td>RUE DES FRANCAIS</td>\n",
       "      <td>88</td>\n",
       "      <td>4430</td>\n",
       "      <td>ANS</td>\n",
       "      <td>België</td>\n",
       "    </tr>\n",
       "  </tbody>\n",
       "</table>\n",
       "<p>10 rows × 21 columns</p>\n",
       "</div>"
      ],
      "text/plain": [
       "   placeId                 commercialName branchId sourceStatus  \\\n",
       "0      902                AALST (COLRUYT)     4156           AC   \n",
       "1      946               AALTER (COLRUYT)     4218           AC   \n",
       "2      950             AARSCHOT (COLRUYT)     4222           AC   \n",
       "3      886            ALSEMBERG (COLRUYT)     4138           AC   \n",
       "4      783                 AMAY (COLRUYT)     3853           AC   \n",
       "5      650              ANDENNE (COLRUYT)     3596           AC   \n",
       "6      669   ANDERLECHT (HERBETTELN) COLR     3620           AC   \n",
       "7      744  ANDERLECHT (VEEWEYDE) COLRUYT     3759           AC   \n",
       "8      448            ANDERLUES (COLRUYT)     3074           AC   \n",
       "9      681                  ANS (COLRUYT)     3644           AC   \n",
       "\n",
       "       sellingPartners                  handoverServices  \\\n",
       "0  [QUALITY, 3RDPARTY]  [CSOP_ORDERABLE, PREPAID_PARCEL]   \n",
       "1  [QUALITY, 3RDPARTY]  [CSOP_ORDERABLE, PREPAID_PARCEL]   \n",
       "2  [QUALITY, 3RDPARTY]  [CSOP_ORDERABLE, PREPAID_PARCEL]   \n",
       "3  [QUALITY, 3RDPARTY]  [CSOP_ORDERABLE, PREPAID_PARCEL]   \n",
       "4  [QUALITY, 3RDPARTY]  [CSOP_ORDERABLE, PREPAID_PARCEL]   \n",
       "5  [QUALITY, 3RDPARTY]  [CSOP_ORDERABLE, PREPAID_PARCEL]   \n",
       "6  [QUALITY, 3RDPARTY]  [CSOP_ORDERABLE, PREPAID_PARCEL]   \n",
       "7  [QUALITY, 3RDPARTY]  [CSOP_ORDERABLE, PREPAID_PARCEL]   \n",
       "8  [QUALITY, 3RDPARTY]  [CSOP_ORDERABLE, PREPAID_PARCEL]   \n",
       "9  [QUALITY, 3RDPARTY]  [CSOP_ORDERABLE, PREPAID_PARCEL]   \n",
       "\n",
       "                                         moreInfoUrl  \\\n",
       "0  https://www.colruyt.be/nl/colruyt-openingsuren...   \n",
       "1  https://www.colruyt.be/nl/colruyt-openingsuren...   \n",
       "2  https://www.colruyt.be/nl/colruyt-openingsuren...   \n",
       "3  https://www.colruyt.be/nl/colruyt-openingsuren...   \n",
       "4  https://www.colruyt.be/nl/colruyt-openingsuren...   \n",
       "5  https://www.colruyt.be/nl/colruyt-openingsuren...   \n",
       "6  https://www.colruyt.be/nl/colruyt-openingsuren...   \n",
       "7  https://www.colruyt.be/nl/colruyt-openingsuren...   \n",
       "8  https://www.colruyt.be/nl/colruyt-openingsuren...   \n",
       "9  https://www.colruyt.be/nl/colruyt-openingsuren...   \n",
       "\n",
       "                                            routeUrl  isActive  ensign.id  \\\n",
       "0  https://maps.apple.com/?daddr=50.933074,4.0538972      True          8   \n",
       "1  https://maps.apple.com/?daddr=51.0784761,3.450...      True          8   \n",
       "2  https://maps.apple.com/?daddr=50.9760369,4.811...      True          8   \n",
       "3  https://maps.apple.com/?daddr=50.7415212,4.336719      True          8   \n",
       "4  https://maps.apple.com/?daddr=50.5599284,5.306...      True          8   \n",
       "5  https://maps.apple.com/?daddr=50.4917055,5.093...      True          8   \n",
       "6  https://maps.apple.com/?daddr=50.8439965,4.309...      True          8   \n",
       "7  https://maps.apple.com/?daddr=50.8275378372,4....      True          8   \n",
       "8  https://maps.apple.com/?daddr=50.401257,4.2797751      True          8   \n",
       "9  https://maps.apple.com/?daddr=50.6588119,5.532...      True          8   \n",
       "\n",
       "   ... placeType.id  placeType.longName placeType.placeTypeDescription  \\\n",
       "0  ...            1              Winkel                         Winkel   \n",
       "1  ...            1              Winkel                         Winkel   \n",
       "2  ...            1              Winkel                         Winkel   \n",
       "3  ...            1              Winkel                         Winkel   \n",
       "4  ...            1              Winkel                         Winkel   \n",
       "5  ...            1              Winkel                         Winkel   \n",
       "6  ...            1              Winkel                         Winkel   \n",
       "7  ...            1              Winkel                         Winkel   \n",
       "8  ...            1              Winkel                         Winkel   \n",
       "9  ...            1              Winkel                         Winkel   \n",
       "\n",
       "  geoCoordinates.latitude  geoCoordinates.longitude    address.streetName  \\\n",
       "0               50.933074                  4.053897    BRUSSELSE STEENWEG   \n",
       "1               51.078476                  3.450013              LOSTRAAT   \n",
       "2               50.976037                  4.811097      LEUVENSESTEENWEG   \n",
       "3               50.741521                  4.336719     BRUSSELSESTEENWEG   \n",
       "4               50.559928                  5.306195   CHAUSSEE DE TONGRES   \n",
       "5               50.491706                  5.093003   RUE DE LA PAPETERIE   \n",
       "6               50.843997                  4.309948  MAURICE HERBETTELAAN   \n",
       "7               50.827538                  4.302574      BERGENSESTEENWEG   \n",
       "8               50.401257                  4.279775     RUE DE LA STATION   \n",
       "9               50.658812                  5.532497      RUE DES FRANCAIS   \n",
       "\n",
       "  address.houseNumber address.postalcode address.cityName address.countryName  \n",
       "0                  41               9300            AALST              België  \n",
       "1                  66               9880           AALTER              België  \n",
       "2                 241               3200         AARSCHOT              België  \n",
       "3                  19               1652        ALSEMBERG              België  \n",
       "4                 247               4540             AMAY              België  \n",
       "5                   4               5300          ANDENNE              België  \n",
       "6                  57               1070       ANDERLECHT              België  \n",
       "7                 824               1070       ANDERLECHT              België  \n",
       "8                   4               6150        ANDERLUES              België  \n",
       "9                  88               4430              ANS              België  \n",
       "\n",
       "[10 rows x 21 columns]"
      ]
     },
     "execution_count": 2,
     "metadata": {},
     "output_type": "execute_result"
    }
   ],
   "source": [
    "\n",
    "def get_clp_places(url):\n",
    "    '''Gets the data from API and flattens into a valid JSON'''\n",
    "    try:\n",
    "        response = requests.get(url,timeout=50)\n",
    "        data = pd.io.json.json_normalize(response.json())\n",
    "        print(data.columns)\n",
    "        return data\n",
    "    except (HTTPError, ReadTimeout, Timeout, ConnectionError)as e:\n",
    "        print(\"API call for data is met with\" + str(e))\n",
    "\n",
    "df_clp = get_clp_places(\"https://ecgplacesmw.colruytgroup.com/ecgplacesmw/v3/nl/places/filter/clp-places\")\n",
    "df_clp.head(10)"
   ]
  },
  {
   "cell_type": "code",
   "execution_count": 3,
   "metadata": {},
   "outputs": [
    {
     "data": {
      "text/plain": [
       "(251, 21)"
      ]
     },
     "execution_count": 3,
     "metadata": {},
     "output_type": "execute_result"
    }
   ],
   "source": [
    "#finding shape of the dataframe\n",
    "df_clp.shape"
   ]
  },
  {
   "cell_type": "code",
   "execution_count": 4,
   "metadata": {},
   "outputs": [
    {
     "data": {
      "text/html": [
       "<div>\n",
       "<style scoped>\n",
       "    .dataframe tbody tr th:only-of-type {\n",
       "        vertical-align: middle;\n",
       "    }\n",
       "\n",
       "    .dataframe tbody tr th {\n",
       "        vertical-align: top;\n",
       "    }\n",
       "\n",
       "    .dataframe thead th {\n",
       "        text-align: right;\n",
       "    }\n",
       "</style>\n",
       "<table border=\"1\" class=\"dataframe\">\n",
       "  <thead>\n",
       "    <tr style=\"text-align: right;\">\n",
       "      <th></th>\n",
       "      <th>placeId</th>\n",
       "      <th>ensign.id</th>\n",
       "      <th>placeType.id</th>\n",
       "      <th>geoCoordinates.latitude</th>\n",
       "      <th>geoCoordinates.longitude</th>\n",
       "    </tr>\n",
       "  </thead>\n",
       "  <tbody>\n",
       "    <tr>\n",
       "      <th>count</th>\n",
       "      <td>251.000000</td>\n",
       "      <td>251.0</td>\n",
       "      <td>251.0</td>\n",
       "      <td>251.000000</td>\n",
       "      <td>251.000000</td>\n",
       "    </tr>\n",
       "    <tr>\n",
       "      <th>mean</th>\n",
       "      <td>958.047809</td>\n",
       "      <td>8.0</td>\n",
       "      <td>1.0</td>\n",
       "      <td>50.801844</td>\n",
       "      <td>4.412620</td>\n",
       "    </tr>\n",
       "    <tr>\n",
       "      <th>std</th>\n",
       "      <td>653.609943</td>\n",
       "      <td>0.0</td>\n",
       "      <td>0.0</td>\n",
       "      <td>0.349403</td>\n",
       "      <td>0.790645</td>\n",
       "    </tr>\n",
       "    <tr>\n",
       "      <th>min</th>\n",
       "      <td>440.000000</td>\n",
       "      <td>8.0</td>\n",
       "      <td>1.0</td>\n",
       "      <td>49.537178</td>\n",
       "      <td>2.649258</td>\n",
       "    </tr>\n",
       "    <tr>\n",
       "      <th>25%</th>\n",
       "      <td>612.500000</td>\n",
       "      <td>8.0</td>\n",
       "      <td>1.0</td>\n",
       "      <td>50.608740</td>\n",
       "      <td>3.914388</td>\n",
       "    </tr>\n",
       "    <tr>\n",
       "      <th>50%</th>\n",
       "      <td>740.000000</td>\n",
       "      <td>8.0</td>\n",
       "      <td>1.0</td>\n",
       "      <td>50.846563</td>\n",
       "      <td>4.394803</td>\n",
       "    </tr>\n",
       "    <tr>\n",
       "      <th>75%</th>\n",
       "      <td>903.000000</td>\n",
       "      <td>8.0</td>\n",
       "      <td>1.0</td>\n",
       "      <td>51.067902</td>\n",
       "      <td>4.923231</td>\n",
       "    </tr>\n",
       "    <tr>\n",
       "      <th>max</th>\n",
       "      <td>3330.000000</td>\n",
       "      <td>8.0</td>\n",
       "      <td>1.0</td>\n",
       "      <td>51.390402</td>\n",
       "      <td>6.119165</td>\n",
       "    </tr>\n",
       "  </tbody>\n",
       "</table>\n",
       "</div>"
      ],
      "text/plain": [
       "           placeId  ensign.id  placeType.id  geoCoordinates.latitude  \\\n",
       "count   251.000000      251.0         251.0               251.000000   \n",
       "mean    958.047809        8.0           1.0                50.801844   \n",
       "std     653.609943        0.0           0.0                 0.349403   \n",
       "min     440.000000        8.0           1.0                49.537178   \n",
       "25%     612.500000        8.0           1.0                50.608740   \n",
       "50%     740.000000        8.0           1.0                50.846563   \n",
       "75%     903.000000        8.0           1.0                51.067902   \n",
       "max    3330.000000        8.0           1.0                51.390402   \n",
       "\n",
       "       geoCoordinates.longitude  \n",
       "count                251.000000  \n",
       "mean                   4.412620  \n",
       "std                    0.790645  \n",
       "min                    2.649258  \n",
       "25%                    3.914388  \n",
       "50%                    4.394803  \n",
       "75%                    4.923231  \n",
       "max                    6.119165  "
      ]
     },
     "execution_count": 4,
     "metadata": {},
     "output_type": "execute_result"
    }
   ],
   "source": [
    "#finding stats of the dataframe\n",
    "df_clp.describe()"
   ]
  },
  {
   "cell_type": "markdown",
   "metadata": {},
   "source": [
    "### Quality checks\n",
    "\n",
    "We would like you to add several checks on this data based on these constraints:  \n",
    " * records > 200\n",
    " * latitude between 49 and 52\n",
    " * longitude between 2 and 7\n",
    " \n",
    "We dont want you to create a full blown test suite here, we're just gonna use 'asserts' from unittest"
   ]
  },
  {
   "cell_type": "code",
   "execution_count": 5,
   "metadata": {},
   "outputs": [],
   "source": [
    "\n",
    "tc = unittest.TestCase('__init__')\n",
    "number_of_records = df_clp.shape[0]\n",
    "greater_check_message = \"Number of records in dataframe exceeds 200\"\n",
    "tc.assertGreater(number_of_records, 200,greater_check_message )\n",
    "\n",
    "latitude_message = \"Latitude is not in range of 49 and 52\"\n",
    "#.between() returns True or False if elemnet is in between two values\n",
    "#.all() retruns false iff we have atleast one false in series\n",
    "tc.assertTrue(df_clp['geoCoordinates.latitude'].between(49,52).all(), latitude_message)\n",
    "\n",
    "longitude_message = \"Longitude is not in range of 2 and 7\"\n",
    "#.between() returns True or False if elemnet is in between two values\n",
    "#.all() retruns false iff we have atleast one false in series\n",
    "tc.assertTrue(df_clp['geoCoordinates.longitude'].between(2,7).all(), longitude_message)\n"
   ]
  },
  {
   "cell_type": "markdown",
   "metadata": {},
   "source": [
    "### Feature creation\n",
    "\n",
    "Create a new column \"antwerpen\" which is 1 for all stores in Antwerpen (province) and 0 for all others "
   ]
  },
  {
   "cell_type": "code",
   "execution_count": 6,
   "metadata": {},
   "outputs": [
    {
     "data": {
      "text/plain": [
       "0    246\n",
       "1      5\n",
       "Name: antwerpen, dtype: int64"
      ]
     },
     "execution_count": 6,
     "metadata": {},
     "output_type": "execute_result"
    }
   ],
   "source": [
    "#using comprehension to add column antwerpen\n",
    "df_clp[\"antwerpen\"] = [\"1\" if \"Antwerpen\".upper() in x.upper() else \"0\" for x in df_clp['address.cityName']]\n",
    "\n",
    "\n",
    "df_clp[\"antwerpen\"].value_counts()"
   ]
  },
  {
   "cell_type": "markdown",
   "metadata": {},
   "source": [
    "## Predict used car value\n",
    "\n",
    "A datascientist in our team made a basic model to predict car prices.  \n",
    "The model was saved to disk ('lgbr_cars.model') using joblib's dump fuctionality.  \n",
    "Documentation states the model is a LightGBM Regressor, trained using the sk-learn api.  \n",
    "\n",
    "**As engineer, your task it to expose this model as REST-api.** \n",
    "\n",
    "First, retrieve the model via the function below.  \n",
    "Change the path according to your setup.  "
   ]
  },
  {
   "cell_type": "code",
   "execution_count": 7,
   "metadata": {},
   "outputs": [
    {
     "name": "stdout",
     "output_type": "stream",
     "text": [
      "<class 'lightgbm.sklearn.LGBMRegressor'>\n"
     ]
    }
   ],
   "source": [
    "\n",
    "def retrieve_model(path):\n",
    "    '''load the model from path using joblib'''\n",
    "    trained_model = joblib.load(path)\n",
    "    return trained_model\n",
    "\n",
    "lgbr_cars = retrieve_model(\"/Users/situ/Desktop/data-engineering-exercise/lgbr_cars.model\")\n",
    "print(type(lgbr_cars))\n",
    "\n",
    "tc.assertEqual(str(type(lgbr_cars)),\"<class 'lightgbm.sklearn.LGBMRegressor'>\", type(lgbr_cars))"
   ]
  },
  {
   "cell_type": "markdown",
   "metadata": {},
   "source": [
    "Now you have your trained model, lets do a functional test based on the parameters below.  \n",
    "You have to present the parameters in this order.  \n",
    "\n",
    "* vehicleType: coupe\n",
    "* gearbox: manuell\n",
    "* powerPS: 190\n",
    "* model: NaN\n",
    "* kilometer: 125000\n",
    "* monthOfRegistration: 5 \n",
    "* fuelType: diesel\n",
    "* brand: audi\n",
    "\n",
    "Based on these parameters, you should get a predicted value of 14026.35068804\n",
    "However, the model doesnt accept string inputs, see the integer encoding below:"
   ]
  },
  {
   "cell_type": "code",
   "execution_count": 8,
   "metadata": {},
   "outputs": [],
   "source": [
    "model_test_input = [[3,1,190,-1,125000,5,3,1]]\n"
   ]
  },
  {
   "cell_type": "code",
   "execution_count": 9,
   "metadata": {},
   "outputs": [],
   "source": [
    "def make_prediction(trained_model, single_input):\n",
    "    '''predict value of car from trained model using input parameters'''\n",
    "    predicted_value = trained_model.predict(single_input)\n",
    "    #print(type(predicted_value[0]))\n",
    "    predicted_value = round(predicted_value[0],2)\n",
    "    return predicted_value\n",
    "\n",
    "predicted_value = make_prediction(lgbr_cars, model_test_input)\n",
    "\n",
    "tc.assertAlmostEqual(predicted_value, 14026.35, places=2)"
   ]
  },
  {
   "cell_type": "markdown",
   "metadata": {},
   "source": [
    "Now you got this model up and running, we want you to **expose it as a rest api.**  \n",
    "We don't expect you to set up any authentication.  \n",
    "We're not looking for beautiful inputs, just make it work.  \n",
    "**Building this endpoint should NOT be done in a notebook, but in proper .py file(s)**\n",
    "\n",
    "Once its up and running, use it to predict the following input:\n",
    "* [-1,1,0,118,150000,0,1,38] ==> prediction should be 13920.70"
   ]
  },
  {
   "cell_type": "markdown",
   "metadata": {},
   "source": [
    "## Geospatial data exercise\n",
    "The goal of this exercise is to read in some data from a shape file and visualize it on a map\n",
    "- The map should be dynamic. I want to zoom in and out to see more interesting aspects of the map\n",
    "- We want you to visualize the statistical sectors within a distance of 2KM of your home location.\n",
    "\n",
    "Specific steps to take:\n",
    "- Read in the shape file\n",
    "- Transform to WGS coordinates\n",
    "- Create a distance function (Haversine)\n",
    "- Create variables for home_lat, home_lon and perimeter_distance\n",
    "- Calculate centroid for each nis district\n",
    "- Calculate the distance to home for each nis district centroid \n",
    "- Figure out which nis districts are near your home\n",
    "- Create dynamic zoomable map\n",
    "- Visualize the nis districts near you (centroid <2km away), on the map\n"
   ]
  },
  {
   "cell_type": "code",
   "execution_count": 10,
   "metadata": {},
   "outputs": [],
   "source": [
    "import geopandas as gpd\n",
    "import folium # you can use any viz library you prefer"
   ]
  },
  {
   "cell_type": "code",
   "execution_count": 11,
   "metadata": {},
   "outputs": [],
   "source": [
    "# part 1: Reading in the data\n",
    "# get this file from https://statbel.fgov.be/sites/default/files/files/opendata/Statistische%20sectoren/sh_statbel_statistical_sectors_20200101.shp.zip \n",
    "df = gpd.read_file('/Users/situ/Desktop/data-engineering-exercise/location/AD_0_StatisticSector.shp')\n",
    "df = df.to_crs({'init': 'epsg:4326'}) # change projection to wgs84 \n",
    "\n"
   ]
  },
  {
   "cell_type": "code",
   "execution_count": 12,
   "metadata": {},
   "outputs": [
    {
     "data": {
      "text/html": [
       "<div>\n",
       "<style scoped>\n",
       "    .dataframe tbody tr th:only-of-type {\n",
       "        vertical-align: middle;\n",
       "    }\n",
       "\n",
       "    .dataframe tbody tr th {\n",
       "        vertical-align: top;\n",
       "    }\n",
       "\n",
       "    .dataframe thead th {\n",
       "        text-align: right;\n",
       "    }\n",
       "</style>\n",
       "<table border=\"1\" class=\"dataframe\">\n",
       "  <thead>\n",
       "    <tr style=\"text-align: right;\">\n",
       "      <th></th>\n",
       "      <th>Shape_Leng</th>\n",
       "      <th>Shape_Area</th>\n",
       "    </tr>\n",
       "  </thead>\n",
       "  <tbody>\n",
       "    <tr>\n",
       "      <th>count</th>\n",
       "      <td>20448.000000</td>\n",
       "      <td>2.044800e+04</td>\n",
       "    </tr>\n",
       "    <tr>\n",
       "      <th>mean</th>\n",
       "      <td>5979.998639</td>\n",
       "      <td>1.499376e+06</td>\n",
       "    </tr>\n",
       "    <tr>\n",
       "      <th>std</th>\n",
       "      <td>5451.136398</td>\n",
       "      <td>2.647098e+06</td>\n",
       "    </tr>\n",
       "    <tr>\n",
       "      <th>min</th>\n",
       "      <td>209.412394</td>\n",
       "      <td>2.468703e+03</td>\n",
       "    </tr>\n",
       "    <tr>\n",
       "      <th>25%</th>\n",
       "      <td>2674.993251</td>\n",
       "      <td>2.514283e+05</td>\n",
       "    </tr>\n",
       "    <tr>\n",
       "      <th>50%</th>\n",
       "      <td>3965.881767</td>\n",
       "      <td>5.023400e+05</td>\n",
       "    </tr>\n",
       "    <tr>\n",
       "      <th>75%</th>\n",
       "      <td>6862.455481</td>\n",
       "      <td>1.410772e+06</td>\n",
       "    </tr>\n",
       "    <tr>\n",
       "      <th>max</th>\n",
       "      <td>67015.528733</td>\n",
       "      <td>5.848998e+07</td>\n",
       "    </tr>\n",
       "  </tbody>\n",
       "</table>\n",
       "</div>"
      ],
      "text/plain": [
       "         Shape_Leng    Shape_Area\n",
       "count  20448.000000  2.044800e+04\n",
       "mean    5979.998639  1.499376e+06\n",
       "std     5451.136398  2.647098e+06\n",
       "min      209.412394  2.468703e+03\n",
       "25%     2674.993251  2.514283e+05\n",
       "50%     3965.881767  5.023400e+05\n",
       "75%     6862.455481  1.410772e+06\n",
       "max    67015.528733  5.848998e+07"
      ]
     },
     "execution_count": 12,
     "metadata": {},
     "output_type": "execute_result"
    }
   ],
   "source": [
    "#to find basic statasic information of the dataframe\n",
    "df.describe()"
   ]
  },
  {
   "cell_type": "code",
   "execution_count": 13,
   "metadata": {},
   "outputs": [
    {
     "data": {
      "text/plain": [
       "ModifDate       object\n",
       "NISCode         object\n",
       "Shape_Leng     float64\n",
       "Shape_Area     float64\n",
       "geometry      geometry\n",
       "dtype: object"
      ]
     },
     "execution_count": 13,
     "metadata": {},
     "output_type": "execute_result"
    }
   ],
   "source": [
    "#to find the datatypes of each column\n",
    "df.dtypes"
   ]
  },
  {
   "cell_type": "code",
   "execution_count": 14,
   "metadata": {},
   "outputs": [
    {
     "data": {
      "text/plain": [
       "<bound method Series.unique of 0        24094B09-\n",
       "1        21001A53-\n",
       "2        21012A63-\n",
       "3        52011K011\n",
       "4        21017A443\n",
       "           ...    \n",
       "20443    44036B012\n",
       "20444    44036A00-\n",
       "20445    44072A32-\n",
       "20446    44072A31-\n",
       "20447    44036A091\n",
       "Name: NISCode, Length: 20448, dtype: object>"
      ]
     },
     "execution_count": 14,
     "metadata": {},
     "output_type": "execute_result"
    }
   ],
   "source": [
    "#try to find if column has any duplicates\n",
    "df['NISCode'].unique"
   ]
  },
  {
   "cell_type": "code",
   "execution_count": 15,
   "metadata": {},
   "outputs": [
    {
     "data": {
      "image/svg+xml": [
       "<svg xmlns=\"http://www.w3.org/2000/svg\" xmlns:xlink=\"http://www.w3.org/1999/xlink\" width=\"100.0\" height=\"100.0\" viewBox=\"4.501561663743323 50.43077625626327 0.016391892618220716 0.013492892969779291\" preserveAspectRatio=\"xMinYMin meet\"><g transform=\"matrix(1,0,0,-1,0,100.87504540549632)\"><path fill-rule=\"evenodd\" fill=\"#66cc99\" stroke=\"#555555\" stroke-width=\"0.00032783785236441433\" opacity=\"0.6\" d=\"M 4.516316686595719,50.44365846907885 L 4.516603577024923,50.44358512138251 L 4.516751515211313,50.44350381001019 L 4.516833657561775,50.443425498205876 L 4.516926197995258,50.44337227488622 L 4.516992922983869,50.44336138308731 L 4.517131072185548,50.443353895141634 L 4.5172159551131985,50.44331150664385 L 4.517346449227536,50.44334816351065 L 4.516680267655377,50.44257582196163 L 4.516433831638304,50.4423440040455 L 4.516066638107315,50.44190247124357 L 4.515663596936164,50.44146119404385 L 4.515392046618546,50.441213461444875 L 4.51486339982527,50.440482472921175 L 4.5143442753703145,50.439909221266994 L 4.5136233545316164,50.43922960207978 L 4.5133764274834824,50.43897031459237 L 4.5131401741136035,50.438676668437274 L 4.512961175287859,50.43840331982081 L 4.512807189167238,50.43810921799452 L 4.5131193275300125,50.43790177201663 L 4.513518630277922,50.43778755908067 L 4.513875840789476,50.43800512691801 L 4.514297310198187,50.43823167329595 L 4.514415294736455,50.438331752528704 L 4.515606789303248,50.437130740862926 L 4.5154633753846705,50.437057737054225 L 4.515244049781067,50.436832976352584 L 4.514829948375543,50.4360704461771 L 4.514730152240487,50.435805076171306 L 4.513979376949566,50.43612616089694 L 4.513365677935149,50.435605840476576 L 4.512807476315997,50.43582532528956 L 4.510885944679709,50.43578808944319 L 4.510059547947231,50.43576276545533 L 4.510059198438142,50.43564603373228 L 4.5094685069397755,50.43507994346945 L 4.509033186501631,50.43461592501965 L 4.508624982057747,50.434318683112096 L 4.50774921928592,50.43328093358507 L 4.5071574155172485,50.432616568513616 L 4.506979005384739,50.43237516591529 L 4.506544669433957,50.43200490235485 L 4.506323921856745,50.43179803515765 L 4.506271583110848,50.43179936323179 L 4.5057346435321906,50.43138336339728 L 4.5056164540946115,50.43158326299044 L 4.505499819984086,50.43185637424546 L 4.5053659579059495,50.432305995719055 L 4.505358673029491,50.43238979686174 L 4.5053840052891765,50.433102794178865 L 4.505374989579744,50.43334138738066 L 4.5053468153710545,50.433442845005416 L 4.505277021244059,50.4335634507979 L 4.5050481416269355,50.433802402141374 L 4.504948988658087,50.433892378120944 L 4.504379545775648,50.43451296329269 L 4.503399770676138,50.43572853777965 L 4.503164670377708,50.436043534486124 L 4.50310352995834,50.43618901406619 L 4.502957882137757,50.436429907966705 L 4.50288509126118,50.43660079140072 L 4.502574615823939,50.43674372041261 L 4.502168770877331,50.438225294795025 L 4.503496758167207,50.43813703576882 L 4.503520849461726,50.438114819598646 L 4.503947009099111,50.43804824347847 L 4.504175394988007,50.4381711347031 L 4.504629624073399,50.43837840426839 L 4.505547488531786,50.43877471166455 L 4.506346381664277,50.439087670178665 L 4.50834971755201,50.4396613994869 L 4.508253847748834,50.43976493073471 L 4.508328572845525,50.43980834565492 L 4.508340046544691,50.4399041775795 L 4.508357723298642,50.439954475054 L 4.508489636711919,50.440004275 L 4.508682333918873,50.44000067164121 L 4.508796979990202,50.44000959517044 L 4.508610712743075,50.44031126488608 L 4.508426046321325,50.4406399554448 L 4.509431619177888,50.44080751238351 L 4.51062879134824,50.44116876764828 L 4.511353842905828,50.44181005640082 L 4.513983604901138,50.44247817004355 L 4.514696788459958,50.442669946983905 L 4.514932128839184,50.4427415589958 L 4.515087801356632,50.442831247425765 L 4.515142696264403,50.44288582742513 L 4.515257946395125,50.44293975653032 L 4.515368753286265,50.44301396970234 L 4.51559625025166,50.443141173820436 L 4.515994251138684,50.44339887896352 L 4.516078500651293,50.443445027813056 L 4.516124727115476,50.4435066020554 L 4.516186751145336,50.4435938046213 L 4.516214979519641,50.44361700861915 L 4.5162776872040835,50.44366204209904 L 4.516316686595719,50.44365846907885 z\" /></g></svg>"
      ],
      "text/plain": [
       "<shapely.geometry.polygon.Polygon at 0x7fae2906d650>"
      ]
     },
     "execution_count": 15,
     "metadata": {},
     "output_type": "execute_result"
    }
   ],
   "source": [
    "#trying to visaulize a random row of geomtry column\n",
    "df.geometry[2000]"
   ]
  },
  {
   "cell_type": "code",
   "execution_count": 16,
   "metadata": {},
   "outputs": [],
   "source": [
    "# One of the data scientists discovered stackoverflow ;-) and copypasted something from https://gis.stackexchange.com/questions/166820/geopandas-return-lat-and-long-of-a-centroid-point\n",
    "# A data science engineer should be able to speed this next code up\n",
    "# using geopands centroid to speed the prcess\n",
    "df[\"centroid_lon\"] = df.centroid.x\n",
    "df[\"centroid_lat\"] = df.centroid.y"
   ]
  },
  {
   "cell_type": "code",
   "execution_count": 17,
   "metadata": {},
   "outputs": [],
   "source": [
    "# Let's create some variables to indicate the location of your interest \n",
    "home_lat = 50.331070846806945\n",
    "home_lon = 6.286062191327943\n",
    "perimeter_distance = 2 # km"
   ]
  },
  {
   "cell_type": "code",
   "execution_count": 18,
   "metadata": {},
   "outputs": [],
   "source": [
    "# At some point we will need a distance function (google the Haversine formula, and implement it)\n",
    "\n",
    "def haversine(lat1, lon1, lat2, lon2):\n",
    "    '''function provides haversine distance between sets of longitudes and latitudes'''\n",
    "    # distance between latitudes\n",
    "    # and longitudes\n",
    "    dLat = (lat2 - lat1) * math.pi / 180.0\n",
    "    dLon = (lon2 - lon1) * math.pi / 180.0\n",
    "  \n",
    "    # convert to radians\n",
    "    lat1 = (lat1) * math.pi / 180.0\n",
    "    lat2 = (lat2) * math.pi / 180.0\n",
    "  \n",
    "    # apply formulae\n",
    "    a = (pow(math.sin(dLat / 2), 2) + \n",
    "         pow(math.sin(dLon / 2), 2) * \n",
    "             math.cos(lat1) * math.cos(lat2));\n",
    "    rad = 6371\n",
    "    c = 2 * math.asin(math.sqrt(a))\n",
    "    return rad * c\n"
   ]
  },
  {
   "cell_type": "markdown",
   "metadata": {},
   "source": [
    "Next, implement some sanity checks for your distance function "
   ]
  },
  {
   "cell_type": "code",
   "execution_count": 19,
   "metadata": {},
   "outputs": [
    {
     "name": "stdout",
     "output_type": "stream",
     "text": [
      "7598.823867580553 K.M.\n"
     ]
    }
   ],
   "source": [
    "# implement sanity checks here\n",
    "print(haversine(61.5007, 0.1246,10.6892, 64.0445), \"K.M.\")\n"
   ]
  },
  {
   "cell_type": "code",
   "execution_count": 20,
   "metadata": {},
   "outputs": [],
   "source": [
    "#added a new column to find the distance between our point to the geomtery is given\n",
    "df[\"dist_from_home\"]=df.apply(lambda df : haversine(home_lat,home_lon, df['centroid_lon'],df['centroid_lat']), axis = 1)"
   ]
  },
  {
   "cell_type": "code",
   "execution_count": 21,
   "metadata": {},
   "outputs": [],
   "source": [
    "#sorting the values in ascending order to get the nearest nis districts\n",
    "df.sort_values(\"dist_from_home\", axis = 0, ascending = True,inplace = True, na_position ='last')"
   ]
  },
  {
   "cell_type": "markdown",
   "metadata": {},
   "source": [
    "Now, create a dynamical map "
   ]
  },
  {
   "cell_type": "code",
   "execution_count": 22,
   "metadata": {},
   "outputs": [],
   "source": [
    "# implementation of the map goes here"
   ]
  },
  {
   "cell_type": "code",
   "execution_count": 23,
   "metadata": {},
   "outputs": [],
   "source": [
    "#instantiate map object and point to our home lat and longitudes\n",
    "map = folium.Map(location=[home_lat, home_lon])"
   ]
  },
  {
   "cell_type": "code",
   "execution_count": 24,
   "metadata": {},
   "outputs": [],
   "source": [
    "# add markers for the required NISCodes\n",
    "#i have taken top 100 NIScodes as we have already sorted in ascneding order.\n",
    "for i in range(0,len(df[:100])):\n",
    "   folium.Marker(\n",
    "      location=[df.iloc[i]['centroid_lat'], df.iloc[i]['centroid_lon']],\n",
    "      popup=df.iloc[i]['NISCode'],\n",
    "   ).add_to(map)"
   ]
  },
  {
   "cell_type": "code",
   "execution_count": 25,
   "metadata": {},
   "outputs": [
    {
     "data": {
      "text/html": [
       "<div style=\"width:100%;\"><div style=\"position:relative;width:100%;height:0;padding-bottom:60%;\"><span style=\"color:#565656\">Make this Notebook Trusted to load map: File -> Trust Notebook</span><iframe src=\"about:blank\" style=\"position:absolute;width:100%;height:100%;left:0;top:0;border:none !important;\" data-html=%3C%21DOCTYPE%20html%3E%0A%3Chead%3E%20%20%20%20%0A%20%20%20%20%3Cmeta%20http-equiv%3D%22content-type%22%20content%3D%22text/html%3B%20charset%3DUTF-8%22%20/%3E%0A%20%20%20%20%0A%20%20%20%20%20%20%20%20%3Cscript%3E%0A%20%20%20%20%20%20%20%20%20%20%20%20L_NO_TOUCH%20%3D%20false%3B%0A%20%20%20%20%20%20%20%20%20%20%20%20L_DISABLE_3D%20%3D%20false%3B%0A%20%20%20%20%20%20%20%20%3C/script%3E%0A%20%20%20%20%0A%20%20%20%20%3Cstyle%3Ehtml%2C%20body%20%7Bwidth%3A%20100%25%3Bheight%3A%20100%25%3Bmargin%3A%200%3Bpadding%3A%200%3B%7D%3C/style%3E%0A%20%20%20%20%3Cstyle%3E%23map%20%7Bposition%3Aabsolute%3Btop%3A0%3Bbottom%3A0%3Bright%3A0%3Bleft%3A0%3B%7D%3C/style%3E%0A%20%20%20%20%3Cscript%20src%3D%22https%3A//cdn.jsdelivr.net/npm/leaflet%401.6.0/dist/leaflet.js%22%3E%3C/script%3E%0A%20%20%20%20%3Cscript%20src%3D%22https%3A//code.jquery.com/jquery-1.12.4.min.js%22%3E%3C/script%3E%0A%20%20%20%20%3Cscript%20src%3D%22https%3A//maxcdn.bootstrapcdn.com/bootstrap/3.2.0/js/bootstrap.min.js%22%3E%3C/script%3E%0A%20%20%20%20%3Cscript%20src%3D%22https%3A//cdnjs.cloudflare.com/ajax/libs/Leaflet.awesome-markers/2.0.2/leaflet.awesome-markers.js%22%3E%3C/script%3E%0A%20%20%20%20%3Clink%20rel%3D%22stylesheet%22%20href%3D%22https%3A//cdn.jsdelivr.net/npm/leaflet%401.6.0/dist/leaflet.css%22/%3E%0A%20%20%20%20%3Clink%20rel%3D%22stylesheet%22%20href%3D%22https%3A//maxcdn.bootstrapcdn.com/bootstrap/3.2.0/css/bootstrap.min.css%22/%3E%0A%20%20%20%20%3Clink%20rel%3D%22stylesheet%22%20href%3D%22https%3A//maxcdn.bootstrapcdn.com/bootstrap/3.2.0/css/bootstrap-theme.min.css%22/%3E%0A%20%20%20%20%3Clink%20rel%3D%22stylesheet%22%20href%3D%22https%3A//maxcdn.bootstrapcdn.com/font-awesome/4.6.3/css/font-awesome.min.css%22/%3E%0A%20%20%20%20%3Clink%20rel%3D%22stylesheet%22%20href%3D%22https%3A//cdnjs.cloudflare.com/ajax/libs/Leaflet.awesome-markers/2.0.2/leaflet.awesome-markers.css%22/%3E%0A%20%20%20%20%3Clink%20rel%3D%22stylesheet%22%20href%3D%22https%3A//cdn.jsdelivr.net/gh/python-visualization/folium/folium/templates/leaflet.awesome.rotate.min.css%22/%3E%0A%20%20%20%20%0A%20%20%20%20%20%20%20%20%20%20%20%20%3Cmeta%20name%3D%22viewport%22%20content%3D%22width%3Ddevice-width%2C%0A%20%20%20%20%20%20%20%20%20%20%20%20%20%20%20%20initial-scale%3D1.0%2C%20maximum-scale%3D1.0%2C%20user-scalable%3Dno%22%20/%3E%0A%20%20%20%20%20%20%20%20%20%20%20%20%3Cstyle%3E%0A%20%20%20%20%20%20%20%20%20%20%20%20%20%20%20%20%23map_7145a60b17cf4d14a77be449870bc787%20%7B%0A%20%20%20%20%20%20%20%20%20%20%20%20%20%20%20%20%20%20%20%20position%3A%20relative%3B%0A%20%20%20%20%20%20%20%20%20%20%20%20%20%20%20%20%20%20%20%20width%3A%20100.0%25%3B%0A%20%20%20%20%20%20%20%20%20%20%20%20%20%20%20%20%20%20%20%20height%3A%20100.0%25%3B%0A%20%20%20%20%20%20%20%20%20%20%20%20%20%20%20%20%20%20%20%20left%3A%200.0%25%3B%0A%20%20%20%20%20%20%20%20%20%20%20%20%20%20%20%20%20%20%20%20top%3A%200.0%25%3B%0A%20%20%20%20%20%20%20%20%20%20%20%20%20%20%20%20%7D%0A%20%20%20%20%20%20%20%20%20%20%20%20%3C/style%3E%0A%20%20%20%20%20%20%20%20%0A%3C/head%3E%0A%3Cbody%3E%20%20%20%20%0A%20%20%20%20%0A%20%20%20%20%20%20%20%20%20%20%20%20%3Cdiv%20class%3D%22folium-map%22%20id%3D%22map_7145a60b17cf4d14a77be449870bc787%22%20%3E%3C/div%3E%0A%20%20%20%20%20%20%20%20%0A%3C/body%3E%0A%3Cscript%3E%20%20%20%20%0A%20%20%20%20%0A%20%20%20%20%20%20%20%20%20%20%20%20var%20map_7145a60b17cf4d14a77be449870bc787%20%3D%20L.map%28%0A%20%20%20%20%20%20%20%20%20%20%20%20%20%20%20%20%22map_7145a60b17cf4d14a77be449870bc787%22%2C%0A%20%20%20%20%20%20%20%20%20%20%20%20%20%20%20%20%7B%0A%20%20%20%20%20%20%20%20%20%20%20%20%20%20%20%20%20%20%20%20center%3A%20%5B50.331070846806945%2C%206.286062191327943%5D%2C%0A%20%20%20%20%20%20%20%20%20%20%20%20%20%20%20%20%20%20%20%20crs%3A%20L.CRS.EPSG3857%2C%0A%20%20%20%20%20%20%20%20%20%20%20%20%20%20%20%20%20%20%20%20zoom%3A%2010%2C%0A%20%20%20%20%20%20%20%20%20%20%20%20%20%20%20%20%20%20%20%20zoomControl%3A%20true%2C%0A%20%20%20%20%20%20%20%20%20%20%20%20%20%20%20%20%20%20%20%20preferCanvas%3A%20false%2C%0A%20%20%20%20%20%20%20%20%20%20%20%20%20%20%20%20%7D%0A%20%20%20%20%20%20%20%20%20%20%20%20%29%3B%0A%0A%20%20%20%20%20%20%20%20%20%20%20%20%0A%0A%20%20%20%20%20%20%20%20%0A%20%20%20%20%0A%20%20%20%20%20%20%20%20%20%20%20%20var%20tile_layer_eb7bfc02fcea4288932062b2ff4a7ccf%20%3D%20L.tileLayer%28%0A%20%20%20%20%20%20%20%20%20%20%20%20%20%20%20%20%22https%3A//%7Bs%7D.tile.openstreetmap.org/%7Bz%7D/%7Bx%7D/%7By%7D.png%22%2C%0A%20%20%20%20%20%20%20%20%20%20%20%20%20%20%20%20%7B%22attribution%22%3A%20%22Data%20by%20%5Cu0026copy%3B%20%5Cu003ca%20href%3D%5C%22http%3A//openstreetmap.org%5C%22%5Cu003eOpenStreetMap%5Cu003c/a%5Cu003e%2C%20under%20%5Cu003ca%20href%3D%5C%22http%3A//www.openstreetmap.org/copyright%5C%22%5Cu003eODbL%5Cu003c/a%5Cu003e.%22%2C%20%22detectRetina%22%3A%20false%2C%20%22maxNativeZoom%22%3A%2018%2C%20%22maxZoom%22%3A%2018%2C%20%22minZoom%22%3A%200%2C%20%22noWrap%22%3A%20false%2C%20%22opacity%22%3A%201%2C%20%22subdomains%22%3A%20%22abc%22%2C%20%22tms%22%3A%20false%7D%0A%20%20%20%20%20%20%20%20%20%20%20%20%29.addTo%28map_7145a60b17cf4d14a77be449870bc787%29%3B%0A%20%20%20%20%20%20%20%20%0A%20%20%20%20%0A%20%20%20%20%20%20%20%20%20%20%20%20var%20marker_630d7c9df49945ef9444bee9c40b7fea%20%3D%20L.marker%28%0A%20%20%20%20%20%20%20%20%20%20%20%20%20%20%20%20%5B50.33219686841573%2C%206.382801594660047%5D%2C%0A%20%20%20%20%20%20%20%20%20%20%20%20%20%20%20%20%7B%7D%0A%20%20%20%20%20%20%20%20%20%20%20%20%29.addTo%28map_7145a60b17cf4d14a77be449870bc787%29%3B%0A%20%20%20%20%20%20%20%20%0A%20%20%20%20%0A%20%20%20%20%20%20%20%20var%20popup_8d099631c1814c39aca9347bbaee91ab%20%3D%20L.popup%28%7B%22maxWidth%22%3A%20%22100%25%22%7D%29%3B%0A%0A%20%20%20%20%20%20%20%20%0A%20%20%20%20%20%20%20%20%20%20%20%20var%20html_cc3cf36c2d664015848f796b0c226a98%20%3D%20%24%28%60%3Cdiv%20id%3D%22html_cc3cf36c2d664015848f796b0c226a98%22%20style%3D%22width%3A%20100.0%25%3B%20height%3A%20100.0%25%3B%22%3E63012C290%3C/div%3E%60%29%5B0%5D%3B%0A%20%20%20%20%20%20%20%20%20%20%20%20popup_8d099631c1814c39aca9347bbaee91ab.setContent%28html_cc3cf36c2d664015848f796b0c226a98%29%3B%0A%20%20%20%20%20%20%20%20%0A%0A%20%20%20%20%20%20%20%20marker_630d7c9df49945ef9444bee9c40b7fea.bindPopup%28popup_8d099631c1814c39aca9347bbaee91ab%29%0A%20%20%20%20%20%20%20%20%3B%0A%0A%20%20%20%20%20%20%20%20%0A%20%20%20%20%0A%20%20%20%20%0A%20%20%20%20%20%20%20%20%20%20%20%20var%20marker_97ccb6f4cdf046d890961d06f7c2e6ed%20%3D%20L.marker%28%0A%20%20%20%20%20%20%20%20%20%20%20%20%20%20%20%20%5B50.332106057856144%2C%206.381539070813085%5D%2C%0A%20%20%20%20%20%20%20%20%20%20%20%20%20%20%20%20%7B%7D%0A%20%20%20%20%20%20%20%20%20%20%20%20%29.addTo%28map_7145a60b17cf4d14a77be449870bc787%29%3B%0A%20%20%20%20%20%20%20%20%0A%20%20%20%20%0A%20%20%20%20%20%20%20%20var%20popup_58aa1226d99d4dcf8d3a606b9781a520%20%3D%20L.popup%28%7B%22maxWidth%22%3A%20%22100%25%22%7D%29%3B%0A%0A%20%20%20%20%20%20%20%20%0A%20%20%20%20%20%20%20%20%20%20%20%20var%20html_7c612f1fdfc4468584229c6f1f91f8d9%20%3D%20%24%28%60%3Cdiv%20id%3D%22html_7c612f1fdfc4468584229c6f1f91f8d9%22%20style%3D%22width%3A%20100.0%25%3B%20height%3A%20100.0%25%3B%22%3E63012C200%3C/div%3E%60%29%5B0%5D%3B%0A%20%20%20%20%20%20%20%20%20%20%20%20popup_58aa1226d99d4dcf8d3a606b9781a520.setContent%28html_7c612f1fdfc4468584229c6f1f91f8d9%29%3B%0A%20%20%20%20%20%20%20%20%0A%0A%20%20%20%20%20%20%20%20marker_97ccb6f4cdf046d890961d06f7c2e6ed.bindPopup%28popup_58aa1226d99d4dcf8d3a606b9781a520%29%0A%20%20%20%20%20%20%20%20%3B%0A%0A%20%20%20%20%20%20%20%20%0A%20%20%20%20%0A%20%20%20%20%0A%20%20%20%20%20%20%20%20%20%20%20%20var%20marker_49cc8be60eb444a4a40ae9a8ff24dce5%20%3D%20L.marker%28%0A%20%20%20%20%20%20%20%20%20%20%20%20%20%20%20%20%5B50.31782185207115%2C%206.356566049130404%5D%2C%0A%20%20%20%20%20%20%20%20%20%20%20%20%20%20%20%20%7B%7D%0A%20%20%20%20%20%20%20%20%20%20%20%20%29.addTo%28map_7145a60b17cf4d14a77be449870bc787%29%3B%0A%20%20%20%20%20%20%20%20%0A%20%20%20%20%0A%20%20%20%20%20%20%20%20var%20popup_579749d38a774c2c8809ae8c26267a86%20%3D%20L.popup%28%7B%22maxWidth%22%3A%20%22100%25%22%7D%29%3B%0A%0A%20%20%20%20%20%20%20%20%0A%20%20%20%20%20%20%20%20%20%20%20%20var%20html_a2ce9ea6d87d4cc7870322028986536f%20%3D%20%24%28%60%3Cdiv%20id%3D%22html_a2ce9ea6d87d4cc7870322028986536f%22%20style%3D%22width%3A%20100.0%25%3B%20height%3A%20100.0%25%3B%22%3E63012C39-%3C/div%3E%60%29%5B0%5D%3B%0A%20%20%20%20%20%20%20%20%20%20%20%20popup_579749d38a774c2c8809ae8c26267a86.setContent%28html_a2ce9ea6d87d4cc7870322028986536f%29%3B%0A%20%20%20%20%20%20%20%20%0A%0A%20%20%20%20%20%20%20%20marker_49cc8be60eb444a4a40ae9a8ff24dce5.bindPopup%28popup_579749d38a774c2c8809ae8c26267a86%29%0A%20%20%20%20%20%20%20%20%3B%0A%0A%20%20%20%20%20%20%20%20%0A%20%20%20%20%0A%20%20%20%20%0A%20%20%20%20%20%20%20%20%20%20%20%20var%20marker_a7856e81fd6c424fa1a4fcc1e4f91600%20%3D%20L.marker%28%0A%20%20%20%20%20%20%20%20%20%20%20%20%20%20%20%20%5B50.31977267105303%2C%206.356589540033322%5D%2C%0A%20%20%20%20%20%20%20%20%20%20%20%20%20%20%20%20%7B%7D%0A%20%20%20%20%20%20%20%20%20%20%20%20%29.addTo%28map_7145a60b17cf4d14a77be449870bc787%29%3B%0A%20%20%20%20%20%20%20%20%0A%20%20%20%20%0A%20%20%20%20%20%20%20%20var%20popup_8600c4b275f74fdcb8faa874cc897e20%20%3D%20L.popup%28%7B%22maxWidth%22%3A%20%22100%25%22%7D%29%3B%0A%0A%20%20%20%20%20%20%20%20%0A%20%20%20%20%20%20%20%20%20%20%20%20var%20html_6dde0efc7b5c4b14bfbef1f88cc9e334%20%3D%20%24%28%60%3Cdiv%20id%3D%22html_6dde0efc7b5c4b14bfbef1f88cc9e334%22%20style%3D%22width%3A%20100.0%25%3B%20height%3A%20100.0%25%3B%22%3E63012C300%3C/div%3E%60%29%5B0%5D%3B%0A%20%20%20%20%20%20%20%20%20%20%20%20popup_8600c4b275f74fdcb8faa874cc897e20.setContent%28html_6dde0efc7b5c4b14bfbef1f88cc9e334%29%3B%0A%20%20%20%20%20%20%20%20%0A%0A%20%20%20%20%20%20%20%20marker_a7856e81fd6c424fa1a4fcc1e4f91600.bindPopup%28popup_8600c4b275f74fdcb8faa874cc897e20%29%0A%20%20%20%20%20%20%20%20%3B%0A%0A%20%20%20%20%20%20%20%20%0A%20%20%20%20%0A%20%20%20%20%0A%20%20%20%20%20%20%20%20%20%20%20%20var%20marker_bebe1c3c1a8d4f4faba2b8c7109c4a19%20%3D%20L.marker%28%0A%20%20%20%20%20%20%20%20%20%20%20%20%20%20%20%20%5B50.34817540267348%2C%206.366272998855092%5D%2C%0A%20%20%20%20%20%20%20%20%20%20%20%20%20%20%20%20%7B%7D%0A%20%20%20%20%20%20%20%20%20%20%20%20%29.addTo%28map_7145a60b17cf4d14a77be449870bc787%29%3B%0A%20%20%20%20%20%20%20%20%0A%20%20%20%20%0A%20%20%20%20%20%20%20%20var%20popup_05fc95fdbe5f4582a4aa91374bd01901%20%3D%20L.popup%28%7B%22maxWidth%22%3A%20%22100%25%22%7D%29%3B%0A%0A%20%20%20%20%20%20%20%20%0A%20%20%20%20%20%20%20%20%20%20%20%20var%20html_edc4c2bb75964c72ba5a853b5cd19fd4%20%3D%20%24%28%60%3Cdiv%20id%3D%22html_edc4c2bb75964c72ba5a853b5cd19fd4%22%20style%3D%22width%3A%20100.0%25%3B%20height%3A%20100.0%25%3B%22%3E63012C102%3C/div%3E%60%29%5B0%5D%3B%0A%20%20%20%20%20%20%20%20%20%20%20%20popup_05fc95fdbe5f4582a4aa91374bd01901.setContent%28html_edc4c2bb75964c72ba5a853b5cd19fd4%29%3B%0A%20%20%20%20%20%20%20%20%0A%0A%20%20%20%20%20%20%20%20marker_bebe1c3c1a8d4f4faba2b8c7109c4a19.bindPopup%28popup_05fc95fdbe5f4582a4aa91374bd01901%29%0A%20%20%20%20%20%20%20%20%3B%0A%0A%20%20%20%20%20%20%20%20%0A%20%20%20%20%0A%20%20%20%20%0A%20%20%20%20%20%20%20%20%20%20%20%20var%20marker_bc0a85643a0142028adc8c7cb295d24e%20%3D%20L.marker%28%0A%20%20%20%20%20%20%20%20%20%20%20%20%20%20%20%20%5B50.348752956986516%2C%206.364957807803191%5D%2C%0A%20%20%20%20%20%20%20%20%20%20%20%20%20%20%20%20%7B%7D%0A%20%20%20%20%20%20%20%20%20%20%20%20%29.addTo%28map_7145a60b17cf4d14a77be449870bc787%29%3B%0A%20%20%20%20%20%20%20%20%0A%20%20%20%20%0A%20%20%20%20%20%20%20%20var%20popup_8493d759deb1432bbef363843148cc05%20%3D%20L.popup%28%7B%22maxWidth%22%3A%20%22100%25%22%7D%29%3B%0A%0A%20%20%20%20%20%20%20%20%0A%20%20%20%20%20%20%20%20%20%20%20%20var%20html_bc9d9b5fd4e24966a7dd113630c53332%20%3D%20%24%28%60%3Cdiv%20id%3D%22html_bc9d9b5fd4e24966a7dd113630c53332%22%20style%3D%22width%3A%20100.0%25%3B%20height%3A%20100.0%25%3B%22%3E63012C191%3C/div%3E%60%29%5B0%5D%3B%0A%20%20%20%20%20%20%20%20%20%20%20%20popup_8493d759deb1432bbef363843148cc05.setContent%28html_bc9d9b5fd4e24966a7dd113630c53332%29%3B%0A%20%20%20%20%20%20%20%20%0A%0A%20%20%20%20%20%20%20%20marker_bc0a85643a0142028adc8c7cb295d24e.bindPopup%28popup_8493d759deb1432bbef363843148cc05%29%0A%20%20%20%20%20%20%20%20%3B%0A%0A%20%20%20%20%20%20%20%20%0A%20%20%20%20%0A%20%20%20%20%0A%20%20%20%20%20%20%20%20%20%20%20%20var%20marker_6550b6ba6ee449ca8a9252ce3cf8a3cf%20%3D%20L.marker%28%0A%20%20%20%20%20%20%20%20%20%20%20%20%20%20%20%20%5B50.329967161447364%2C%206.3432311362658504%5D%2C%0A%20%20%20%20%20%20%20%20%20%20%20%20%20%20%20%20%7B%7D%0A%20%20%20%20%20%20%20%20%20%20%20%20%29.addTo%28map_7145a60b17cf4d14a77be449870bc787%29%3B%0A%20%20%20%20%20%20%20%20%0A%20%20%20%20%0A%20%20%20%20%20%20%20%20var%20popup_b243bd6aaa4f4da3854e7b9bbdc36727%20%3D%20L.popup%28%7B%22maxWidth%22%3A%20%22100%25%22%7D%29%3B%0A%0A%20%20%20%20%20%20%20%20%0A%20%20%20%20%20%20%20%20%20%20%20%20var%20html_2ab92400d3be4a42ad31b1c75acc1880%20%3D%20%24%28%60%3Cdiv%20id%3D%22html_2ab92400d3be4a42ad31b1c75acc1880%22%20style%3D%22width%3A%20100.0%25%3B%20height%3A%20100.0%25%3B%22%3E63012C00-%3C/div%3E%60%29%5B0%5D%3B%0A%20%20%20%20%20%20%20%20%20%20%20%20popup_b243bd6aaa4f4da3854e7b9bbdc36727.setContent%28html_2ab92400d3be4a42ad31b1c75acc1880%29%3B%0A%20%20%20%20%20%20%20%20%0A%0A%20%20%20%20%20%20%20%20marker_6550b6ba6ee449ca8a9252ce3cf8a3cf.bindPopup%28popup_b243bd6aaa4f4da3854e7b9bbdc36727%29%0A%20%20%20%20%20%20%20%20%3B%0A%0A%20%20%20%20%20%20%20%20%0A%20%20%20%20%0A%20%20%20%20%0A%20%20%20%20%20%20%20%20%20%20%20%20var%20marker_cdafcae1b8e44c6bacbd6a9616fc349f%20%3D%20L.marker%28%0A%20%20%20%20%20%20%20%20%20%20%20%20%20%20%20%20%5B50.33436530471307%2C%206.332923556025205%5D%2C%0A%20%20%20%20%20%20%20%20%20%20%20%20%20%20%20%20%7B%7D%0A%20%20%20%20%20%20%20%20%20%20%20%20%29.addTo%28map_7145a60b17cf4d14a77be449870bc787%29%3B%0A%20%20%20%20%20%20%20%20%0A%20%20%20%20%0A%20%20%20%20%20%20%20%20var%20popup_f5f7ff5252904e0ca4d053a39a4c4287%20%3D%20L.popup%28%7B%22maxWidth%22%3A%20%22100%25%22%7D%29%3B%0A%0A%20%20%20%20%20%20%20%20%0A%20%20%20%20%20%20%20%20%20%20%20%20var%20html_55b8b92d9b5b4b47afd3c2f6bb33a93c%20%3D%20%24%28%60%3Cdiv%20id%3D%22html_55b8b92d9b5b4b47afd3c2f6bb33a93c%22%20style%3D%22width%3A%20100.0%25%3B%20height%3A%20100.0%25%3B%22%3E63012C090%3C/div%3E%60%29%5B0%5D%3B%0A%20%20%20%20%20%20%20%20%20%20%20%20popup_f5f7ff5252904e0ca4d053a39a4c4287.setContent%28html_55b8b92d9b5b4b47afd3c2f6bb33a93c%29%3B%0A%20%20%20%20%20%20%20%20%0A%0A%20%20%20%20%20%20%20%20marker_cdafcae1b8e44c6bacbd6a9616fc349f.bindPopup%28popup_f5f7ff5252904e0ca4d053a39a4c4287%29%0A%20%20%20%20%20%20%20%20%3B%0A%0A%20%20%20%20%20%20%20%20%0A%20%20%20%20%0A%20%20%20%20%0A%20%20%20%20%20%20%20%20%20%20%20%20var%20marker_df13ff0fe7aa4995987cc92620aa9912%20%3D%20L.marker%28%0A%20%20%20%20%20%20%20%20%20%20%20%20%20%20%20%20%5B50.332576846641736%2C%206.326844658067928%5D%2C%0A%20%20%20%20%20%20%20%20%20%20%20%20%20%20%20%20%7B%7D%0A%20%20%20%20%20%20%20%20%20%20%20%20%29.addTo%28map_7145a60b17cf4d14a77be449870bc787%29%3B%0A%20%20%20%20%20%20%20%20%0A%20%20%20%20%0A%20%20%20%20%20%20%20%20var%20popup_f496f418d455460592cf2768e8d4240c%20%3D%20L.popup%28%7B%22maxWidth%22%3A%20%22100%25%22%7D%29%3B%0A%0A%20%20%20%20%20%20%20%20%0A%20%20%20%20%20%20%20%20%20%20%20%20var%20html_1f4164d05475439691be830dbb8f4eab%20%3D%20%24%28%60%3Cdiv%20id%3D%22html_1f4164d05475439691be830dbb8f4eab%22%20style%3D%22width%3A%20100.0%25%3B%20height%3A%20100.0%25%3B%22%3E63012C010%3C/div%3E%60%29%5B0%5D%3B%0A%20%20%20%20%20%20%20%20%20%20%20%20popup_f496f418d455460592cf2768e8d4240c.setContent%28html_1f4164d05475439691be830dbb8f4eab%29%3B%0A%20%20%20%20%20%20%20%20%0A%0A%20%20%20%20%20%20%20%20marker_df13ff0fe7aa4995987cc92620aa9912.bindPopup%28popup_f496f418d455460592cf2768e8d4240c%29%0A%20%20%20%20%20%20%20%20%3B%0A%0A%20%20%20%20%20%20%20%20%0A%20%20%20%20%0A%20%20%20%20%0A%20%20%20%20%20%20%20%20%20%20%20%20var%20marker_107de80ebfd94d5e86b06e3a4f96b6d2%20%3D%20L.marker%28%0A%20%20%20%20%20%20%20%20%20%20%20%20%20%20%20%20%5B49.56981501792275%2C%205.853997604372555%5D%2C%0A%20%20%20%20%20%20%20%20%20%20%20%20%20%20%20%20%7B%7D%0A%20%20%20%20%20%20%20%20%20%20%20%20%29.addTo%28map_7145a60b17cf4d14a77be449870bc787%29%3B%0A%20%20%20%20%20%20%20%20%0A%20%20%20%20%0A%20%20%20%20%20%20%20%20var%20popup_94bb86158f6a41e3889cf113b0ba2110%20%3D%20L.popup%28%7B%22maxWidth%22%3A%20%22100%25%22%7D%29%3B%0A%0A%20%20%20%20%20%20%20%20%0A%20%20%20%20%20%20%20%20%20%20%20%20var%20html_56ad3776066c49a9a5da0225c912edd3%20%3D%20%24%28%60%3Cdiv%20id%3D%22html_56ad3776066c49a9a5da0225c912edd3%22%20style%3D%22width%3A%20100.0%25%3B%20height%3A%20100.0%25%3B%22%3E81004B09-%3C/div%3E%60%29%5B0%5D%3B%0A%20%20%20%20%20%20%20%20%20%20%20%20popup_94bb86158f6a41e3889cf113b0ba2110.setContent%28html_56ad3776066c49a9a5da0225c912edd3%29%3B%0A%20%20%20%20%20%20%20%20%0A%0A%20%20%20%20%20%20%20%20marker_107de80ebfd94d5e86b06e3a4f96b6d2.bindPopup%28popup_94bb86158f6a41e3889cf113b0ba2110%29%0A%20%20%20%20%20%20%20%20%3B%0A%0A%20%20%20%20%20%20%20%20%0A%20%20%20%20%0A%20%20%20%20%0A%20%20%20%20%20%20%20%20%20%20%20%20var%20marker_0cceee59da6546e5947e6bbcfd4da039%20%3D%20L.marker%28%0A%20%20%20%20%20%20%20%20%20%20%20%20%20%20%20%20%5B50.35695302264723%2C%206.33534213468143%5D%2C%0A%20%20%20%20%20%20%20%20%20%20%20%20%20%20%20%20%7B%7D%0A%20%20%20%20%20%20%20%20%20%20%20%20%29.addTo%28map_7145a60b17cf4d14a77be449870bc787%29%3B%0A%20%20%20%20%20%20%20%20%0A%20%20%20%20%0A%20%20%20%20%20%20%20%20var%20popup_27f21f2b665c4871845629da05f1f578%20%3D%20L.popup%28%7B%22maxWidth%22%3A%20%22100%25%22%7D%29%3B%0A%0A%20%20%20%20%20%20%20%20%0A%20%20%20%20%20%20%20%20%20%20%20%20var%20html_33dcc81a98dc43828db7b94894a7b9fc%20%3D%20%24%28%60%3Cdiv%20id%3D%22html_33dcc81a98dc43828db7b94894a7b9fc%22%20style%3D%22width%3A%20100.0%25%3B%20height%3A%20100.0%25%3B%22%3E63012C50-%3C/div%3E%60%29%5B0%5D%3B%0A%20%20%20%20%20%20%20%20%20%20%20%20popup_27f21f2b665c4871845629da05f1f578.setContent%28html_33dcc81a98dc43828db7b94894a7b9fc%29%3B%0A%20%20%20%20%20%20%20%20%0A%0A%20%20%20%20%20%20%20%20marker_0cceee59da6546e5947e6bbcfd4da039.bindPopup%28popup_27f21f2b665c4871845629da05f1f578%29%0A%20%20%20%20%20%20%20%20%3B%0A%0A%20%20%20%20%20%20%20%20%0A%20%20%20%20%0A%20%20%20%20%0A%20%20%20%20%20%20%20%20%20%20%20%20var%20marker_732d9b2f29554aaaaec2cb809917969c%20%3D%20L.marker%28%0A%20%20%20%20%20%20%20%20%20%20%20%20%20%20%20%20%5B49.555973935444456%2C%205.840867611485827%5D%2C%0A%20%20%20%20%20%20%20%20%20%20%20%20%20%20%20%20%7B%7D%0A%20%20%20%20%20%20%20%20%20%20%20%20%29.addTo%28map_7145a60b17cf4d14a77be449870bc787%29%3B%0A%20%20%20%20%20%20%20%20%0A%20%20%20%20%0A%20%20%20%20%20%20%20%20var%20popup_42c8b1559b2547eea291adc1eadba346%20%3D%20L.popup%28%7B%22maxWidth%22%3A%20%22100%25%22%7D%29%3B%0A%0A%20%20%20%20%20%20%20%20%0A%20%20%20%20%20%20%20%20%20%20%20%20var%20html_0d5aea8ce2174f4dbf7edbfb4d73b339%20%3D%20%24%28%60%3Cdiv%20id%3D%22html_0d5aea8ce2174f4dbf7edbfb4d73b339%22%20style%3D%22width%3A%20100.0%25%3B%20height%3A%20100.0%25%3B%22%3E81004B03-%3C/div%3E%60%29%5B0%5D%3B%0A%20%20%20%20%20%20%20%20%20%20%20%20popup_42c8b1559b2547eea291adc1eadba346.setContent%28html_0d5aea8ce2174f4dbf7edbfb4d73b339%29%3B%0A%20%20%20%20%20%20%20%20%0A%0A%20%20%20%20%20%20%20%20marker_732d9b2f29554aaaaec2cb809917969c.bindPopup%28popup_42c8b1559b2547eea291adc1eadba346%29%0A%20%20%20%20%20%20%20%20%3B%0A%0A%20%20%20%20%20%20%20%20%0A%20%20%20%20%0A%20%20%20%20%0A%20%20%20%20%20%20%20%20%20%20%20%20var%20marker_7f74b78bec3040d5b22442b31b589320%20%3D%20L.marker%28%0A%20%20%20%20%20%20%20%20%20%20%20%20%20%20%20%20%5B50.36908020682362%2C%206.337249429751913%5D%2C%0A%20%20%20%20%20%20%20%20%20%20%20%20%20%20%20%20%7B%7D%0A%20%20%20%20%20%20%20%20%20%20%20%20%29.addTo%28map_7145a60b17cf4d14a77be449870bc787%29%3B%0A%20%20%20%20%20%20%20%20%0A%20%20%20%20%0A%20%20%20%20%20%20%20%20var%20popup_0f7674d7d8864cffb4480fdace4825a7%20%3D%20L.popup%28%7B%22maxWidth%22%3A%20%22100%25%22%7D%29%3B%0A%0A%20%20%20%20%20%20%20%20%0A%20%20%20%20%20%20%20%20%20%20%20%20var%20html_bb55959b954c42369c5fccf3328f903f%20%3D%20%24%28%60%3Cdiv%20id%3D%22html_bb55959b954c42369c5fccf3328f903f%22%20style%3D%22width%3A%20100.0%25%3B%20height%3A%20100.0%25%3B%22%3E63012C599%3C/div%3E%60%29%5B0%5D%3B%0A%20%20%20%20%20%20%20%20%20%20%20%20popup_0f7674d7d8864cffb4480fdace4825a7.setContent%28html_bb55959b954c42369c5fccf3328f903f%29%3B%0A%20%20%20%20%20%20%20%20%0A%0A%20%20%20%20%20%20%20%20marker_7f74b78bec3040d5b22442b31b589320.bindPopup%28popup_0f7674d7d8864cffb4480fdace4825a7%29%0A%20%20%20%20%20%20%20%20%3B%0A%0A%20%20%20%20%20%20%20%20%0A%20%20%20%20%0A%20%20%20%20%0A%20%20%20%20%20%20%20%20%20%20%20%20var%20marker_dd7a869ab2df4bcdb8e659a77d3b4665%20%3D%20L.marker%28%0A%20%20%20%20%20%20%20%20%20%20%20%20%20%20%20%20%5B49.581985224309484%2C%205.854553431609506%5D%2C%0A%20%20%20%20%20%20%20%20%20%20%20%20%20%20%20%20%7B%7D%0A%20%20%20%20%20%20%20%20%20%20%20%20%29.addTo%28map_7145a60b17cf4d14a77be449870bc787%29%3B%0A%20%20%20%20%20%20%20%20%0A%20%20%20%20%0A%20%20%20%20%20%20%20%20var%20popup_c07b4be8d4ac4f8e919b06373f172c9e%20%3D%20L.popup%28%7B%22maxWidth%22%3A%20%22100%25%22%7D%29%3B%0A%0A%20%20%20%20%20%20%20%20%0A%20%20%20%20%20%20%20%20%20%20%20%20var%20html_0ee6c7df7a95445ea2d427058f3830a8%20%3D%20%24%28%60%3Cdiv%20id%3D%22html_0ee6c7df7a95445ea2d427058f3830a8%22%20style%3D%22width%3A%20100.0%25%3B%20height%3A%20100.0%25%3B%22%3E81004B100%3C/div%3E%60%29%5B0%5D%3B%0A%20%20%20%20%20%20%20%20%20%20%20%20popup_c07b4be8d4ac4f8e919b06373f172c9e.setContent%28html_0ee6c7df7a95445ea2d427058f3830a8%29%3B%0A%20%20%20%20%20%20%20%20%0A%0A%20%20%20%20%20%20%20%20marker_dd7a869ab2df4bcdb8e659a77d3b4665.bindPopup%28popup_c07b4be8d4ac4f8e919b06373f172c9e%29%0A%20%20%20%20%20%20%20%20%3B%0A%0A%20%20%20%20%20%20%20%20%0A%20%20%20%20%0A%20%20%20%20%0A%20%20%20%20%20%20%20%20%20%20%20%20var%20marker_22a6a2bea65d41c997c1d22d8e8c9175%20%3D%20L.marker%28%0A%20%20%20%20%20%20%20%20%20%20%20%20%20%20%20%20%5B49.58272849730888%2C%205.854592189554026%5D%2C%0A%20%20%20%20%20%20%20%20%20%20%20%20%20%20%20%20%7B%7D%0A%20%20%20%20%20%20%20%20%20%20%20%20%29.addTo%28map_7145a60b17cf4d14a77be449870bc787%29%3B%0A%20%20%20%20%20%20%20%20%0A%20%20%20%20%0A%20%20%20%20%20%20%20%20var%20popup_2145db8e356f482a8e7cf90bc0c94999%20%3D%20L.popup%28%7B%22maxWidth%22%3A%20%22100%25%22%7D%29%3B%0A%0A%20%20%20%20%20%20%20%20%0A%20%20%20%20%20%20%20%20%20%20%20%20var%20html_7fcadef41d1f4154a37a9ac9052bd6b0%20%3D%20%24%28%60%3Cdiv%20id%3D%22html_7fcadef41d1f4154a37a9ac9052bd6b0%22%20style%3D%22width%3A%20100.0%25%3B%20height%3A%20100.0%25%3B%22%3E81004B191%3C/div%3E%60%29%5B0%5D%3B%0A%20%20%20%20%20%20%20%20%20%20%20%20popup_2145db8e356f482a8e7cf90bc0c94999.setContent%28html_7fcadef41d1f4154a37a9ac9052bd6b0%29%3B%0A%20%20%20%20%20%20%20%20%0A%0A%20%20%20%20%20%20%20%20marker_22a6a2bea65d41c997c1d22d8e8c9175.bindPopup%28popup_2145db8e356f482a8e7cf90bc0c94999%29%0A%20%20%20%20%20%20%20%20%3B%0A%0A%20%20%20%20%20%20%20%20%0A%20%20%20%20%0A%20%20%20%20%0A%20%20%20%20%20%20%20%20%20%20%20%20var%20marker_f4f2454a56234d588d75c58328b75ba3%20%3D%20L.marker%28%0A%20%20%20%20%20%20%20%20%20%20%20%20%20%20%20%20%5B49.64604883118173%2C%205.892524637548692%5D%2C%0A%20%20%20%20%20%20%20%20%20%20%20%20%20%20%20%20%7B%7D%0A%20%20%20%20%20%20%20%20%20%20%20%20%29.addTo%28map_7145a60b17cf4d14a77be449870bc787%29%3B%0A%20%20%20%20%20%20%20%20%0A%20%20%20%20%0A%20%20%20%20%20%20%20%20var%20popup_06d8669041c14cd892b9d75b07832709%20%3D%20L.popup%28%7B%22maxWidth%22%3A%20%22100%25%22%7D%29%3B%0A%0A%20%20%20%20%20%20%20%20%0A%20%20%20%20%20%20%20%20%20%20%20%20var%20html_eb3f531b905c4bcea90003dd64687906%20%3D%20%24%28%60%3Cdiv%20id%3D%22html_eb3f531b905c4bcea90003dd64687906%22%20style%3D%22width%3A%20100.0%25%3B%20height%3A%20100.0%25%3B%22%3E81001B100%3C/div%3E%60%29%5B0%5D%3B%0A%20%20%20%20%20%20%20%20%20%20%20%20popup_06d8669041c14cd892b9d75b07832709.setContent%28html_eb3f531b905c4bcea90003dd64687906%29%3B%0A%20%20%20%20%20%20%20%20%0A%0A%20%20%20%20%20%20%20%20marker_f4f2454a56234d588d75c58328b75ba3.bindPopup%28popup_06d8669041c14cd892b9d75b07832709%29%0A%20%20%20%20%20%20%20%20%3B%0A%0A%20%20%20%20%20%20%20%20%0A%20%20%20%20%0A%20%20%20%20%0A%20%20%20%20%20%20%20%20%20%20%20%20var%20marker_f958eeeb989d485cb0a671ef6c063ee2%20%3D%20L.marker%28%0A%20%20%20%20%20%20%20%20%20%20%20%20%20%20%20%20%5B49.559290013688965%2C%205.836862108586435%5D%2C%0A%20%20%20%20%20%20%20%20%20%20%20%20%20%20%20%20%7B%7D%0A%20%20%20%20%20%20%20%20%20%20%20%20%29.addTo%28map_7145a60b17cf4d14a77be449870bc787%29%3B%0A%20%20%20%20%20%20%20%20%0A%20%20%20%20%0A%20%20%20%20%20%20%20%20var%20popup_0294e85adffc48e685955fcb39f03bfe%20%3D%20L.popup%28%7B%22maxWidth%22%3A%20%22100%25%22%7D%29%3B%0A%0A%20%20%20%20%20%20%20%20%0A%20%20%20%20%20%20%20%20%20%20%20%20var%20html_ca3b6634e0024a50b7e2f5416ffc859f%20%3D%20%24%28%60%3Cdiv%20id%3D%22html_ca3b6634e0024a50b7e2f5416ffc859f%22%20style%3D%22width%3A%20100.0%25%3B%20height%3A%20100.0%25%3B%22%3E81004B02-%3C/div%3E%60%29%5B0%5D%3B%0A%20%20%20%20%20%20%20%20%20%20%20%20popup_0294e85adffc48e685955fcb39f03bfe.setContent%28html_ca3b6634e0024a50b7e2f5416ffc859f%29%3B%0A%20%20%20%20%20%20%20%20%0A%0A%20%20%20%20%20%20%20%20marker_f958eeeb989d485cb0a671ef6c063ee2.bindPopup%28popup_0294e85adffc48e685955fcb39f03bfe%29%0A%20%20%20%20%20%20%20%20%3B%0A%0A%20%20%20%20%20%20%20%20%0A%20%20%20%20%0A%20%20%20%20%0A%20%20%20%20%20%20%20%20%20%20%20%20var%20marker_8f1abfc5806f4368aa06505296ed90a3%20%3D%20L.marker%28%0A%20%20%20%20%20%20%20%20%20%20%20%20%20%20%20%20%5B49.57658913441369%2C%205.847319594503232%5D%2C%0A%20%20%20%20%20%20%20%20%20%20%20%20%20%20%20%20%7B%7D%0A%20%20%20%20%20%20%20%20%20%20%20%20%29.addTo%28map_7145a60b17cf4d14a77be449870bc787%29%3B%0A%20%20%20%20%20%20%20%20%0A%20%20%20%20%0A%20%20%20%20%20%20%20%20var%20popup_5a6c5bc4da4940a096d4e6796693fd9b%20%3D%20L.popup%28%7B%22maxWidth%22%3A%20%22100%25%22%7D%29%3B%0A%0A%20%20%20%20%20%20%20%20%0A%20%20%20%20%20%20%20%20%20%20%20%20var%20html_cc125c1bb37749cea90b3bc0be9682e2%20%3D%20%24%28%60%3Cdiv%20id%3D%22html_cc125c1bb37749cea90b3bc0be9682e2%22%20style%3D%22width%3A%20100.0%25%3B%20height%3A%20100.0%25%3B%22%3E81004B112%3C/div%3E%60%29%5B0%5D%3B%0A%20%20%20%20%20%20%20%20%20%20%20%20popup_5a6c5bc4da4940a096d4e6796693fd9b.setContent%28html_cc125c1bb37749cea90b3bc0be9682e2%29%3B%0A%20%20%20%20%20%20%20%20%0A%0A%20%20%20%20%20%20%20%20marker_8f1abfc5806f4368aa06505296ed90a3.bindPopup%28popup_5a6c5bc4da4940a096d4e6796693fd9b%29%0A%20%20%20%20%20%20%20%20%3B%0A%0A%20%20%20%20%20%20%20%20%0A%20%20%20%20%0A%20%20%20%20%0A%20%20%20%20%20%20%20%20%20%20%20%20var%20marker_ddb240b996a4486ba997f510cee90562%20%3D%20L.marker%28%0A%20%20%20%20%20%20%20%20%20%20%20%20%20%20%20%20%5B49.65125157988356%2C%205.8925193707079515%5D%2C%0A%20%20%20%20%20%20%20%20%20%20%20%20%20%20%20%20%7B%7D%0A%20%20%20%20%20%20%20%20%20%20%20%20%29.addTo%28map_7145a60b17cf4d14a77be449870bc787%29%3B%0A%20%20%20%20%20%20%20%20%0A%20%20%20%20%0A%20%20%20%20%20%20%20%20var%20popup_3acc7fad04f94f11b8bc1158f84e5658%20%3D%20L.popup%28%7B%22maxWidth%22%3A%20%22100%25%22%7D%29%3B%0A%0A%20%20%20%20%20%20%20%20%0A%20%20%20%20%20%20%20%20%20%20%20%20var%20html_3dc8ac7f7f644ee08e011df2f96b4c5e%20%3D%20%24%28%60%3Cdiv%20id%3D%22html_3dc8ac7f7f644ee08e011df2f96b4c5e%22%20style%3D%22width%3A%20100.0%25%3B%20height%3A%20100.0%25%3B%22%3E81001B19-%3C/div%3E%60%29%5B0%5D%3B%0A%20%20%20%20%20%20%20%20%20%20%20%20popup_3acc7fad04f94f11b8bc1158f84e5658.setContent%28html_3dc8ac7f7f644ee08e011df2f96b4c5e%29%3B%0A%20%20%20%20%20%20%20%20%0A%0A%20%20%20%20%20%20%20%20marker_ddb240b996a4486ba997f510cee90562.bindPopup%28popup_3acc7fad04f94f11b8bc1158f84e5658%29%0A%20%20%20%20%20%20%20%20%3B%0A%0A%20%20%20%20%20%20%20%20%0A%20%20%20%20%0A%20%20%20%20%0A%20%20%20%20%20%20%20%20%20%20%20%20var%20marker_b7e537f47b7e493cb11bad932bbdf8d6%20%3D%20L.marker%28%0A%20%20%20%20%20%20%20%20%20%20%20%20%20%20%20%20%5B49.570969482516894%2C%205.843627935785725%5D%2C%0A%20%20%20%20%20%20%20%20%20%20%20%20%20%20%20%20%7B%7D%0A%20%20%20%20%20%20%20%20%20%20%20%20%29.addTo%28map_7145a60b17cf4d14a77be449870bc787%29%3B%0A%20%20%20%20%20%20%20%20%0A%20%20%20%20%0A%20%20%20%20%20%20%20%20var%20popup_1f348df322244dbd8b7868697ae655f6%20%3D%20L.popup%28%7B%22maxWidth%22%3A%20%22100%25%22%7D%29%3B%0A%0A%20%20%20%20%20%20%20%20%0A%20%20%20%20%20%20%20%20%20%20%20%20var%20html_bb583eb2743a432f9d44804514648cb2%20%3D%20%24%28%60%3Cdiv%20id%3D%22html_bb583eb2743a432f9d44804514648cb2%22%20style%3D%22width%3A%20100.0%25%3B%20height%3A%20100.0%25%3B%22%3E81004B32-%3C/div%3E%60%29%5B0%5D%3B%0A%20%20%20%20%20%20%20%20%20%20%20%20popup_1f348df322244dbd8b7868697ae655f6.setContent%28html_bb583eb2743a432f9d44804514648cb2%29%3B%0A%20%20%20%20%20%20%20%20%0A%0A%20%20%20%20%20%20%20%20marker_b7e537f47b7e493cb11bad932bbdf8d6.bindPopup%28popup_1f348df322244dbd8b7868697ae655f6%29%0A%20%20%20%20%20%20%20%20%3B%0A%0A%20%20%20%20%20%20%20%20%0A%20%20%20%20%0A%20%20%20%20%0A%20%20%20%20%20%20%20%20%20%20%20%20var%20marker_2ded766b668b44179925db00b171c81c%20%3D%20L.marker%28%0A%20%20%20%20%20%20%20%20%20%20%20%20%20%20%20%20%5B50.31671481138655%2C%206.298398846371043%5D%2C%0A%20%20%20%20%20%20%20%20%20%20%20%20%20%20%20%20%7B%7D%0A%20%20%20%20%20%20%20%20%20%20%20%20%29.addTo%28map_7145a60b17cf4d14a77be449870bc787%29%3B%0A%20%20%20%20%20%20%20%20%0A%20%20%20%20%0A%20%20%20%20%20%20%20%20var%20popup_f7fbd8baadf74dcfa156bc2f5ab75bd4%20%3D%20L.popup%28%7B%22maxWidth%22%3A%20%22100%25%22%7D%29%3B%0A%0A%20%20%20%20%20%20%20%20%0A%20%20%20%20%20%20%20%20%20%20%20%20var%20html_06bafefa1e0346feb567b2b59ab72a59%20%3D%20%24%28%60%3Cdiv%20id%3D%22html_06bafefa1e0346feb567b2b59ab72a59%22%20style%3D%22width%3A%20100.0%25%3B%20height%3A%20100.0%25%3B%22%3E63012D682%3C/div%3E%60%29%5B0%5D%3B%0A%20%20%20%20%20%20%20%20%20%20%20%20popup_f7fbd8baadf74dcfa156bc2f5ab75bd4.setContent%28html_06bafefa1e0346feb567b2b59ab72a59%29%3B%0A%20%20%20%20%20%20%20%20%0A%0A%20%20%20%20%20%20%20%20marker_2ded766b668b44179925db00b171c81c.bindPopup%28popup_f7fbd8baadf74dcfa156bc2f5ab75bd4%29%0A%20%20%20%20%20%20%20%20%3B%0A%0A%20%20%20%20%20%20%20%20%0A%20%20%20%20%0A%20%20%20%20%0A%20%20%20%20%20%20%20%20%20%20%20%20var%20marker_8d34b871dbba46fab2a1ad901235caae%20%3D%20L.marker%28%0A%20%20%20%20%20%20%20%20%20%20%20%20%20%20%20%20%5B49.56671929812082%2C%205.83773057107198%5D%2C%0A%20%20%20%20%20%20%20%20%20%20%20%20%20%20%20%20%7B%7D%0A%20%20%20%20%20%20%20%20%20%20%20%20%29.addTo%28map_7145a60b17cf4d14a77be449870bc787%29%3B%0A%20%20%20%20%20%20%20%20%0A%20%20%20%20%0A%20%20%20%20%20%20%20%20var%20popup_aaa8a512eae143ab8316749451b6c008%20%3D%20L.popup%28%7B%22maxWidth%22%3A%20%22100%25%22%7D%29%3B%0A%0A%20%20%20%20%20%20%20%20%0A%20%20%20%20%20%20%20%20%20%20%20%20var%20html_6b6aacd46c3a468f80720bd5ae3320a9%20%3D%20%24%28%60%3Cdiv%20id%3D%22html_6b6aacd46c3a468f80720bd5ae3320a9%22%20style%3D%22width%3A%20100.0%25%3B%20height%3A%20100.0%25%3B%22%3E81004B01-%3C/div%3E%60%29%5B0%5D%3B%0A%20%20%20%20%20%20%20%20%20%20%20%20popup_aaa8a512eae143ab8316749451b6c008.setContent%28html_6b6aacd46c3a468f80720bd5ae3320a9%29%3B%0A%20%20%20%20%20%20%20%20%0A%0A%20%20%20%20%20%20%20%20marker_8d34b871dbba46fab2a1ad901235caae.bindPopup%28popup_aaa8a512eae143ab8316749451b6c008%29%0A%20%20%20%20%20%20%20%20%3B%0A%0A%20%20%20%20%20%20%20%20%0A%20%20%20%20%0A%20%20%20%20%0A%20%20%20%20%20%20%20%20%20%20%20%20var%20marker_806762a0d16e42628b10ef53f6ae80ee%20%3D%20L.marker%28%0A%20%20%20%20%20%20%20%20%20%20%20%20%20%20%20%20%5B50.30403470944696%2C%206.287559438841114%5D%2C%0A%20%20%20%20%20%20%20%20%20%20%20%20%20%20%20%20%7B%7D%0A%20%20%20%20%20%20%20%20%20%20%20%20%29.addTo%28map_7145a60b17cf4d14a77be449870bc787%29%3B%0A%20%20%20%20%20%20%20%20%0A%20%20%20%20%0A%20%20%20%20%20%20%20%20var%20popup_1bd013b155f44f3db93740efea49a6f2%20%3D%20L.popup%28%7B%22maxWidth%22%3A%20%22100%25%22%7D%29%3B%0A%0A%20%20%20%20%20%20%20%20%0A%20%20%20%20%20%20%20%20%20%20%20%20var%20html_c823f6b8c83347cb8b364a58f2f863e3%20%3D%20%24%28%60%3Cdiv%20id%3D%22html_c823f6b8c83347cb8b364a58f2f863e3%22%20style%3D%22width%3A%20100.0%25%3B%20height%3A%20100.0%25%3B%22%3E63067C291%3C/div%3E%60%29%5B0%5D%3B%0A%20%20%20%20%20%20%20%20%20%20%20%20popup_1bd013b155f44f3db93740efea49a6f2.setContent%28html_c823f6b8c83347cb8b364a58f2f863e3%29%3B%0A%20%20%20%20%20%20%20%20%0A%0A%20%20%20%20%20%20%20%20marker_806762a0d16e42628b10ef53f6ae80ee.bindPopup%28popup_1bd013b155f44f3db93740efea49a6f2%29%0A%20%20%20%20%20%20%20%20%3B%0A%0A%20%20%20%20%20%20%20%20%0A%20%20%20%20%0A%20%20%20%20%0A%20%20%20%20%20%20%20%20%20%20%20%20var%20marker_7cc7e68008f74dfb8e3d1ce14d7a9906%20%3D%20L.marker%28%0A%20%20%20%20%20%20%20%20%20%20%20%20%20%20%20%20%5B49.563316498046056%2C%205.8339318407747704%5D%2C%0A%20%20%20%20%20%20%20%20%20%20%20%20%20%20%20%20%7B%7D%0A%20%20%20%20%20%20%20%20%20%20%20%20%29.addTo%28map_7145a60b17cf4d14a77be449870bc787%29%3B%0A%20%20%20%20%20%20%20%20%0A%20%20%20%20%0A%20%20%20%20%20%20%20%20var%20popup_27718d8b76d64cfabca10a147ebad765%20%3D%20L.popup%28%7B%22maxWidth%22%3A%20%22100%25%22%7D%29%3B%0A%0A%20%20%20%20%20%20%20%20%0A%20%20%20%20%20%20%20%20%20%20%20%20var%20html_d641863e48074486bf924e2f6107c326%20%3D%20%24%28%60%3Cdiv%20id%3D%22html_d641863e48074486bf924e2f6107c326%22%20style%3D%22width%3A%20100.0%25%3B%20height%3A%20100.0%25%3B%22%3E81004B00-%3C/div%3E%60%29%5B0%5D%3B%0A%20%20%20%20%20%20%20%20%20%20%20%20popup_27718d8b76d64cfabca10a147ebad765.setContent%28html_d641863e48074486bf924e2f6107c326%29%3B%0A%20%20%20%20%20%20%20%20%0A%0A%20%20%20%20%20%20%20%20marker_7cc7e68008f74dfb8e3d1ce14d7a9906.bindPopup%28popup_27718d8b76d64cfabca10a147ebad765%29%0A%20%20%20%20%20%20%20%20%3B%0A%0A%20%20%20%20%20%20%20%20%0A%20%20%20%20%0A%20%20%20%20%0A%20%20%20%20%20%20%20%20%20%20%20%20var%20marker_4499b3751be64709be33dd7d3b930d3f%20%3D%20L.marker%28%0A%20%20%20%20%20%20%20%20%20%20%20%20%20%20%20%20%5B49.570429193648216%2C%205.8379606291808575%5D%2C%0A%20%20%20%20%20%20%20%20%20%20%20%20%20%20%20%20%7B%7D%0A%20%20%20%20%20%20%20%20%20%20%20%20%29.addTo%28map_7145a60b17cf4d14a77be449870bc787%29%3B%0A%20%20%20%20%20%20%20%20%0A%20%20%20%20%0A%20%20%20%20%20%20%20%20var%20popup_97b31b6183534abc81fc0b8143fcc90d%20%3D%20L.popup%28%7B%22maxWidth%22%3A%20%22100%25%22%7D%29%3B%0A%0A%20%20%20%20%20%20%20%20%0A%20%20%20%20%20%20%20%20%20%20%20%20var%20html_bf372a57916e42efa71ac7a1646ee172%20%3D%20%24%28%60%3Cdiv%20id%3D%22html_bf372a57916e42efa71ac7a1646ee172%22%20style%3D%22width%3A%20100.0%25%3B%20height%3A%20100.0%25%3B%22%3E81004B31-%3C/div%3E%60%29%5B0%5D%3B%0A%20%20%20%20%20%20%20%20%20%20%20%20popup_97b31b6183534abc81fc0b8143fcc90d.setContent%28html_bf372a57916e42efa71ac7a1646ee172%29%3B%0A%20%20%20%20%20%20%20%20%0A%0A%20%20%20%20%20%20%20%20marker_4499b3751be64709be33dd7d3b930d3f.bindPopup%28popup_97b31b6183534abc81fc0b8143fcc90d%29%0A%20%20%20%20%20%20%20%20%3B%0A%0A%20%20%20%20%20%20%20%20%0A%20%20%20%20%0A%20%20%20%20%0A%20%20%20%20%20%20%20%20%20%20%20%20var%20marker_1f91ea4d29d743a498d478e4fc7a124d%20%3D%20L.marker%28%0A%20%20%20%20%20%20%20%20%20%20%20%20%20%20%20%20%5B49.55352212215546%2C%205.827598611807558%5D%2C%0A%20%20%20%20%20%20%20%20%20%20%20%20%20%20%20%20%7B%7D%0A%20%20%20%20%20%20%20%20%20%20%20%20%29.addTo%28map_7145a60b17cf4d14a77be449870bc787%29%3B%0A%20%20%20%20%20%20%20%20%0A%20%20%20%20%0A%20%20%20%20%20%20%20%20var%20popup_c52ba37eaa3d4849ba67d4ec2b215193%20%3D%20L.popup%28%7B%22maxWidth%22%3A%20%22100%25%22%7D%29%3B%0A%0A%20%20%20%20%20%20%20%20%0A%20%20%20%20%20%20%20%20%20%20%20%20var%20html_269c61eb3bf64d3fac6d9ee0f7b5e95c%20%3D%20%24%28%60%3Cdiv%20id%3D%22html_269c61eb3bf64d3fac6d9ee0f7b5e95c%22%20style%3D%22width%3A%20100.0%25%3B%20height%3A%20100.0%25%3B%22%3E81004B07-%3C/div%3E%60%29%5B0%5D%3B%0A%20%20%20%20%20%20%20%20%20%20%20%20popup_c52ba37eaa3d4849ba67d4ec2b215193.setContent%28html_269c61eb3bf64d3fac6d9ee0f7b5e95c%29%3B%0A%20%20%20%20%20%20%20%20%0A%0A%20%20%20%20%20%20%20%20marker_1f91ea4d29d743a498d478e4fc7a124d.bindPopup%28popup_c52ba37eaa3d4849ba67d4ec2b215193%29%0A%20%20%20%20%20%20%20%20%3B%0A%0A%20%20%20%20%20%20%20%20%0A%20%20%20%20%0A%20%20%20%20%0A%20%20%20%20%20%20%20%20%20%20%20%20var%20marker_c71163cfb34d492fa0e67240eecf992f%20%3D%20L.marker%28%0A%20%20%20%20%20%20%20%20%20%20%20%20%20%20%20%20%5B50.30446383496986%2C%206.282087620828755%5D%2C%0A%20%20%20%20%20%20%20%20%20%20%20%20%20%20%20%20%7B%7D%0A%20%20%20%20%20%20%20%20%20%20%20%20%29.addTo%28map_7145a60b17cf4d14a77be449870bc787%29%3B%0A%20%20%20%20%20%20%20%20%0A%20%20%20%20%0A%20%20%20%20%20%20%20%20var%20popup_76606ce3da894719a2890b384f5862a5%20%3D%20L.popup%28%7B%22maxWidth%22%3A%20%22100%25%22%7D%29%3B%0A%0A%20%20%20%20%20%20%20%20%0A%20%20%20%20%20%20%20%20%20%20%20%20var%20html_feec7266147f40d0a1cd3d8433b46ecd%20%3D%20%24%28%60%3Cdiv%20id%3D%22html_feec7266147f40d0a1cd3d8433b46ecd%22%20style%3D%22width%3A%20100.0%25%3B%20height%3A%20100.0%25%3B%22%3E63067C20-%3C/div%3E%60%29%5B0%5D%3B%0A%20%20%20%20%20%20%20%20%20%20%20%20popup_76606ce3da894719a2890b384f5862a5.setContent%28html_feec7266147f40d0a1cd3d8433b46ecd%29%3B%0A%20%20%20%20%20%20%20%20%0A%0A%20%20%20%20%20%20%20%20marker_c71163cfb34d492fa0e67240eecf992f.bindPopup%28popup_76606ce3da894719a2890b384f5862a5%29%0A%20%20%20%20%20%20%20%20%3B%0A%0A%20%20%20%20%20%20%20%20%0A%20%20%20%20%0A%20%20%20%20%0A%20%20%20%20%20%20%20%20%20%20%20%20var%20marker_c3e7d68f6a24439082ce8cedebf0dd6c%20%3D%20L.marker%28%0A%20%20%20%20%20%20%20%20%20%20%20%20%20%20%20%20%5B49.61190519967539%2C%205.855418019176469%5D%2C%0A%20%20%20%20%20%20%20%20%20%20%20%20%20%20%20%20%7B%7D%0A%20%20%20%20%20%20%20%20%20%20%20%20%29.addTo%28map_7145a60b17cf4d14a77be449870bc787%29%3B%0A%20%20%20%20%20%20%20%20%0A%20%20%20%20%0A%20%20%20%20%20%20%20%20var%20popup_f1d426e9f5e142bfa7537fd6c5636bbe%20%3D%20L.popup%28%7B%22maxWidth%22%3A%20%22100%25%22%7D%29%3B%0A%0A%20%20%20%20%20%20%20%20%0A%20%20%20%20%20%20%20%20%20%20%20%20var%20html_8eab9cf5da124451b1765b15e052442f%20%3D%20%24%28%60%3Cdiv%20id%3D%22html_8eab9cf5da124451b1765b15e052442f%22%20style%3D%22width%3A%20100.0%25%3B%20height%3A%20100.0%25%3B%22%3E81015B090%3C/div%3E%60%29%5B0%5D%3B%0A%20%20%20%20%20%20%20%20%20%20%20%20popup_f1d426e9f5e142bfa7537fd6c5636bbe.setContent%28html_8eab9cf5da124451b1765b15e052442f%29%3B%0A%20%20%20%20%20%20%20%20%0A%0A%20%20%20%20%20%20%20%20marker_c3e7d68f6a24439082ce8cedebf0dd6c.bindPopup%28popup_f1d426e9f5e142bfa7537fd6c5636bbe%29%0A%20%20%20%20%20%20%20%20%3B%0A%0A%20%20%20%20%20%20%20%20%0A%20%20%20%20%0A%20%20%20%20%0A%20%20%20%20%20%20%20%20%20%20%20%20var%20marker_3a5154382d5443849512c97ac3eb3b61%20%3D%20L.marker%28%0A%20%20%20%20%20%20%20%20%20%20%20%20%20%20%20%20%5B49.56369231853348%2C%205.825503861808674%5D%2C%0A%20%20%20%20%20%20%20%20%20%20%20%20%20%20%20%20%7B%7D%0A%20%20%20%20%20%20%20%20%20%20%20%20%29.addTo%28map_7145a60b17cf4d14a77be449870bc787%29%3B%0A%20%20%20%20%20%20%20%20%0A%20%20%20%20%0A%20%20%20%20%20%20%20%20var%20popup_0f21e6b6d3ae4f0fb8fb9e90da2b4030%20%3D%20L.popup%28%7B%22maxWidth%22%3A%20%22100%25%22%7D%29%3B%0A%0A%20%20%20%20%20%20%20%20%0A%20%20%20%20%20%20%20%20%20%20%20%20var%20html_0ef85341e9e2441cab9eaf01a96298d8%20%3D%20%24%28%60%3Cdiv%20id%3D%22html_0ef85341e9e2441cab9eaf01a96298d8%22%20style%3D%22width%3A%20100.0%25%3B%20height%3A%20100.0%25%3B%22%3E81004B21-%3C/div%3E%60%29%5B0%5D%3B%0A%20%20%20%20%20%20%20%20%20%20%20%20popup_0f21e6b6d3ae4f0fb8fb9e90da2b4030.setContent%28html_0ef85341e9e2441cab9eaf01a96298d8%29%3B%0A%20%20%20%20%20%20%20%20%0A%0A%20%20%20%20%20%20%20%20marker_3a5154382d5443849512c97ac3eb3b61.bindPopup%28popup_0f21e6b6d3ae4f0fb8fb9e90da2b4030%29%0A%20%20%20%20%20%20%20%20%3B%0A%0A%20%20%20%20%20%20%20%20%0A%20%20%20%20%0A%20%20%20%20%0A%20%20%20%20%20%20%20%20%20%20%20%20var%20marker_395479c6c1164548a8757dca409218df%20%3D%20L.marker%28%0A%20%20%20%20%20%20%20%20%20%20%20%20%20%20%20%20%5B49.580604601298624%2C%205.835707575133383%5D%2C%0A%20%20%20%20%20%20%20%20%20%20%20%20%20%20%20%20%7B%7D%0A%20%20%20%20%20%20%20%20%20%20%20%20%29.addTo%28map_7145a60b17cf4d14a77be449870bc787%29%3B%0A%20%20%20%20%20%20%20%20%0A%20%20%20%20%0A%20%20%20%20%20%20%20%20var%20popup_cd81e64ca41b411e8c0d967631a52576%20%3D%20L.popup%28%7B%22maxWidth%22%3A%20%22100%25%22%7D%29%3B%0A%0A%20%20%20%20%20%20%20%20%0A%20%20%20%20%20%20%20%20%20%20%20%20var%20html_787fbc84702d4e82b2b86da25caf2a6e%20%3D%20%24%28%60%3Cdiv%20id%3D%22html_787fbc84702d4e82b2b86da25caf2a6e%22%20style%3D%22width%3A%20100.0%25%3B%20height%3A%20100.0%25%3B%22%3E81015A290%3C/div%3E%60%29%5B0%5D%3B%0A%20%20%20%20%20%20%20%20%20%20%20%20popup_cd81e64ca41b411e8c0d967631a52576.setContent%28html_787fbc84702d4e82b2b86da25caf2a6e%29%3B%0A%20%20%20%20%20%20%20%20%0A%0A%20%20%20%20%20%20%20%20marker_395479c6c1164548a8757dca409218df.bindPopup%28popup_cd81e64ca41b411e8c0d967631a52576%29%0A%20%20%20%20%20%20%20%20%3B%0A%0A%20%20%20%20%20%20%20%20%0A%20%20%20%20%0A%20%20%20%20%0A%20%20%20%20%20%20%20%20%20%20%20%20var%20marker_0146e8f3ce894ef1894bda8773a25ff2%20%3D%20L.marker%28%0A%20%20%20%20%20%20%20%20%20%20%20%20%20%20%20%20%5B49.57747844719642%2C%205.830871161005043%5D%2C%0A%20%20%20%20%20%20%20%20%20%20%20%20%20%20%20%20%7B%7D%0A%20%20%20%20%20%20%20%20%20%20%20%20%29.addTo%28map_7145a60b17cf4d14a77be449870bc787%29%3B%0A%20%20%20%20%20%20%20%20%0A%20%20%20%20%0A%20%20%20%20%20%20%20%20var%20popup_5b0d3c0e053a4fe3ae45b4440c2a96c2%20%3D%20L.popup%28%7B%22maxWidth%22%3A%20%22100%25%22%7D%29%3B%0A%0A%20%20%20%20%20%20%20%20%0A%20%20%20%20%20%20%20%20%20%20%20%20var%20html_f7ce3e34e166483da35a7bf4349be25e%20%3D%20%24%28%60%3Cdiv%20id%3D%22html_f7ce3e34e166483da35a7bf4349be25e%22%20style%3D%22width%3A%20100.0%25%3B%20height%3A%20100.0%25%3B%22%3E81015A200%3C/div%3E%60%29%5B0%5D%3B%0A%20%20%20%20%20%20%20%20%20%20%20%20popup_5b0d3c0e053a4fe3ae45b4440c2a96c2.setContent%28html_f7ce3e34e166483da35a7bf4349be25e%29%3B%0A%20%20%20%20%20%20%20%20%0A%0A%20%20%20%20%20%20%20%20marker_0146e8f3ce894ef1894bda8773a25ff2.bindPopup%28popup_5b0d3c0e053a4fe3ae45b4440c2a96c2%29%0A%20%20%20%20%20%20%20%20%3B%0A%0A%20%20%20%20%20%20%20%20%0A%20%20%20%20%0A%20%20%20%20%0A%20%20%20%20%20%20%20%20%20%20%20%20var%20marker_a7130861953f4e5e925ba74e1715fad8%20%3D%20L.marker%28%0A%20%20%20%20%20%20%20%20%20%20%20%20%20%20%20%20%5B49.61004788867336%2C%205.850616025080691%5D%2C%0A%20%20%20%20%20%20%20%20%20%20%20%20%20%20%20%20%7B%7D%0A%20%20%20%20%20%20%20%20%20%20%20%20%29.addTo%28map_7145a60b17cf4d14a77be449870bc787%29%3B%0A%20%20%20%20%20%20%20%20%0A%20%20%20%20%0A%20%20%20%20%20%20%20%20var%20popup_0afacf03c73e452a91a053e649c23784%20%3D%20L.popup%28%7B%22maxWidth%22%3A%20%22100%25%22%7D%29%3B%0A%0A%20%20%20%20%20%20%20%20%0A%20%20%20%20%20%20%20%20%20%20%20%20var%20html_8bf68506c69a44d79e1e764fb814d97c%20%3D%20%24%28%60%3Cdiv%20id%3D%22html_8bf68506c69a44d79e1e764fb814d97c%22%20style%3D%22width%3A%20100.0%25%3B%20height%3A%20100.0%25%3B%22%3E81015B000%3C/div%3E%60%29%5B0%5D%3B%0A%20%20%20%20%20%20%20%20%20%20%20%20popup_0afacf03c73e452a91a053e649c23784.setContent%28html_8bf68506c69a44d79e1e764fb814d97c%29%3B%0A%20%20%20%20%20%20%20%20%0A%0A%20%20%20%20%20%20%20%20marker_a7130861953f4e5e925ba74e1715fad8.bindPopup%28popup_0afacf03c73e452a91a053e649c23784%29%0A%20%20%20%20%20%20%20%20%3B%0A%0A%20%20%20%20%20%20%20%20%0A%20%20%20%20%0A%20%20%20%20%0A%20%20%20%20%20%20%20%20%20%20%20%20var%20marker_a878c44fb1f24a68ba04e11235c924e2%20%3D%20L.marker%28%0A%20%20%20%20%20%20%20%20%20%20%20%20%20%20%20%20%5B50.28928329229334%2C%206.265093899987099%5D%2C%0A%20%20%20%20%20%20%20%20%20%20%20%20%20%20%20%20%7B%7D%0A%20%20%20%20%20%20%20%20%20%20%20%20%29.addTo%28map_7145a60b17cf4d14a77be449870bc787%29%3B%0A%20%20%20%20%20%20%20%20%0A%20%20%20%20%0A%20%20%20%20%20%20%20%20var%20popup_c0ec861554374b19ab0963753406f98f%20%3D%20L.popup%28%7B%22maxWidth%22%3A%20%22100%25%22%7D%29%3B%0A%0A%20%20%20%20%20%20%20%20%0A%20%20%20%20%20%20%20%20%20%20%20%20var%20html_f2c064b38b5e4c40bd6dea3d56a26f4c%20%3D%20%24%28%60%3Cdiv%20id%3D%22html_f2c064b38b5e4c40bd6dea3d56a26f4c%22%20style%3D%22width%3A%20100.0%25%3B%20height%3A%20100.0%25%3B%22%3E63067C00-%3C/div%3E%60%29%5B0%5D%3B%0A%20%20%20%20%20%20%20%20%20%20%20%20popup_c0ec861554374b19ab0963753406f98f.setContent%28html_f2c064b38b5e4c40bd6dea3d56a26f4c%29%3B%0A%20%20%20%20%20%20%20%20%0A%0A%20%20%20%20%20%20%20%20marker_a878c44fb1f24a68ba04e11235c924e2.bindPopup%28popup_c0ec861554374b19ab0963753406f98f%29%0A%20%20%20%20%20%20%20%20%3B%0A%0A%20%20%20%20%20%20%20%20%0A%20%20%20%20%0A%20%20%20%20%0A%20%20%20%20%20%20%20%20%20%20%20%20var%20marker_90ed29fa65e7429fb58484faf9b3ad88%20%3D%20L.marker%28%0A%20%20%20%20%20%20%20%20%20%20%20%20%20%20%20%20%5B49.571932549274734%2C%205.826634295102867%5D%2C%0A%20%20%20%20%20%20%20%20%20%20%20%20%20%20%20%20%7B%7D%0A%20%20%20%20%20%20%20%20%20%20%20%20%29.addTo%28map_7145a60b17cf4d14a77be449870bc787%29%3B%0A%20%20%20%20%20%20%20%20%0A%20%20%20%20%0A%20%20%20%20%20%20%20%20var%20popup_35ac6de699454642a4a3681513e99274%20%3D%20L.popup%28%7B%22maxWidth%22%3A%20%22100%25%22%7D%29%3B%0A%0A%20%20%20%20%20%20%20%20%0A%20%20%20%20%20%20%20%20%20%20%20%20var%20html_65a6dcfdcd28431186b85b4ac48082e1%20%3D%20%24%28%60%3Cdiv%20id%3D%22html_65a6dcfdcd28431186b85b4ac48082e1%22%20style%3D%22width%3A%20100.0%25%3B%20height%3A%20100.0%25%3B%22%3E81004B22-%3C/div%3E%60%29%5B0%5D%3B%0A%20%20%20%20%20%20%20%20%20%20%20%20popup_35ac6de699454642a4a3681513e99274.setContent%28html_65a6dcfdcd28431186b85b4ac48082e1%29%3B%0A%20%20%20%20%20%20%20%20%0A%0A%20%20%20%20%20%20%20%20marker_90ed29fa65e7429fb58484faf9b3ad88.bindPopup%28popup_35ac6de699454642a4a3681513e99274%29%0A%20%20%20%20%20%20%20%20%3B%0A%0A%20%20%20%20%20%20%20%20%0A%20%20%20%20%0A%20%20%20%20%0A%20%20%20%20%20%20%20%20%20%20%20%20var%20marker_9f513d57e5be4260b72665bc3b272ae4%20%3D%20L.marker%28%0A%20%20%20%20%20%20%20%20%20%20%20%20%20%20%20%20%5B50.28072577384493%2C%206.259771014269597%5D%2C%0A%20%20%20%20%20%20%20%20%20%20%20%20%20%20%20%20%7B%7D%0A%20%20%20%20%20%20%20%20%20%20%20%20%29.addTo%28map_7145a60b17cf4d14a77be449870bc787%29%3B%0A%20%20%20%20%20%20%20%20%0A%20%20%20%20%0A%20%20%20%20%20%20%20%20var%20popup_ef0053120b5145b6a2e19591e444d47c%20%3D%20L.popup%28%7B%22maxWidth%22%3A%20%22100%25%22%7D%29%3B%0A%0A%20%20%20%20%20%20%20%20%0A%20%20%20%20%20%20%20%20%20%20%20%20var%20html_81a541e268594302a09c2cab036b7c4a%20%3D%20%24%28%60%3Cdiv%20id%3D%22html_81a541e268594302a09c2cab036b7c4a%22%20style%3D%22width%3A%20100.0%25%3B%20height%3A%20100.0%25%3B%22%3E63067C09-%3C/div%3E%60%29%5B0%5D%3B%0A%20%20%20%20%20%20%20%20%20%20%20%20popup_ef0053120b5145b6a2e19591e444d47c.setContent%28html_81a541e268594302a09c2cab036b7c4a%29%3B%0A%20%20%20%20%20%20%20%20%0A%0A%20%20%20%20%20%20%20%20marker_9f513d57e5be4260b72665bc3b272ae4.bindPopup%28popup_ef0053120b5145b6a2e19591e444d47c%29%0A%20%20%20%20%20%20%20%20%3B%0A%0A%20%20%20%20%20%20%20%20%0A%20%20%20%20%0A%20%20%20%20%0A%20%20%20%20%20%20%20%20%20%20%20%20var%20marker_881b2d50e0e24266b62d492c1f8983c2%20%3D%20L.marker%28%0A%20%20%20%20%20%20%20%20%20%20%20%20%20%20%20%20%5B50.275946001229094%2C%206.256310503108987%5D%2C%0A%20%20%20%20%20%20%20%20%20%20%20%20%20%20%20%20%7B%7D%0A%20%20%20%20%20%20%20%20%20%20%20%20%29.addTo%28map_7145a60b17cf4d14a77be449870bc787%29%3B%0A%20%20%20%20%20%20%20%20%0A%20%20%20%20%0A%20%20%20%20%20%20%20%20var%20popup_2085d6ad506848b3ae04965c42ba845d%20%3D%20L.popup%28%7B%22maxWidth%22%3A%20%22100%25%22%7D%29%3B%0A%0A%20%20%20%20%20%20%20%20%0A%20%20%20%20%20%20%20%20%20%20%20%20var%20html_a7acac16f4ac45498e3a5472bc50641e%20%3D%20%24%28%60%3Cdiv%20id%3D%22html_a7acac16f4ac45498e3a5472bc50641e%22%20style%3D%22width%3A%20100.0%25%3B%20height%3A%20100.0%25%3B%22%3E63067C01-%3C/div%3E%60%29%5B0%5D%3B%0A%20%20%20%20%20%20%20%20%20%20%20%20popup_2085d6ad506848b3ae04965c42ba845d.setContent%28html_a7acac16f4ac45498e3a5472bc50641e%29%3B%0A%20%20%20%20%20%20%20%20%0A%0A%20%20%20%20%20%20%20%20marker_881b2d50e0e24266b62d492c1f8983c2.bindPopup%28popup_2085d6ad506848b3ae04965c42ba845d%29%0A%20%20%20%20%20%20%20%20%3B%0A%0A%20%20%20%20%20%20%20%20%0A%20%20%20%20%0A%20%20%20%20%0A%20%20%20%20%20%20%20%20%20%20%20%20var%20marker_bdc2383fe6024e09b07ba2b21543c82d%20%3D%20L.marker%28%0A%20%20%20%20%20%20%20%20%20%20%20%20%20%20%20%20%5B49.55281169549295%2C%205.814188432649253%5D%2C%0A%20%20%20%20%20%20%20%20%20%20%20%20%20%20%20%20%7B%7D%0A%20%20%20%20%20%20%20%20%20%20%20%20%29.addTo%28map_7145a60b17cf4d14a77be449870bc787%29%3B%0A%20%20%20%20%20%20%20%20%0A%20%20%20%20%0A%20%20%20%20%20%20%20%20var%20popup_7b952619817c4df2ad7d12a4db567aaf%20%3D%20L.popup%28%7B%22maxWidth%22%3A%20%22100%25%22%7D%29%3B%0A%0A%20%20%20%20%20%20%20%20%0A%20%20%20%20%20%20%20%20%20%20%20%20var%20html_d5d34e4e704f4685b1beda442b6ef948%20%3D%20%24%28%60%3Cdiv%20id%3D%22html_d5d34e4e704f4685b1beda442b6ef948%22%20style%3D%22width%3A%20100.0%25%3B%20height%3A%20100.0%25%3B%22%3E81004A0MA%3C/div%3E%60%29%5B0%5D%3B%0A%20%20%20%20%20%20%20%20%20%20%20%20popup_7b952619817c4df2ad7d12a4db567aaf.setContent%28html_d5d34e4e704f4685b1beda442b6ef948%29%3B%0A%20%20%20%20%20%20%20%20%0A%0A%20%20%20%20%20%20%20%20marker_bdc2383fe6024e09b07ba2b21543c82d.bindPopup%28popup_7b952619817c4df2ad7d12a4db567aaf%29%0A%20%20%20%20%20%20%20%20%3B%0A%0A%20%20%20%20%20%20%20%20%0A%20%20%20%20%0A%20%20%20%20%0A%20%20%20%20%20%20%20%20%20%20%20%20var%20marker_31cc845fd8cb41dabf2d4c01e6972964%20%3D%20L.marker%28%0A%20%20%20%20%20%20%20%20%20%20%20%20%20%20%20%20%5B50.323195175236926%2C%206.284900313563211%5D%2C%0A%20%20%20%20%20%20%20%20%20%20%20%20%20%20%20%20%7B%7D%0A%20%20%20%20%20%20%20%20%20%20%20%20%29.addTo%28map_7145a60b17cf4d14a77be449870bc787%29%3B%0A%20%20%20%20%20%20%20%20%0A%20%20%20%20%0A%20%20%20%20%20%20%20%20var%20popup_e9179fcb56404335b4da25a5be5e440b%20%3D%20L.popup%28%7B%22maxWidth%22%3A%20%22100%25%22%7D%29%3B%0A%0A%20%20%20%20%20%20%20%20%0A%20%20%20%20%20%20%20%20%20%20%20%20var%20html_8a91c166b522492986997d9455f2b5f8%20%3D%20%24%28%60%3Cdiv%20id%3D%22html_8a91c166b522492986997d9455f2b5f8%22%20style%3D%22width%3A%20100.0%25%3B%20height%3A%20100.0%25%3B%22%3E63012D610%3C/div%3E%60%29%5B0%5D%3B%0A%20%20%20%20%20%20%20%20%20%20%20%20popup_e9179fcb56404335b4da25a5be5e440b.setContent%28html_8a91c166b522492986997d9455f2b5f8%29%3B%0A%20%20%20%20%20%20%20%20%0A%0A%20%20%20%20%20%20%20%20marker_31cc845fd8cb41dabf2d4c01e6972964.bindPopup%28popup_e9179fcb56404335b4da25a5be5e440b%29%0A%20%20%20%20%20%20%20%20%3B%0A%0A%20%20%20%20%20%20%20%20%0A%20%20%20%20%0A%20%20%20%20%0A%20%20%20%20%20%20%20%20%20%20%20%20var%20marker_cf66a764792d45c09620f57c28ba843a%20%3D%20L.marker%28%0A%20%20%20%20%20%20%20%20%20%20%20%20%20%20%20%20%5B49.57670075851723%2C%205.8252215577731326%5D%2C%0A%20%20%20%20%20%20%20%20%20%20%20%20%20%20%20%20%7B%7D%0A%20%20%20%20%20%20%20%20%20%20%20%20%29.addTo%28map_7145a60b17cf4d14a77be449870bc787%29%3B%0A%20%20%20%20%20%20%20%20%0A%20%20%20%20%0A%20%20%20%20%20%20%20%20var%20popup_d998b9bb5eb049a7882fa7a4a1618e43%20%3D%20L.popup%28%7B%22maxWidth%22%3A%20%22100%25%22%7D%29%3B%0A%0A%20%20%20%20%20%20%20%20%0A%20%20%20%20%20%20%20%20%20%20%20%20var%20html_c57e96022e554ad38a3a7aa29f6bf014%20%3D%20%24%28%60%3Cdiv%20id%3D%22html_c57e96022e554ad38a3a7aa29f6bf014%22%20style%3D%22width%3A%20100.0%25%3B%20height%3A%20100.0%25%3B%22%3E81015A290%3C/div%3E%60%29%5B0%5D%3B%0A%20%20%20%20%20%20%20%20%20%20%20%20popup_d998b9bb5eb049a7882fa7a4a1618e43.setContent%28html_c57e96022e554ad38a3a7aa29f6bf014%29%3B%0A%20%20%20%20%20%20%20%20%0A%0A%20%20%20%20%20%20%20%20marker_cf66a764792d45c09620f57c28ba843a.bindPopup%28popup_d998b9bb5eb049a7882fa7a4a1618e43%29%0A%20%20%20%20%20%20%20%20%3B%0A%0A%20%20%20%20%20%20%20%20%0A%20%20%20%20%0A%20%20%20%20%0A%20%20%20%20%20%20%20%20%20%20%20%20var%20marker_ae5196c59d9f4f7b88ba4fa7353ae673%20%3D%20L.marker%28%0A%20%20%20%20%20%20%20%20%20%20%20%20%20%20%20%20%5B50.32960998279184%2C%206.285107665318101%5D%2C%0A%20%20%20%20%20%20%20%20%20%20%20%20%20%20%20%20%7B%7D%0A%20%20%20%20%20%20%20%20%20%20%20%20%29.addTo%28map_7145a60b17cf4d14a77be449870bc787%29%3B%0A%20%20%20%20%20%20%20%20%0A%20%20%20%20%0A%20%20%20%20%20%20%20%20var%20popup_bd29d10257324e1183959528b9aeffd8%20%3D%20L.popup%28%7B%22maxWidth%22%3A%20%22100%25%22%7D%29%3B%0A%0A%20%20%20%20%20%20%20%20%0A%20%20%20%20%20%20%20%20%20%20%20%20var%20html_431d41401e964efc8d393cdba27ba53e%20%3D%20%24%28%60%3Cdiv%20id%3D%22html_431d41401e964efc8d393cdba27ba53e%22%20style%3D%22width%3A%20100.0%25%3B%20height%3A%20100.0%25%3B%22%3E63012D690%3C/div%3E%60%29%5B0%5D%3B%0A%20%20%20%20%20%20%20%20%20%20%20%20popup_bd29d10257324e1183959528b9aeffd8.setContent%28html_431d41401e964efc8d393cdba27ba53e%29%3B%0A%20%20%20%20%20%20%20%20%0A%0A%20%20%20%20%20%20%20%20marker_ae5196c59d9f4f7b88ba4fa7353ae673.bindPopup%28popup_bd29d10257324e1183959528b9aeffd8%29%0A%20%20%20%20%20%20%20%20%3B%0A%0A%20%20%20%20%20%20%20%20%0A%20%20%20%20%0A%20%20%20%20%0A%20%20%20%20%20%20%20%20%20%20%20%20var%20marker_ae8bae8e772b4ab3a04494a47d9b3dd7%20%3D%20L.marker%28%0A%20%20%20%20%20%20%20%20%20%20%20%20%20%20%20%20%5B49.652523349468005%2C%205.869838147828693%5D%2C%0A%20%20%20%20%20%20%20%20%20%20%20%20%20%20%20%20%7B%7D%0A%20%20%20%20%20%20%20%20%20%20%20%20%29.addTo%28map_7145a60b17cf4d14a77be449870bc787%29%3B%0A%20%20%20%20%20%20%20%20%0A%20%20%20%20%0A%20%20%20%20%20%20%20%20var%20popup_b912a57e6c5f413f91e64efab5d60c44%20%3D%20L.popup%28%7B%22maxWidth%22%3A%20%22100%25%22%7D%29%3B%0A%0A%20%20%20%20%20%20%20%20%0A%20%20%20%20%20%20%20%20%20%20%20%20var%20html_9cd396800f5948f098c6709ccd2ce26a%20%3D%20%24%28%60%3Cdiv%20id%3D%22html_9cd396800f5948f098c6709ccd2ce26a%22%20style%3D%22width%3A%20100.0%25%3B%20height%3A%20100.0%25%3B%22%3E81001B090%3C/div%3E%60%29%5B0%5D%3B%0A%20%20%20%20%20%20%20%20%20%20%20%20popup_b912a57e6c5f413f91e64efab5d60c44.setContent%28html_9cd396800f5948f098c6709ccd2ce26a%29%3B%0A%20%20%20%20%20%20%20%20%0A%0A%20%20%20%20%20%20%20%20marker_ae8bae8e772b4ab3a04494a47d9b3dd7.bindPopup%28popup_b912a57e6c5f413f91e64efab5d60c44%29%0A%20%20%20%20%20%20%20%20%3B%0A%0A%20%20%20%20%20%20%20%20%0A%20%20%20%20%0A%20%20%20%20%0A%20%20%20%20%20%20%20%20%20%20%20%20var%20marker_cfc23cf5f0974fa7813e682f0d838db1%20%3D%20L.marker%28%0A%20%20%20%20%20%20%20%20%20%20%20%20%20%20%20%20%5B50.334045810012604%2C%206.286958241570906%5D%2C%0A%20%20%20%20%20%20%20%20%20%20%20%20%20%20%20%20%7B%7D%0A%20%20%20%20%20%20%20%20%20%20%20%20%29.addTo%28map_7145a60b17cf4d14a77be449870bc787%29%3B%0A%20%20%20%20%20%20%20%20%0A%20%20%20%20%0A%20%20%20%20%20%20%20%20var%20popup_e11dcd70530e4f9cbcb3868720adb986%20%3D%20L.popup%28%7B%22maxWidth%22%3A%20%22100%25%22%7D%29%3B%0A%0A%20%20%20%20%20%20%20%20%0A%20%20%20%20%20%20%20%20%20%20%20%20var%20html_a8f074e4498c4f41b731bc5476833390%20%3D%20%24%28%60%3Cdiv%20id%3D%22html_a8f074e4498c4f41b731bc5476833390%22%20style%3D%22width%3A%20100.0%25%3B%20height%3A%20100.0%25%3B%22%3E63012D600%3C/div%3E%60%29%5B0%5D%3B%0A%20%20%20%20%20%20%20%20%20%20%20%20popup_e11dcd70530e4f9cbcb3868720adb986.setContent%28html_a8f074e4498c4f41b731bc5476833390%29%3B%0A%20%20%20%20%20%20%20%20%0A%0A%20%20%20%20%20%20%20%20marker_cfc23cf5f0974fa7813e682f0d838db1.bindPopup%28popup_e11dcd70530e4f9cbcb3868720adb986%29%0A%20%20%20%20%20%20%20%20%3B%0A%0A%20%20%20%20%20%20%20%20%0A%20%20%20%20%0A%20%20%20%20%0A%20%20%20%20%20%20%20%20%20%20%20%20var%20marker_1fd4e13dbb074f19bdd7b5117c6644f6%20%3D%20L.marker%28%0A%20%20%20%20%20%20%20%20%20%20%20%20%20%20%20%20%5B49.64917952880018%2C%205.866199826971168%5D%2C%0A%20%20%20%20%20%20%20%20%20%20%20%20%20%20%20%20%7B%7D%0A%20%20%20%20%20%20%20%20%20%20%20%20%29.addTo%28map_7145a60b17cf4d14a77be449870bc787%29%3B%0A%20%20%20%20%20%20%20%20%0A%20%20%20%20%0A%20%20%20%20%20%20%20%20var%20popup_6f4ec7ef413a4425bdfadbd130461b41%20%3D%20L.popup%28%7B%22maxWidth%22%3A%20%22100%25%22%7D%29%3B%0A%0A%20%20%20%20%20%20%20%20%0A%20%20%20%20%20%20%20%20%20%20%20%20var%20html_d19f3d06913845b68b7a30d2af1193fb%20%3D%20%24%28%60%3Cdiv%20id%3D%22html_d19f3d06913845b68b7a30d2af1193fb%22%20style%3D%22width%3A%20100.0%25%3B%20height%3A%20100.0%25%3B%22%3E81001B000%3C/div%3E%60%29%5B0%5D%3B%0A%20%20%20%20%20%20%20%20%20%20%20%20popup_6f4ec7ef413a4425bdfadbd130461b41.setContent%28html_d19f3d06913845b68b7a30d2af1193fb%29%3B%0A%20%20%20%20%20%20%20%20%0A%0A%20%20%20%20%20%20%20%20marker_1fd4e13dbb074f19bdd7b5117c6644f6.bindPopup%28popup_6f4ec7ef413a4425bdfadbd130461b41%29%0A%20%20%20%20%20%20%20%20%3B%0A%0A%20%20%20%20%20%20%20%20%0A%20%20%20%20%0A%20%20%20%20%0A%20%20%20%20%20%20%20%20%20%20%20%20var%20marker_09a83a10048c4d4c8608baf551902e41%20%3D%20L.marker%28%0A%20%20%20%20%20%20%20%20%20%20%20%20%20%20%20%20%5B50.355430625165006%2C%206.298047449080598%5D%2C%0A%20%20%20%20%20%20%20%20%20%20%20%20%20%20%20%20%7B%7D%0A%20%20%20%20%20%20%20%20%20%20%20%20%29.addTo%28map_7145a60b17cf4d14a77be449870bc787%29%3B%0A%20%20%20%20%20%20%20%20%0A%20%20%20%20%0A%20%20%20%20%20%20%20%20var%20popup_ad46894ab56741538fe82da5f1bcdc97%20%3D%20L.popup%28%7B%22maxWidth%22%3A%20%22100%25%22%7D%29%3B%0A%0A%20%20%20%20%20%20%20%20%0A%20%20%20%20%20%20%20%20%20%20%20%20var%20html_7c969d31e06b4ec4a7140c90532806ab%20%3D%20%24%28%60%3Cdiv%20id%3D%22html_7c969d31e06b4ec4a7140c90532806ab%22%20style%3D%22width%3A%20100.0%25%3B%20height%3A%20100.0%25%3B%22%3E63012C49-%3C/div%3E%60%29%5B0%5D%3B%0A%20%20%20%20%20%20%20%20%20%20%20%20popup_ad46894ab56741538fe82da5f1bcdc97.setContent%28html_7c969d31e06b4ec4a7140c90532806ab%29%3B%0A%20%20%20%20%20%20%20%20%0A%0A%20%20%20%20%20%20%20%20marker_09a83a10048c4d4c8608baf551902e41.bindPopup%28popup_ad46894ab56741538fe82da5f1bcdc97%29%0A%20%20%20%20%20%20%20%20%3B%0A%0A%20%20%20%20%20%20%20%20%0A%20%20%20%20%0A%20%20%20%20%0A%20%20%20%20%20%20%20%20%20%20%20%20var%20marker_9d069f85c3fc4861a407b7b93affc463%20%3D%20L.marker%28%0A%20%20%20%20%20%20%20%20%20%20%20%20%20%20%20%20%5B50.34941708788796%2C%206.293830744958616%5D%2C%0A%20%20%20%20%20%20%20%20%20%20%20%20%20%20%20%20%7B%7D%0A%20%20%20%20%20%20%20%20%20%20%20%20%29.addTo%28map_7145a60b17cf4d14a77be449870bc787%29%3B%0A%20%20%20%20%20%20%20%20%0A%20%20%20%20%0A%20%20%20%20%20%20%20%20var%20popup_3db24614678c4cbd9e044760dc7dd447%20%3D%20L.popup%28%7B%22maxWidth%22%3A%20%22100%25%22%7D%29%3B%0A%0A%20%20%20%20%20%20%20%20%0A%20%20%20%20%20%20%20%20%20%20%20%20var%20html_7d35b32ea86145e2aa69d2e0c349f2ba%20%3D%20%24%28%60%3Cdiv%20id%3D%22html_7d35b32ea86145e2aa69d2e0c349f2ba%22%20style%3D%22width%3A%20100.0%25%3B%20height%3A%20100.0%25%3B%22%3E63012C400%3C/div%3E%60%29%5B0%5D%3B%0A%20%20%20%20%20%20%20%20%20%20%20%20popup_3db24614678c4cbd9e044760dc7dd447.setContent%28html_7d35b32ea86145e2aa69d2e0c349f2ba%29%3B%0A%20%20%20%20%20%20%20%20%0A%0A%20%20%20%20%20%20%20%20marker_9d069f85c3fc4861a407b7b93affc463.bindPopup%28popup_3db24614678c4cbd9e044760dc7dd447%29%0A%20%20%20%20%20%20%20%20%3B%0A%0A%20%20%20%20%20%20%20%20%0A%20%20%20%20%0A%20%20%20%20%0A%20%20%20%20%20%20%20%20%20%20%20%20var%20marker_0a4a0255be354aa2b618a92ded57810c%20%3D%20L.marker%28%0A%20%20%20%20%20%20%20%20%20%20%20%20%20%20%20%20%5B50.398879235133755%2C%206.32416218388096%5D%2C%0A%20%20%20%20%20%20%20%20%20%20%20%20%20%20%20%20%7B%7D%0A%20%20%20%20%20%20%20%20%20%20%20%20%29.addTo%28map_7145a60b17cf4d14a77be449870bc787%29%3B%0A%20%20%20%20%20%20%20%20%0A%20%20%20%20%0A%20%20%20%20%20%20%20%20var%20popup_e4a3e4fd68464d06b14b3e5f880ba21c%20%3D%20L.popup%28%7B%22maxWidth%22%3A%20%22100%25%22%7D%29%3B%0A%0A%20%20%20%20%20%20%20%20%0A%20%20%20%20%20%20%20%20%20%20%20%20var%20html_b30ea15c5b674bb58c6472bb30cb7339%20%3D%20%24%28%60%3Cdiv%20id%3D%22html_b30ea15c5b674bb58c6472bb30cb7339%22%20style%3D%22width%3A%20100.0%25%3B%20height%3A%20100.0%25%3B%22%3E63012A29-%3C/div%3E%60%29%5B0%5D%3B%0A%20%20%20%20%20%20%20%20%20%20%20%20popup_e4a3e4fd68464d06b14b3e5f880ba21c.setContent%28html_b30ea15c5b674bb58c6472bb30cb7339%29%3B%0A%20%20%20%20%20%20%20%20%0A%0A%20%20%20%20%20%20%20%20marker_0a4a0255be354aa2b618a92ded57810c.bindPopup%28popup_e4a3e4fd68464d06b14b3e5f880ba21c%29%0A%20%20%20%20%20%20%20%20%3B%0A%0A%20%20%20%20%20%20%20%20%0A%20%20%20%20%0A%20%20%20%20%0A%20%20%20%20%20%20%20%20%20%20%20%20var%20marker_9a1f6e27f50e4dfb82745df4afa21c4e%20%3D%20L.marker%28%0A%20%20%20%20%20%20%20%20%20%20%20%20%20%20%20%20%5B50.42260402947563%2C%206.336693214965805%5D%2C%0A%20%20%20%20%20%20%20%20%20%20%20%20%20%20%20%20%7B%7D%0A%20%20%20%20%20%20%20%20%20%20%20%20%29.addTo%28map_7145a60b17cf4d14a77be449870bc787%29%3B%0A%20%20%20%20%20%20%20%20%0A%20%20%20%20%0A%20%20%20%20%20%20%20%20var%20popup_21434a183f814c598aff17239fb61bb0%20%3D%20L.popup%28%7B%22maxWidth%22%3A%20%22100%25%22%7D%29%3B%0A%0A%20%20%20%20%20%20%20%20%0A%20%20%20%20%20%20%20%20%20%20%20%20var%20html_1b669b33b6e24a2ca5d4e39d6e6b838a%20%3D%20%24%28%60%3Cdiv%20id%3D%22html_1b669b33b6e24a2ca5d4e39d6e6b838a%22%20style%3D%22width%3A%20100.0%25%3B%20height%3A%20100.0%25%3B%22%3E63012A190%3C/div%3E%60%29%5B0%5D%3B%0A%20%20%20%20%20%20%20%20%20%20%20%20popup_21434a183f814c598aff17239fb61bb0.setContent%28html_1b669b33b6e24a2ca5d4e39d6e6b838a%29%3B%0A%20%20%20%20%20%20%20%20%0A%0A%20%20%20%20%20%20%20%20marker_9a1f6e27f50e4dfb82745df4afa21c4e.bindPopup%28popup_21434a183f814c598aff17239fb61bb0%29%0A%20%20%20%20%20%20%20%20%3B%0A%0A%20%20%20%20%20%20%20%20%0A%20%20%20%20%0A%20%20%20%20%0A%20%20%20%20%20%20%20%20%20%20%20%20var%20marker_efa0a340a04c425ab5cbb4f6692d34cf%20%3D%20L.marker%28%0A%20%20%20%20%20%20%20%20%20%20%20%20%20%20%20%20%5B49.57228559389746%2C%205.815362092827297%5D%2C%0A%20%20%20%20%20%20%20%20%20%20%20%20%20%20%20%20%7B%7D%0A%20%20%20%20%20%20%20%20%20%20%20%20%29.addTo%28map_7145a60b17cf4d14a77be449870bc787%29%3B%0A%20%20%20%20%20%20%20%20%0A%20%20%20%20%0A%20%20%20%20%20%20%20%20var%20popup_4414ef19b1ac43a4bf92ac825da0765a%20%3D%20L.popup%28%7B%22maxWidth%22%3A%20%22100%25%22%7D%29%3B%0A%0A%20%20%20%20%20%20%20%20%0A%20%20%20%20%20%20%20%20%20%20%20%20var%20html_a3cebf583ba24d0eb850784e49f2451e%20%3D%20%24%28%60%3Cdiv%20id%3D%22html_a3cebf583ba24d0eb850784e49f2451e%22%20style%3D%22width%3A%20100.0%25%3B%20height%3A%20100.0%25%3B%22%3E81004A0PA%3C/div%3E%60%29%5B0%5D%3B%0A%20%20%20%20%20%20%20%20%20%20%20%20popup_4414ef19b1ac43a4bf92ac825da0765a.setContent%28html_a3cebf583ba24d0eb850784e49f2451e%29%3B%0A%20%20%20%20%20%20%20%20%0A%0A%20%20%20%20%20%20%20%20marker_efa0a340a04c425ab5cbb4f6692d34cf.bindPopup%28popup_4414ef19b1ac43a4bf92ac825da0765a%29%0A%20%20%20%20%20%20%20%20%3B%0A%0A%20%20%20%20%20%20%20%20%0A%20%20%20%20%0A%20%20%20%20%0A%20%20%20%20%20%20%20%20%20%20%20%20var%20marker_26011c26b69c42c89b40f43db154f5b8%20%3D%20L.marker%28%0A%20%20%20%20%20%20%20%20%20%20%20%20%20%20%20%20%5B49.567351732855315%2C%205.811052040944069%5D%2C%0A%20%20%20%20%20%20%20%20%20%20%20%20%20%20%20%20%7B%7D%0A%20%20%20%20%20%20%20%20%20%20%20%20%29.addTo%28map_7145a60b17cf4d14a77be449870bc787%29%3B%0A%20%20%20%20%20%20%20%20%0A%20%20%20%20%0A%20%20%20%20%20%20%20%20var%20popup_f386e107ae1042bca63668490f68a119%20%3D%20L.popup%28%7B%22maxWidth%22%3A%20%22100%25%22%7D%29%3B%0A%0A%20%20%20%20%20%20%20%20%0A%20%20%20%20%20%20%20%20%20%20%20%20var%20html_b1816eb9913146f4af4ebd856563ab32%20%3D%20%24%28%60%3Cdiv%20id%3D%22html_b1816eb9913146f4af4ebd856563ab32%22%20style%3D%22width%3A%20100.0%25%3B%20height%3A%20100.0%25%3B%22%3E81004A001%3C/div%3E%60%29%5B0%5D%3B%0A%20%20%20%20%20%20%20%20%20%20%20%20popup_f386e107ae1042bca63668490f68a119.setContent%28html_b1816eb9913146f4af4ebd856563ab32%29%3B%0A%20%20%20%20%20%20%20%20%0A%0A%20%20%20%20%20%20%20%20marker_26011c26b69c42c89b40f43db154f5b8.bindPopup%28popup_f386e107ae1042bca63668490f68a119%29%0A%20%20%20%20%20%20%20%20%3B%0A%0A%20%20%20%20%20%20%20%20%0A%20%20%20%20%0A%20%20%20%20%0A%20%20%20%20%20%20%20%20%20%20%20%20var%20marker_284f10a9afa74b50a72ca51d095d3910%20%3D%20L.marker%28%0A%20%20%20%20%20%20%20%20%20%20%20%20%20%20%20%20%5B49.595711218029436%2C%205.827936898065885%5D%2C%0A%20%20%20%20%20%20%20%20%20%20%20%20%20%20%20%20%7B%7D%0A%20%20%20%20%20%20%20%20%20%20%20%20%29.addTo%28map_7145a60b17cf4d14a77be449870bc787%29%3B%0A%20%20%20%20%20%20%20%20%0A%20%20%20%20%0A%20%20%20%20%20%20%20%20var%20popup_5ba5a9826e88401ba762885e15866a47%20%3D%20L.popup%28%7B%22maxWidth%22%3A%20%22100%25%22%7D%29%3B%0A%0A%20%20%20%20%20%20%20%20%0A%20%20%20%20%20%20%20%20%20%20%20%20var%20html_9cc535182fb34ec1ad11912340689147%20%3D%20%24%28%60%3Cdiv%20id%3D%22html_9cc535182fb34ec1ad11912340689147%22%20style%3D%22width%3A%20100.0%25%3B%20height%3A%20100.0%25%3B%22%3E81015A022%3C/div%3E%60%29%5B0%5D%3B%0A%20%20%20%20%20%20%20%20%20%20%20%20popup_5ba5a9826e88401ba762885e15866a47.setContent%28html_9cc535182fb34ec1ad11912340689147%29%3B%0A%20%20%20%20%20%20%20%20%0A%0A%20%20%20%20%20%20%20%20marker_284f10a9afa74b50a72ca51d095d3910.bindPopup%28popup_5ba5a9826e88401ba762885e15866a47%29%0A%20%20%20%20%20%20%20%20%3B%0A%0A%20%20%20%20%20%20%20%20%0A%20%20%20%20%0A%20%20%20%20%0A%20%20%20%20%20%20%20%20%20%20%20%20var%20marker_4c2eb738a95647d0b7ae183151e197d7%20%3D%20L.marker%28%0A%20%20%20%20%20%20%20%20%20%20%20%20%20%20%20%20%5B49.557056854778686%2C%205.804490955193009%5D%2C%0A%20%20%20%20%20%20%20%20%20%20%20%20%20%20%20%20%7B%7D%0A%20%20%20%20%20%20%20%20%20%20%20%20%29.addTo%28map_7145a60b17cf4d14a77be449870bc787%29%3B%0A%20%20%20%20%20%20%20%20%0A%20%20%20%20%0A%20%20%20%20%20%20%20%20var%20popup_6e0100c9ab55485999e3d2f83054a3ad%20%3D%20L.popup%28%7B%22maxWidth%22%3A%20%22100%25%22%7D%29%3B%0A%0A%20%20%20%20%20%20%20%20%0A%20%20%20%20%20%20%20%20%20%20%20%20var%20html_d7cad2a965794d64b80ed0b4c97eebee%20%3D%20%24%28%60%3Cdiv%20id%3D%22html_d7cad2a965794d64b80ed0b4c97eebee%22%20style%3D%22width%3A%20100.0%25%3B%20height%3A%20100.0%25%3B%22%3E81004A0PA%3C/div%3E%60%29%5B0%5D%3B%0A%20%20%20%20%20%20%20%20%20%20%20%20popup_6e0100c9ab55485999e3d2f83054a3ad.setContent%28html_d7cad2a965794d64b80ed0b4c97eebee%29%3B%0A%20%20%20%20%20%20%20%20%0A%0A%20%20%20%20%20%20%20%20marker_4c2eb738a95647d0b7ae183151e197d7.bindPopup%28popup_6e0100c9ab55485999e3d2f83054a3ad%29%0A%20%20%20%20%20%20%20%20%3B%0A%0A%20%20%20%20%20%20%20%20%0A%20%20%20%20%0A%20%20%20%20%0A%20%20%20%20%20%20%20%20%20%20%20%20var%20marker_6c092ad1855842e486159e434ada8a47%20%3D%20L.marker%28%0A%20%20%20%20%20%20%20%20%20%20%20%20%20%20%20%20%5B49.665835333622894%2C%205.86653179686311%5D%2C%0A%20%20%20%20%20%20%20%20%20%20%20%20%20%20%20%20%7B%7D%0A%20%20%20%20%20%20%20%20%20%20%20%20%29.addTo%28map_7145a60b17cf4d14a77be449870bc787%29%3B%0A%20%20%20%20%20%20%20%20%0A%20%20%20%20%0A%20%20%20%20%20%20%20%20var%20popup_b77ea742ad2a40d890fe590a4b1cf727%20%3D%20L.popup%28%7B%22maxWidth%22%3A%20%22100%25%22%7D%29%3B%0A%0A%20%20%20%20%20%20%20%20%0A%20%20%20%20%20%20%20%20%20%20%20%20var%20html_733032bd5842423bbf12a12d6c9012cc%20%3D%20%24%28%60%3Cdiv%20id%3D%22html_733032bd5842423bbf12a12d6c9012cc%22%20style%3D%22width%3A%20100.0%25%3B%20height%3A%20100.0%25%3B%22%3E81001B01-%3C/div%3E%60%29%5B0%5D%3B%0A%20%20%20%20%20%20%20%20%20%20%20%20popup_b77ea742ad2a40d890fe590a4b1cf727.setContent%28html_733032bd5842423bbf12a12d6c9012cc%29%3B%0A%20%20%20%20%20%20%20%20%0A%0A%20%20%20%20%20%20%20%20marker_6c092ad1855842e486159e434ada8a47.bindPopup%28popup_b77ea742ad2a40d890fe590a4b1cf727%29%0A%20%20%20%20%20%20%20%20%3B%0A%0A%20%20%20%20%20%20%20%20%0A%20%20%20%20%0A%20%20%20%20%0A%20%20%20%20%20%20%20%20%20%20%20%20var%20marker_88392d679c504445a6bc25b2465cf323%20%3D%20L.marker%28%0A%20%20%20%20%20%20%20%20%20%20%20%20%20%20%20%20%5B49.565141617398666%2C%205.8037912270018985%5D%2C%0A%20%20%20%20%20%20%20%20%20%20%20%20%20%20%20%20%7B%7D%0A%20%20%20%20%20%20%20%20%20%20%20%20%29.addTo%28map_7145a60b17cf4d14a77be449870bc787%29%3B%0A%20%20%20%20%20%20%20%20%0A%20%20%20%20%0A%20%20%20%20%20%20%20%20var%20popup_385ecca11fde4421a4b2b1edfced4ca1%20%3D%20L.popup%28%7B%22maxWidth%22%3A%20%22100%25%22%7D%29%3B%0A%0A%20%20%20%20%20%20%20%20%0A%20%20%20%20%20%20%20%20%20%20%20%20var%20html_0d085643414b419b923e35ca0c4a3e51%20%3D%20%24%28%60%3Cdiv%20id%3D%22html_0d085643414b419b923e35ca0c4a3e51%22%20style%3D%22width%3A%20100.0%25%3B%20height%3A%20100.0%25%3B%22%3E81004A022%3C/div%3E%60%29%5B0%5D%3B%0A%20%20%20%20%20%20%20%20%20%20%20%20popup_385ecca11fde4421a4b2b1edfced4ca1.setContent%28html_0d085643414b419b923e35ca0c4a3e51%29%3B%0A%20%20%20%20%20%20%20%20%0A%0A%20%20%20%20%20%20%20%20marker_88392d679c504445a6bc25b2465cf323.bindPopup%28popup_385ecca11fde4421a4b2b1edfced4ca1%29%0A%20%20%20%20%20%20%20%20%3B%0A%0A%20%20%20%20%20%20%20%20%0A%20%20%20%20%0A%20%20%20%20%0A%20%20%20%20%20%20%20%20%20%20%20%20var%20marker_f56e1e27d0d74d74ac150b4521704e10%20%3D%20L.marker%28%0A%20%20%20%20%20%20%20%20%20%20%20%20%20%20%20%20%5B49.59745790084386%2C%205.8199343077456875%5D%2C%0A%20%20%20%20%20%20%20%20%20%20%20%20%20%20%20%20%7B%7D%0A%20%20%20%20%20%20%20%20%20%20%20%20%29.addTo%28map_7145a60b17cf4d14a77be449870bc787%29%3B%0A%20%20%20%20%20%20%20%20%0A%20%20%20%20%0A%20%20%20%20%20%20%20%20var%20popup_1298b987f53f4ccbb015d2b1dfac1c00%20%3D%20L.popup%28%7B%22maxWidth%22%3A%20%22100%25%22%7D%29%3B%0A%0A%20%20%20%20%20%20%20%20%0A%20%20%20%20%20%20%20%20%20%20%20%20var%20html_a2602190a35b461abfc5cdfb1df3ad5c%20%3D%20%24%28%60%3Cdiv%20id%3D%22html_a2602190a35b461abfc5cdfb1df3ad5c%22%20style%3D%22width%3A%20100.0%25%3B%20height%3A%20100.0%25%3B%22%3E81015A012%3C/div%3E%60%29%5B0%5D%3B%0A%20%20%20%20%20%20%20%20%20%20%20%20popup_1298b987f53f4ccbb015d2b1dfac1c00.setContent%28html_a2602190a35b461abfc5cdfb1df3ad5c%29%3B%0A%20%20%20%20%20%20%20%20%0A%0A%20%20%20%20%20%20%20%20marker_f56e1e27d0d74d74ac150b4521704e10.bindPopup%28popup_1298b987f53f4ccbb015d2b1dfac1c00%29%0A%20%20%20%20%20%20%20%20%3B%0A%0A%20%20%20%20%20%20%20%20%0A%20%20%20%20%0A%20%20%20%20%0A%20%20%20%20%20%20%20%20%20%20%20%20var%20marker_bf3b24d12a5e4fa4adba103f4d141df6%20%3D%20L.marker%28%0A%20%20%20%20%20%20%20%20%20%20%20%20%20%20%20%20%5B49.63126097841569%2C%205.839538960510513%5D%2C%0A%20%20%20%20%20%20%20%20%20%20%20%20%20%20%20%20%7B%7D%0A%20%20%20%20%20%20%20%20%20%20%20%20%29.addTo%28map_7145a60b17cf4d14a77be449870bc787%29%3B%0A%20%20%20%20%20%20%20%20%0A%20%20%20%20%0A%20%20%20%20%20%20%20%20var%20popup_cb592b8eb92d4e7e8744679ed1ef8f2c%20%3D%20L.popup%28%7B%22maxWidth%22%3A%20%22100%25%22%7D%29%3B%0A%0A%20%20%20%20%20%20%20%20%0A%20%20%20%20%20%20%20%20%20%20%20%20var%20html_7d654f4aac864edbbab15e105f1cc8b3%20%3D%20%24%28%60%3Cdiv%20id%3D%22html_7d654f4aac864edbbab15e105f1cc8b3%22%20style%3D%22width%3A%20100.0%25%3B%20height%3A%20100.0%25%3B%22%3E81015E090%3C/div%3E%60%29%5B0%5D%3B%0A%20%20%20%20%20%20%20%20%20%20%20%20popup_cb592b8eb92d4e7e8744679ed1ef8f2c.setContent%28html_7d654f4aac864edbbab15e105f1cc8b3%29%3B%0A%20%20%20%20%20%20%20%20%0A%0A%20%20%20%20%20%20%20%20marker_bf3b24d12a5e4fa4adba103f4d141df6.bindPopup%28popup_cb592b8eb92d4e7e8744679ed1ef8f2c%29%0A%20%20%20%20%20%20%20%20%3B%0A%0A%20%20%20%20%20%20%20%20%0A%20%20%20%20%0A%20%20%20%20%0A%20%20%20%20%20%20%20%20%20%20%20%20var%20marker_dfb6ff9053ed45739663bdcc4d0d4b04%20%3D%20L.marker%28%0A%20%20%20%20%20%20%20%20%20%20%20%20%20%20%20%20%5B49.55921657794142%2C%205.794379259698215%5D%2C%0A%20%20%20%20%20%20%20%20%20%20%20%20%20%20%20%20%7B%7D%0A%20%20%20%20%20%20%20%20%20%20%20%20%29.addTo%28map_7145a60b17cf4d14a77be449870bc787%29%3B%0A%20%20%20%20%20%20%20%20%0A%20%20%20%20%0A%20%20%20%20%20%20%20%20var%20popup_619b80d5733946c2af3543b576404b15%20%3D%20L.popup%28%7B%22maxWidth%22%3A%20%22100%25%22%7D%29%3B%0A%0A%20%20%20%20%20%20%20%20%0A%20%20%20%20%20%20%20%20%20%20%20%20var%20html_fe98c05465d545898109b1666137ee2c%20%3D%20%24%28%60%3Cdiv%20id%3D%22html_fe98c05465d545898109b1666137ee2c%22%20style%3D%22width%3A%20100.0%25%3B%20height%3A%20100.0%25%3B%22%3E81004A01-%3C/div%3E%60%29%5B0%5D%3B%0A%20%20%20%20%20%20%20%20%20%20%20%20popup_619b80d5733946c2af3543b576404b15.setContent%28html_fe98c05465d545898109b1666137ee2c%29%3B%0A%20%20%20%20%20%20%20%20%0A%0A%20%20%20%20%20%20%20%20marker_dfb6ff9053ed45739663bdcc4d0d4b04.bindPopup%28popup_619b80d5733946c2af3543b576404b15%29%0A%20%20%20%20%20%20%20%20%3B%0A%0A%20%20%20%20%20%20%20%20%0A%20%20%20%20%0A%20%20%20%20%0A%20%20%20%20%20%20%20%20%20%20%20%20var%20marker_bbf33d39d3114f89b47b34b82bd349e3%20%3D%20L.marker%28%0A%20%20%20%20%20%20%20%20%20%20%20%20%20%20%20%20%5B50.31900637766146%2C%206.25841200985258%5D%2C%0A%20%20%20%20%20%20%20%20%20%20%20%20%20%20%20%20%7B%7D%0A%20%20%20%20%20%20%20%20%20%20%20%20%29.addTo%28map_7145a60b17cf4d14a77be449870bc787%29%3B%0A%20%20%20%20%20%20%20%20%0A%20%20%20%20%0A%20%20%20%20%20%20%20%20var%20popup_35f75efb75a240648d5d94b3342999c4%20%3D%20L.popup%28%7B%22maxWidth%22%3A%20%22100%25%22%7D%29%3B%0A%0A%20%20%20%20%20%20%20%20%0A%20%20%20%20%20%20%20%20%20%20%20%20var%20html_eca4e11f155744a1b06ab6dccb6cf075%20%3D%20%24%28%60%3Cdiv%20id%3D%22html_eca4e11f155744a1b06ab6dccb6cf075%22%20style%3D%22width%3A%20100.0%25%3B%20height%3A%20100.0%25%3B%22%3E63001C10-%3C/div%3E%60%29%5B0%5D%3B%0A%20%20%20%20%20%20%20%20%20%20%20%20popup_35f75efb75a240648d5d94b3342999c4.setContent%28html_eca4e11f155744a1b06ab6dccb6cf075%29%3B%0A%20%20%20%20%20%20%20%20%0A%0A%20%20%20%20%20%20%20%20marker_bbf33d39d3114f89b47b34b82bd349e3.bindPopup%28popup_35f75efb75a240648d5d94b3342999c4%29%0A%20%20%20%20%20%20%20%20%3B%0A%0A%20%20%20%20%20%20%20%20%0A%20%20%20%20%0A%20%20%20%20%0A%20%20%20%20%20%20%20%20%20%20%20%20var%20marker_e1f4bf0bb0e74b6795f9b08064bbaf49%20%3D%20L.marker%28%0A%20%20%20%20%20%20%20%20%20%20%20%20%20%20%20%20%5B49.59349911619093%2C%205.814062854680424%5D%2C%0A%20%20%20%20%20%20%20%20%20%20%20%20%20%20%20%20%7B%7D%0A%20%20%20%20%20%20%20%20%20%20%20%20%29.addTo%28map_7145a60b17cf4d14a77be449870bc787%29%3B%0A%20%20%20%20%20%20%20%20%0A%20%20%20%20%0A%20%20%20%20%20%20%20%20var%20popup_16a56dac30ad4cb393c0ab6319bb0b70%20%3D%20L.popup%28%7B%22maxWidth%22%3A%20%22100%25%22%7D%29%3B%0A%0A%20%20%20%20%20%20%20%20%0A%20%20%20%20%20%20%20%20%20%20%20%20var%20html_1b1daa52f83f491abe2e68659762f6c7%20%3D%20%24%28%60%3Cdiv%20id%3D%22html_1b1daa52f83f491abe2e68659762f6c7%22%20style%3D%22width%3A%20100.0%25%3B%20height%3A%20100.0%25%3B%22%3E81015A001%3C/div%3E%60%29%5B0%5D%3B%0A%20%20%20%20%20%20%20%20%20%20%20%20popup_16a56dac30ad4cb393c0ab6319bb0b70.setContent%28html_1b1daa52f83f491abe2e68659762f6c7%29%3B%0A%20%20%20%20%20%20%20%20%0A%0A%20%20%20%20%20%20%20%20marker_e1f4bf0bb0e74b6795f9b08064bbaf49.bindPopup%28popup_16a56dac30ad4cb393c0ab6319bb0b70%29%0A%20%20%20%20%20%20%20%20%3B%0A%0A%20%20%20%20%20%20%20%20%0A%20%20%20%20%0A%20%20%20%20%0A%20%20%20%20%20%20%20%20%20%20%20%20var%20marker_174c3b6fb0d44671a73b79bfb4a57a6b%20%3D%20L.marker%28%0A%20%20%20%20%20%20%20%20%20%20%20%20%20%20%20%20%5B49.57312874314543%2C%205.801388460218507%5D%2C%0A%20%20%20%20%20%20%20%20%20%20%20%20%20%20%20%20%7B%7D%0A%20%20%20%20%20%20%20%20%20%20%20%20%29.addTo%28map_7145a60b17cf4d14a77be449870bc787%29%3B%0A%20%20%20%20%20%20%20%20%0A%20%20%20%20%0A%20%20%20%20%20%20%20%20var%20popup_bc797250ec5d4295b7e458bd935a9866%20%3D%20L.popup%28%7B%22maxWidth%22%3A%20%22100%25%22%7D%29%3B%0A%0A%20%20%20%20%20%20%20%20%0A%20%20%20%20%20%20%20%20%20%20%20%20var%20html_4263d9ec655a4e7194389ef57cd7d956%20%3D%20%24%28%60%3Cdiv%20id%3D%22html_4263d9ec655a4e7194389ef57cd7d956%22%20style%3D%22width%3A%20100.0%25%3B%20height%3A%20100.0%25%3B%22%3E81004A033%3C/div%3E%60%29%5B0%5D%3B%0A%20%20%20%20%20%20%20%20%20%20%20%20popup_bc797250ec5d4295b7e458bd935a9866.setContent%28html_4263d9ec655a4e7194389ef57cd7d956%29%3B%0A%20%20%20%20%20%20%20%20%0A%0A%20%20%20%20%20%20%20%20marker_174c3b6fb0d44671a73b79bfb4a57a6b.bindPopup%28popup_bc797250ec5d4295b7e458bd935a9866%29%0A%20%20%20%20%20%20%20%20%3B%0A%0A%20%20%20%20%20%20%20%20%0A%20%20%20%20%0A%20%20%20%20%0A%20%20%20%20%20%20%20%20%20%20%20%20var%20marker_6d2448dd312e4a859879b191b7ef5a1b%20%3D%20L.marker%28%0A%20%20%20%20%20%20%20%20%20%20%20%20%20%20%20%20%5B49.6130241839754%2C%205.825285248953193%5D%2C%0A%20%20%20%20%20%20%20%20%20%20%20%20%20%20%20%20%7B%7D%0A%20%20%20%20%20%20%20%20%20%20%20%20%29.addTo%28map_7145a60b17cf4d14a77be449870bc787%29%3B%0A%20%20%20%20%20%20%20%20%0A%20%20%20%20%0A%20%20%20%20%20%20%20%20var%20popup_4be5cae9c9184f59b1a82a88d28be8d9%20%3D%20L.popup%28%7B%22maxWidth%22%3A%20%22100%25%22%7D%29%3B%0A%0A%20%20%20%20%20%20%20%20%0A%20%20%20%20%20%20%20%20%20%20%20%20var%20html_9cd3f643a8b9495f8e9759db5171fd66%20%3D%20%24%28%60%3Cdiv%20id%3D%22html_9cd3f643a8b9495f8e9759db5171fd66%22%20style%3D%22width%3A%20100.0%25%3B%20height%3A%20100.0%25%3B%22%3E81015A490%3C/div%3E%60%29%5B0%5D%3B%0A%20%20%20%20%20%20%20%20%20%20%20%20popup_4be5cae9c9184f59b1a82a88d28be8d9.setContent%28html_9cd3f643a8b9495f8e9759db5171fd66%29%3B%0A%20%20%20%20%20%20%20%20%0A%0A%20%20%20%20%20%20%20%20marker_6d2448dd312e4a859879b191b7ef5a1b.bindPopup%28popup_4be5cae9c9184f59b1a82a88d28be8d9%29%0A%20%20%20%20%20%20%20%20%3B%0A%0A%20%20%20%20%20%20%20%20%0A%20%20%20%20%0A%20%20%20%20%0A%20%20%20%20%20%20%20%20%20%20%20%20var%20marker_ccb3590551c94d1b96e7b5244080384b%20%3D%20L.marker%28%0A%20%20%20%20%20%20%20%20%20%20%20%20%20%20%20%20%5B50.28541951899706%2C%206.235911629982359%5D%2C%0A%20%20%20%20%20%20%20%20%20%20%20%20%20%20%20%20%7B%7D%0A%20%20%20%20%20%20%20%20%20%20%20%20%29.addTo%28map_7145a60b17cf4d14a77be449870bc787%29%3B%0A%20%20%20%20%20%20%20%20%0A%20%20%20%20%0A%20%20%20%20%20%20%20%20var%20popup_37cbdf4771d744178d3f9f0e0962ecb0%20%3D%20L.popup%28%7B%22maxWidth%22%3A%20%22100%25%22%7D%29%3B%0A%0A%20%20%20%20%20%20%20%20%0A%20%20%20%20%20%20%20%20%20%20%20%20var%20html_4439862cca6345ed8ee2e4d75ddf1cbd%20%3D%20%24%28%60%3Cdiv%20id%3D%22html_4439862cca6345ed8ee2e4d75ddf1cbd%22%20style%3D%22width%3A%20100.0%25%3B%20height%3A%20100.0%25%3B%22%3E63067D60-%3C/div%3E%60%29%5B0%5D%3B%0A%20%20%20%20%20%20%20%20%20%20%20%20popup_37cbdf4771d744178d3f9f0e0962ecb0.setContent%28html_4439862cca6345ed8ee2e4d75ddf1cbd%29%3B%0A%20%20%20%20%20%20%20%20%0A%0A%20%20%20%20%20%20%20%20marker_ccb3590551c94d1b96e7b5244080384b.bindPopup%28popup_37cbdf4771d744178d3f9f0e0962ecb0%29%0A%20%20%20%20%20%20%20%20%3B%0A%0A%20%20%20%20%20%20%20%20%0A%20%20%20%20%0A%20%20%20%20%0A%20%20%20%20%20%20%20%20%20%20%20%20var%20marker_25a842bd2c4047c395d871d4723ec6e5%20%3D%20L.marker%28%0A%20%20%20%20%20%20%20%20%20%20%20%20%20%20%20%20%5B49.59402501287968%2C%205.8113852547024765%5D%2C%0A%20%20%20%20%20%20%20%20%20%20%20%20%20%20%20%20%7B%7D%0A%20%20%20%20%20%20%20%20%20%20%20%20%29.addTo%28map_7145a60b17cf4d14a77be449870bc787%29%3B%0A%20%20%20%20%20%20%20%20%0A%20%20%20%20%0A%20%20%20%20%20%20%20%20var%20popup_b412b905dc394244aed2ccae81f27658%20%3D%20L.popup%28%7B%22maxWidth%22%3A%20%22100%25%22%7D%29%3B%0A%0A%20%20%20%20%20%20%20%20%0A%20%20%20%20%20%20%20%20%20%20%20%20var%20html_abaf498314144ebeb1a687e204b62d2a%20%3D%20%24%28%60%3Cdiv%20id%3D%22html_abaf498314144ebeb1a687e204b62d2a%22%20style%3D%22width%3A%20100.0%25%3B%20height%3A%20100.0%25%3B%22%3E81015A0PA%3C/div%3E%60%29%5B0%5D%3B%0A%20%20%20%20%20%20%20%20%20%20%20%20popup_b412b905dc394244aed2ccae81f27658.setContent%28html_abaf498314144ebeb1a687e204b62d2a%29%3B%0A%20%20%20%20%20%20%20%20%0A%0A%20%20%20%20%20%20%20%20marker_25a842bd2c4047c395d871d4723ec6e5.bindPopup%28popup_b412b905dc394244aed2ccae81f27658%29%0A%20%20%20%20%20%20%20%20%3B%0A%0A%20%20%20%20%20%20%20%20%0A%20%20%20%20%0A%20%20%20%20%0A%20%20%20%20%20%20%20%20%20%20%20%20var%20marker_787194bd65734e17bcd5c5f08627bedf%20%3D%20L.marker%28%0A%20%20%20%20%20%20%20%20%20%20%20%20%20%20%20%20%5B49.568116944395655%2C%205.795139174564913%5D%2C%0A%20%20%20%20%20%20%20%20%20%20%20%20%20%20%20%20%7B%7D%0A%20%20%20%20%20%20%20%20%20%20%20%20%29.addTo%28map_7145a60b17cf4d14a77be449870bc787%29%3B%0A%20%20%20%20%20%20%20%20%0A%20%20%20%20%0A%20%20%20%20%20%20%20%20var%20popup_03bd77cb47fc4f2480f8806cbfd81b0c%20%3D%20L.popup%28%7B%22maxWidth%22%3A%20%22100%25%22%7D%29%3B%0A%0A%20%20%20%20%20%20%20%20%0A%20%20%20%20%20%20%20%20%20%20%20%20var%20html_2deff7b36cf344899ee44609bf7255f2%20%3D%20%24%28%60%3Cdiv%20id%3D%22html_2deff7b36cf344899ee44609bf7255f2%22%20style%3D%22width%3A%20100.0%25%3B%20height%3A%20100.0%25%3B%22%3E81004A0PA%3C/div%3E%60%29%5B0%5D%3B%0A%20%20%20%20%20%20%20%20%20%20%20%20popup_03bd77cb47fc4f2480f8806cbfd81b0c.setContent%28html_2deff7b36cf344899ee44609bf7255f2%29%3B%0A%20%20%20%20%20%20%20%20%0A%0A%20%20%20%20%20%20%20%20marker_787194bd65734e17bcd5c5f08627bedf.bindPopup%28popup_03bd77cb47fc4f2480f8806cbfd81b0c%29%0A%20%20%20%20%20%20%20%20%3B%0A%0A%20%20%20%20%20%20%20%20%0A%20%20%20%20%0A%20%20%20%20%0A%20%20%20%20%20%20%20%20%20%20%20%20var%20marker_01a0816ce038498dac3bb1669d9029b1%20%3D%20L.marker%28%0A%20%20%20%20%20%20%20%20%20%20%20%20%20%20%20%20%5B49.60247716945779%2C%205.8152541405377%5D%2C%0A%20%20%20%20%20%20%20%20%20%20%20%20%20%20%20%20%7B%7D%0A%20%20%20%20%20%20%20%20%20%20%20%20%29.addTo%28map_7145a60b17cf4d14a77be449870bc787%29%3B%0A%20%20%20%20%20%20%20%20%0A%20%20%20%20%0A%20%20%20%20%20%20%20%20var%20popup_1588616de8a34abbb58328d357158255%20%3D%20L.popup%28%7B%22maxWidth%22%3A%20%22100%25%22%7D%29%3B%0A%0A%20%20%20%20%20%20%20%20%0A%20%20%20%20%20%20%20%20%20%20%20%20var%20html_3d6563dfbd0b4cad900d5513ad8d27ca%20%3D%20%24%28%60%3Cdiv%20id%3D%22html_3d6563dfbd0b4cad900d5513ad8d27ca%22%20style%3D%22width%3A%20100.0%25%3B%20height%3A%20100.0%25%3B%22%3E81015A0PA%3C/div%3E%60%29%5B0%5D%3B%0A%20%20%20%20%20%20%20%20%20%20%20%20popup_1588616de8a34abbb58328d357158255.setContent%28html_3d6563dfbd0b4cad900d5513ad8d27ca%29%3B%0A%20%20%20%20%20%20%20%20%0A%0A%20%20%20%20%20%20%20%20marker_01a0816ce038498dac3bb1669d9029b1.bindPopup%28popup_1588616de8a34abbb58328d357158255%29%0A%20%20%20%20%20%20%20%20%3B%0A%0A%20%20%20%20%20%20%20%20%0A%20%20%20%20%0A%20%20%20%20%0A%20%20%20%20%20%20%20%20%20%20%20%20var%20marker_16782e40aa3c4fcea93b720d6f1f9bed%20%3D%20L.marker%28%0A%20%20%20%20%20%20%20%20%20%20%20%20%20%20%20%20%5B49.61204425165213%2C%205.820530392328604%5D%2C%0A%20%20%20%20%20%20%20%20%20%20%20%20%20%20%20%20%7B%7D%0A%20%20%20%20%20%20%20%20%20%20%20%20%29.addTo%28map_7145a60b17cf4d14a77be449870bc787%29%3B%0A%20%20%20%20%20%20%20%20%0A%20%20%20%20%0A%20%20%20%20%20%20%20%20var%20popup_8fe0c8376981483b8e410c12db6c7287%20%3D%20L.popup%28%7B%22maxWidth%22%3A%20%22100%25%22%7D%29%3B%0A%0A%20%20%20%20%20%20%20%20%0A%20%20%20%20%20%20%20%20%20%20%20%20var%20html_db2192e560d04caf9b24b3abab979a86%20%3D%20%24%28%60%3Cdiv%20id%3D%22html_db2192e560d04caf9b24b3abab979a86%22%20style%3D%22width%3A%20100.0%25%3B%20height%3A%20100.0%25%3B%22%3E81015A400%3C/div%3E%60%29%5B0%5D%3B%0A%20%20%20%20%20%20%20%20%20%20%20%20popup_8fe0c8376981483b8e410c12db6c7287.setContent%28html_db2192e560d04caf9b24b3abab979a86%29%3B%0A%20%20%20%20%20%20%20%20%0A%0A%20%20%20%20%20%20%20%20marker_16782e40aa3c4fcea93b720d6f1f9bed.bindPopup%28popup_8fe0c8376981483b8e410c12db6c7287%29%0A%20%20%20%20%20%20%20%20%3B%0A%0A%20%20%20%20%20%20%20%20%0A%20%20%20%20%0A%20%20%20%20%0A%20%20%20%20%20%20%20%20%20%20%20%20var%20marker_cf2080ba1d524dabb643897bca70f864%20%3D%20L.marker%28%0A%20%20%20%20%20%20%20%20%20%20%20%20%20%20%20%20%5B49.58662341565335%2C%205.804638338321743%5D%2C%0A%20%20%20%20%20%20%20%20%20%20%20%20%20%20%20%20%7B%7D%0A%20%20%20%20%20%20%20%20%20%20%20%20%29.addTo%28map_7145a60b17cf4d14a77be449870bc787%29%3B%0A%20%20%20%20%20%20%20%20%0A%20%20%20%20%0A%20%20%20%20%20%20%20%20var%20popup_3e568a03ee9047778e5438762429daf6%20%3D%20L.popup%28%7B%22maxWidth%22%3A%20%22100%25%22%7D%29%3B%0A%0A%20%20%20%20%20%20%20%20%0A%20%20%20%20%20%20%20%20%20%20%20%20var%20html_c8f5e90d5631433b80dbd8959dbdf489%20%3D%20%24%28%60%3Cdiv%20id%3D%22html_c8f5e90d5631433b80dbd8959dbdf489%22%20style%3D%22width%3A%20100.0%25%3B%20height%3A%20100.0%25%3B%22%3E81015A0MA%3C/div%3E%60%29%5B0%5D%3B%0A%20%20%20%20%20%20%20%20%20%20%20%20popup_3e568a03ee9047778e5438762429daf6.setContent%28html_c8f5e90d5631433b80dbd8959dbdf489%29%3B%0A%20%20%20%20%20%20%20%20%0A%0A%20%20%20%20%20%20%20%20marker_cf2080ba1d524dabb643897bca70f864.bindPopup%28popup_3e568a03ee9047778e5438762429daf6%29%0A%20%20%20%20%20%20%20%20%3B%0A%0A%20%20%20%20%20%20%20%20%0A%20%20%20%20%0A%20%20%20%20%0A%20%20%20%20%20%20%20%20%20%20%20%20var%20marker_13785ef1c6be46d4a40499e2d4e5a2c6%20%3D%20L.marker%28%0A%20%20%20%20%20%20%20%20%20%20%20%20%20%20%20%20%5B49.561043131851754%2C%205.789113520078777%5D%2C%0A%20%20%20%20%20%20%20%20%20%20%20%20%20%20%20%20%7B%7D%0A%20%20%20%20%20%20%20%20%20%20%20%20%29.addTo%28map_7145a60b17cf4d14a77be449870bc787%29%3B%0A%20%20%20%20%20%20%20%20%0A%20%20%20%20%0A%20%20%20%20%20%20%20%20var%20popup_21d875b518e64fa08c7b493b4ec865fd%20%3D%20L.popup%28%7B%22maxWidth%22%3A%20%22100%25%22%7D%29%3B%0A%0A%20%20%20%20%20%20%20%20%0A%20%20%20%20%20%20%20%20%20%20%20%20var%20html_14fd0c132db442b99cd73e73adad97de%20%3D%20%24%28%60%3Cdiv%20id%3D%22html_14fd0c132db442b99cd73e73adad97de%22%20style%3D%22width%3A%20100.0%25%3B%20height%3A%20100.0%25%3B%22%3E81004A0NA%3C/div%3E%60%29%5B0%5D%3B%0A%20%20%20%20%20%20%20%20%20%20%20%20popup_21d875b518e64fa08c7b493b4ec865fd.setContent%28html_14fd0c132db442b99cd73e73adad97de%29%3B%0A%20%20%20%20%20%20%20%20%0A%0A%20%20%20%20%20%20%20%20marker_13785ef1c6be46d4a40499e2d4e5a2c6.bindPopup%28popup_21d875b518e64fa08c7b493b4ec865fd%29%0A%20%20%20%20%20%20%20%20%3B%0A%0A%20%20%20%20%20%20%20%20%0A%20%20%20%20%0A%20%20%20%20%0A%20%20%20%20%20%20%20%20%20%20%20%20var%20marker_119e533374f84419a0bf6a8f4b9fba59%20%3D%20L.marker%28%0A%20%20%20%20%20%20%20%20%20%20%20%20%20%20%20%20%5B49.63541711604061%2C%205.834110120376894%5D%2C%0A%20%20%20%20%20%20%20%20%20%20%20%20%20%20%20%20%7B%7D%0A%20%20%20%20%20%20%20%20%20%20%20%20%29.addTo%28map_7145a60b17cf4d14a77be449870bc787%29%3B%0A%20%20%20%20%20%20%20%20%0A%20%20%20%20%0A%20%20%20%20%20%20%20%20var%20popup_675d66ca9c0c4282b1d6ba65eae03ec0%20%3D%20L.popup%28%7B%22maxWidth%22%3A%20%22100%25%22%7D%29%3B%0A%0A%20%20%20%20%20%20%20%20%0A%20%20%20%20%20%20%20%20%20%20%20%20var%20html_130dce2083ee459e9337f8305fcc4063%20%3D%20%24%28%60%3Cdiv%20id%3D%22html_130dce2083ee459e9337f8305fcc4063%22%20style%3D%22width%3A%20100.0%25%3B%20height%3A%20100.0%25%3B%22%3E81015E000%3C/div%3E%60%29%5B0%5D%3B%0A%20%20%20%20%20%20%20%20%20%20%20%20popup_675d66ca9c0c4282b1d6ba65eae03ec0.setContent%28html_130dce2083ee459e9337f8305fcc4063%29%3B%0A%20%20%20%20%20%20%20%20%0A%0A%20%20%20%20%20%20%20%20marker_119e533374f84419a0bf6a8f4b9fba59.bindPopup%28popup_675d66ca9c0c4282b1d6ba65eae03ec0%29%0A%20%20%20%20%20%20%20%20%3B%0A%0A%20%20%20%20%20%20%20%20%0A%20%20%20%20%0A%20%20%20%20%0A%20%20%20%20%20%20%20%20%20%20%20%20var%20marker_427e7e6311904871abdfa855427b670c%20%3D%20L.marker%28%0A%20%20%20%20%20%20%20%20%20%20%20%20%20%20%20%20%5B49.57921700284063%2C%205.7997711509520045%5D%2C%0A%20%20%20%20%20%20%20%20%20%20%20%20%20%20%20%20%7B%7D%0A%20%20%20%20%20%20%20%20%20%20%20%20%29.addTo%28map_7145a60b17cf4d14a77be449870bc787%29%3B%0A%20%20%20%20%20%20%20%20%0A%20%20%20%20%0A%20%20%20%20%20%20%20%20var%20popup_7da26fab9547459cb92eb4bfab2630df%20%3D%20L.popup%28%7B%22maxWidth%22%3A%20%22100%25%22%7D%29%3B%0A%0A%20%20%20%20%20%20%20%20%0A%20%20%20%20%20%20%20%20%20%20%20%20var%20html_ac9aa848bdc047a5b8141bee65334128%20%3D%20%24%28%60%3Cdiv%20id%3D%22html_ac9aa848bdc047a5b8141bee65334128%22%20style%3D%22width%3A%20100.0%25%3B%20height%3A%20100.0%25%3B%22%3E81004A0PA%3C/div%3E%60%29%5B0%5D%3B%0A%20%20%20%20%20%20%20%20%20%20%20%20popup_7da26fab9547459cb92eb4bfab2630df.setContent%28html_ac9aa848bdc047a5b8141bee65334128%29%3B%0A%20%20%20%20%20%20%20%20%0A%0A%20%20%20%20%20%20%20%20marker_427e7e6311904871abdfa855427b670c.bindPopup%28popup_7da26fab9547459cb92eb4bfab2630df%29%0A%20%20%20%20%20%20%20%20%3B%0A%0A%20%20%20%20%20%20%20%20%0A%20%20%20%20%0A%20%20%20%20%0A%20%20%20%20%20%20%20%20%20%20%20%20var%20marker_4240a64c67db4a9092ccdcbe10c97815%20%3D%20L.marker%28%0A%20%20%20%20%20%20%20%20%20%20%20%20%20%20%20%20%5B50.40391348423745%2C%206.3036110097419265%5D%2C%0A%20%20%20%20%20%20%20%20%20%20%20%20%20%20%20%20%7B%7D%0A%20%20%20%20%20%20%20%20%20%20%20%20%29.addTo%28map_7145a60b17cf4d14a77be449870bc787%29%3B%0A%20%20%20%20%20%20%20%20%0A%20%20%20%20%0A%20%20%20%20%20%20%20%20var%20popup_4726d97371464ff49314b25f30c4a2fc%20%3D%20L.popup%28%7B%22maxWidth%22%3A%20%22100%25%22%7D%29%3B%0A%0A%20%20%20%20%20%20%20%20%0A%20%20%20%20%20%20%20%20%20%20%20%20var%20html_0a662c887e944f9f9cb3f496954fc8a4%20%3D%20%24%28%60%3Cdiv%20id%3D%22html_0a662c887e944f9f9cb3f496954fc8a4%22%20style%3D%22width%3A%20100.0%25%3B%20height%3A%20100.0%25%3B%22%3E63012A190%3C/div%3E%60%29%5B0%5D%3B%0A%20%20%20%20%20%20%20%20%20%20%20%20popup_4726d97371464ff49314b25f30c4a2fc.setContent%28html_0a662c887e944f9f9cb3f496954fc8a4%29%3B%0A%20%20%20%20%20%20%20%20%0A%0A%20%20%20%20%20%20%20%20marker_4240a64c67db4a9092ccdcbe10c97815.bindPopup%28popup_4726d97371464ff49314b25f30c4a2fc%29%0A%20%20%20%20%20%20%20%20%3B%0A%0A%20%20%20%20%20%20%20%20%0A%20%20%20%20%0A%20%20%20%20%0A%20%20%20%20%20%20%20%20%20%20%20%20var%20marker_b5289e318fbf46d2bd184093fc3085c1%20%3D%20L.marker%28%0A%20%20%20%20%20%20%20%20%20%20%20%20%20%20%20%20%5B49.65157145169279%2C%205.842551728893876%5D%2C%0A%20%20%20%20%20%20%20%20%20%20%20%20%20%20%20%20%7B%7D%0A%20%20%20%20%20%20%20%20%20%20%20%20%29.addTo%28map_7145a60b17cf4d14a77be449870bc787%29%3B%0A%20%20%20%20%20%20%20%20%0A%20%20%20%20%0A%20%20%20%20%20%20%20%20var%20popup_3f6bbec86e114d1dba05122592f91ae4%20%3D%20L.popup%28%7B%22maxWidth%22%3A%20%22100%25%22%7D%29%3B%0A%0A%20%20%20%20%20%20%20%20%0A%20%20%20%20%20%20%20%20%20%20%20%20var%20html_09b695fdbe42464c90de350ce9b2d8e2%20%3D%20%24%28%60%3Cdiv%20id%3D%22html_09b695fdbe42464c90de350ce9b2d8e2%22%20style%3D%22width%3A%20100.0%25%3B%20height%3A%20100.0%25%3B%22%3E81001B20-%3C/div%3E%60%29%5B0%5D%3B%0A%20%20%20%20%20%20%20%20%20%20%20%20popup_3f6bbec86e114d1dba05122592f91ae4.setContent%28html_09b695fdbe42464c90de350ce9b2d8e2%29%3B%0A%20%20%20%20%20%20%20%20%0A%0A%20%20%20%20%20%20%20%20marker_b5289e318fbf46d2bd184093fc3085c1.bindPopup%28popup_3f6bbec86e114d1dba05122592f91ae4%29%0A%20%20%20%20%20%20%20%20%3B%0A%0A%20%20%20%20%20%20%20%20%0A%20%20%20%20%0A%20%20%20%20%0A%20%20%20%20%20%20%20%20%20%20%20%20var%20marker_41a78e34363d4046a30a90ee13b7abe3%20%3D%20L.marker%28%0A%20%20%20%20%20%20%20%20%20%20%20%20%20%20%20%20%5B50.18958446855199%2C%206.171056126060878%5D%2C%0A%20%20%20%20%20%20%20%20%20%20%20%20%20%20%20%20%7B%7D%0A%20%20%20%20%20%20%20%20%20%20%20%20%29.addTo%28map_7145a60b17cf4d14a77be449870bc787%29%3B%0A%20%20%20%20%20%20%20%20%0A%20%20%20%20%0A%20%20%20%20%20%20%20%20var%20popup_93294b72ccc94563aa5c93db605148f4%20%3D%20L.popup%28%7B%22maxWidth%22%3A%20%22100%25%22%7D%29%3B%0A%0A%20%20%20%20%20%20%20%20%0A%20%20%20%20%20%20%20%20%20%20%20%20var%20html_a86984214cb344f29d47c3d06dc0aad1%20%3D%20%24%28%60%3Cdiv%20id%3D%22html_a86984214cb344f29d47c3d06dc0aad1%22%20style%3D%22width%3A%20100.0%25%3B%20height%3A%20100.0%25%3B%22%3E63087B19-%3C/div%3E%60%29%5B0%5D%3B%0A%20%20%20%20%20%20%20%20%20%20%20%20popup_93294b72ccc94563aa5c93db605148f4.setContent%28html_a86984214cb344f29d47c3d06dc0aad1%29%3B%0A%20%20%20%20%20%20%20%20%0A%0A%20%20%20%20%20%20%20%20marker_41a78e34363d4046a30a90ee13b7abe3.bindPopup%28popup_93294b72ccc94563aa5c93db605148f4%29%0A%20%20%20%20%20%20%20%20%3B%0A%0A%20%20%20%20%20%20%20%20%0A%20%20%20%20%0A%20%20%20%20%0A%20%20%20%20%20%20%20%20%20%20%20%20var%20marker_b599d184aec244149cd860660f2c14f2%20%3D%20L.marker%28%0A%20%20%20%20%20%20%20%20%20%20%20%20%20%20%20%20%5B50.26628085693448%2C%206.21756240818361%5D%2C%0A%20%20%20%20%20%20%20%20%20%20%20%20%20%20%20%20%7B%7D%0A%20%20%20%20%20%20%20%20%20%20%20%20%29.addTo%28map_7145a60b17cf4d14a77be449870bc787%29%3B%0A%20%20%20%20%20%20%20%20%0A%20%20%20%20%0A%20%20%20%20%20%20%20%20var%20popup_b710c767d58f43e99ae4d33ee69fa9e0%20%3D%20L.popup%28%7B%22maxWidth%22%3A%20%22100%25%22%7D%29%3B%0A%0A%20%20%20%20%20%20%20%20%0A%20%20%20%20%20%20%20%20%20%20%20%20var%20html_f6025b3d7a064fad9cff1dbb6065af0f%20%3D%20%24%28%60%3Cdiv%20id%3D%22html_f6025b3d7a064fad9cff1dbb6065af0f%22%20style%3D%22width%3A%20100.0%25%3B%20height%3A%20100.0%25%3B%22%3E63067C191%3C/div%3E%60%29%5B0%5D%3B%0A%20%20%20%20%20%20%20%20%20%20%20%20popup_b710c767d58f43e99ae4d33ee69fa9e0.setContent%28html_f6025b3d7a064fad9cff1dbb6065af0f%29%3B%0A%20%20%20%20%20%20%20%20%0A%0A%20%20%20%20%20%20%20%20marker_b599d184aec244149cd860660f2c14f2.bindPopup%28popup_b710c767d58f43e99ae4d33ee69fa9e0%29%0A%20%20%20%20%20%20%20%20%3B%0A%0A%20%20%20%20%20%20%20%20%0A%20%20%20%20%0A%20%20%20%20%0A%20%20%20%20%20%20%20%20%20%20%20%20var%20marker_8657b7765ba3471b9896ab264abd1a3c%20%3D%20L.marker%28%0A%20%20%20%20%20%20%20%20%20%20%20%20%20%20%20%20%5B50.321443268043616%2C%206.251409519435296%5D%2C%0A%20%20%20%20%20%20%20%20%20%20%20%20%20%20%20%20%7B%7D%0A%20%20%20%20%20%20%20%20%20%20%20%20%29.addTo%28map_7145a60b17cf4d14a77be449870bc787%29%3B%0A%20%20%20%20%20%20%20%20%0A%20%20%20%20%0A%20%20%20%20%20%20%20%20var%20popup_bd69817d3f1a4c6b8d0d8bd642e519d7%20%3D%20L.popup%28%7B%22maxWidth%22%3A%20%22100%25%22%7D%29%3B%0A%0A%20%20%20%20%20%20%20%20%0A%20%20%20%20%20%20%20%20%20%20%20%20var%20html_ce8b797c8bf840ccb1263b410f2af506%20%3D%20%24%28%60%3Cdiv%20id%3D%22html_ce8b797c8bf840ccb1263b410f2af506%22%20style%3D%22width%3A%20100.0%25%3B%20height%3A%20100.0%25%3B%22%3E63001C19-%3C/div%3E%60%29%5B0%5D%3B%0A%20%20%20%20%20%20%20%20%20%20%20%20popup_bd69817d3f1a4c6b8d0d8bd642e519d7.setContent%28html_ce8b797c8bf840ccb1263b410f2af506%29%3B%0A%20%20%20%20%20%20%20%20%0A%0A%20%20%20%20%20%20%20%20marker_8657b7765ba3471b9896ab264abd1a3c.bindPopup%28popup_bd69817d3f1a4c6b8d0d8bd642e519d7%29%0A%20%20%20%20%20%20%20%20%3B%0A%0A%20%20%20%20%20%20%20%20%0A%20%20%20%20%0A%20%20%20%20%0A%20%20%20%20%20%20%20%20%20%20%20%20var%20marker_edaa440cc6824997b8c6119bab5f6b62%20%3D%20L.marker%28%0A%20%20%20%20%20%20%20%20%20%20%20%20%20%20%20%20%5B50.40776798551942%2C%206.30301130398014%5D%2C%0A%20%20%20%20%20%20%20%20%20%20%20%20%20%20%20%20%7B%7D%0A%20%20%20%20%20%20%20%20%20%20%20%20%29.addTo%28map_7145a60b17cf4d14a77be449870bc787%29%3B%0A%20%20%20%20%20%20%20%20%0A%20%20%20%20%0A%20%20%20%20%20%20%20%20var%20popup_5019b5aeac824eec9400f1c3f226b7e4%20%3D%20L.popup%28%7B%22maxWidth%22%3A%20%22100%25%22%7D%29%3B%0A%0A%20%20%20%20%20%20%20%20%0A%20%20%20%20%20%20%20%20%20%20%20%20var%20html_535bd54c2c5748bda7e58bb32c1f3dc3%20%3D%20%24%28%60%3Cdiv%20id%3D%22html_535bd54c2c5748bda7e58bb32c1f3dc3%22%20style%3D%22width%3A%20100.0%25%3B%20height%3A%20100.0%25%3B%22%3E63012A100%3C/div%3E%60%29%5B0%5D%3B%0A%20%20%20%20%20%20%20%20%20%20%20%20popup_5019b5aeac824eec9400f1c3f226b7e4.setContent%28html_535bd54c2c5748bda7e58bb32c1f3dc3%29%3B%0A%20%20%20%20%20%20%20%20%0A%0A%20%20%20%20%20%20%20%20marker_edaa440cc6824997b8c6119bab5f6b62.bindPopup%28popup_5019b5aeac824eec9400f1c3f226b7e4%29%0A%20%20%20%20%20%20%20%20%3B%0A%0A%20%20%20%20%20%20%20%20%0A%20%20%20%20%0A%20%20%20%20%0A%20%20%20%20%20%20%20%20%20%20%20%20var%20marker_5417fbd5d57542658710dd5790340dd2%20%3D%20L.marker%28%0A%20%20%20%20%20%20%20%20%20%20%20%20%20%20%20%20%5B50.37439040347782%2C%206.281497327044089%5D%2C%0A%20%20%20%20%20%20%20%20%20%20%20%20%20%20%20%20%7B%7D%0A%20%20%20%20%20%20%20%20%20%20%20%20%29.addTo%28map_7145a60b17cf4d14a77be449870bc787%29%3B%0A%20%20%20%20%20%20%20%20%0A%20%20%20%20%0A%20%20%20%20%20%20%20%20var%20popup_810e7e5a7db84e2a99f7eff2554c5d8b%20%3D%20L.popup%28%7B%22maxWidth%22%3A%20%22100%25%22%7D%29%3B%0A%0A%20%20%20%20%20%20%20%20%0A%20%20%20%20%20%20%20%20%20%20%20%20var%20html_82ccee567de74b61a626259047f90306%20%3D%20%24%28%60%3Cdiv%20id%3D%22html_82ccee567de74b61a626259047f90306%22%20style%3D%22width%3A%20100.0%25%3B%20height%3A%20100.0%25%3B%22%3E63012A390%3C/div%3E%60%29%5B0%5D%3B%0A%20%20%20%20%20%20%20%20%20%20%20%20popup_810e7e5a7db84e2a99f7eff2554c5d8b.setContent%28html_82ccee567de74b61a626259047f90306%29%3B%0A%20%20%20%20%20%20%20%20%0A%0A%20%20%20%20%20%20%20%20marker_5417fbd5d57542658710dd5790340dd2.bindPopup%28popup_810e7e5a7db84e2a99f7eff2554c5d8b%29%0A%20%20%20%20%20%20%20%20%3B%0A%0A%20%20%20%20%20%20%20%20%0A%20%20%20%20%0A%20%20%20%20%0A%20%20%20%20%20%20%20%20%20%20%20%20var%20marker_49724c0b6f354e6d84a1ca82a2294337%20%3D%20L.marker%28%0A%20%20%20%20%20%20%20%20%20%20%20%20%20%20%20%20%5B50.39535908511915%2C%206.2940264067818505%5D%2C%0A%20%20%20%20%20%20%20%20%20%20%20%20%20%20%20%20%7B%7D%0A%20%20%20%20%20%20%20%20%20%20%20%20%29.addTo%28map_7145a60b17cf4d14a77be449870bc787%29%3B%0A%20%20%20%20%20%20%20%20%0A%20%20%20%20%0A%20%20%20%20%20%20%20%20var%20popup_572305f9c1da4a00bd6e72660c70cd14%20%3D%20L.popup%28%7B%22maxWidth%22%3A%20%22100%25%22%7D%29%3B%0A%0A%20%20%20%20%20%20%20%20%0A%20%20%20%20%20%20%20%20%20%20%20%20var%20html_ad00f67f2370441d9a94b8c6080356de%20%3D%20%24%28%60%3Cdiv%20id%3D%22html_ad00f67f2370441d9a94b8c6080356de%22%20style%3D%22width%3A%20100.0%25%3B%20height%3A%20100.0%25%3B%22%3E63012A20-%3C/div%3E%60%29%5B0%5D%3B%0A%20%20%20%20%20%20%20%20%20%20%20%20popup_572305f9c1da4a00bd6e72660c70cd14.setContent%28html_ad00f67f2370441d9a94b8c6080356de%29%3B%0A%20%20%20%20%20%20%20%20%0A%0A%20%20%20%20%20%20%20%20marker_49724c0b6f354e6d84a1ca82a2294337.bindPopup%28popup_572305f9c1da4a00bd6e72660c70cd14%29%0A%20%20%20%20%20%20%20%20%3B%0A%0A%20%20%20%20%20%20%20%20%0A%20%20%20%20%0A%20%20%20%20%0A%20%20%20%20%20%20%20%20%20%20%20%20var%20marker_404b0989d0ff4a59a44bd6a1e642ab78%20%3D%20L.marker%28%0A%20%20%20%20%20%20%20%20%20%20%20%20%20%20%20%20%5B50.205472645754334%2C%206.1763764256932925%5D%2C%0A%20%20%20%20%20%20%20%20%20%20%20%20%20%20%20%20%7B%7D%0A%20%20%20%20%20%20%20%20%20%20%20%20%29.addTo%28map_7145a60b17cf4d14a77be449870bc787%29%3B%0A%20%20%20%20%20%20%20%20%0A%20%20%20%20%0A%20%20%20%20%20%20%20%20var%20popup_d5d805aebaed4485ad0ba30911aa8b58%20%3D%20L.popup%28%7B%22maxWidth%22%3A%20%22100%25%22%7D%29%3B%0A%0A%20%20%20%20%20%20%20%20%0A%20%20%20%20%20%20%20%20%20%20%20%20var%20html_cd94ccaae5044ab0ad72dc4b0f014355%20%3D%20%24%28%60%3Cdiv%20id%3D%22html_cd94ccaae5044ab0ad72dc4b0f014355%22%20style%3D%22width%3A%20100.0%25%3B%20height%3A%20100.0%25%3B%22%3E63087B59-%3C/div%3E%60%29%5B0%5D%3B%0A%20%20%20%20%20%20%20%20%20%20%20%20popup_d5d805aebaed4485ad0ba30911aa8b58.setContent%28html_cd94ccaae5044ab0ad72dc4b0f014355%29%3B%0A%20%20%20%20%20%20%20%20%0A%0A%20%20%20%20%20%20%20%20marker_404b0989d0ff4a59a44bd6a1e642ab78.bindPopup%28popup_d5d805aebaed4485ad0ba30911aa8b58%29%0A%20%20%20%20%20%20%20%20%3B%0A%0A%20%20%20%20%20%20%20%20%0A%20%20%20%20%0A%20%20%20%20%0A%20%20%20%20%20%20%20%20%20%20%20%20var%20marker_ac5d084ffa7b489dac5d3d44a8d915ff%20%3D%20L.marker%28%0A%20%20%20%20%20%20%20%20%20%20%20%20%20%20%20%20%5B49.65989563553123%2C%205.842720006963838%5D%2C%0A%20%20%20%20%20%20%20%20%20%20%20%20%20%20%20%20%7B%7D%0A%20%20%20%20%20%20%20%20%20%20%20%20%29.addTo%28map_7145a60b17cf4d14a77be449870bc787%29%3B%0A%20%20%20%20%20%20%20%20%0A%20%20%20%20%0A%20%20%20%20%20%20%20%20var%20popup_b7e7837b7e38499895abba73ebd15a9e%20%3D%20L.popup%28%7B%22maxWidth%22%3A%20%22100%25%22%7D%29%3B%0A%0A%20%20%20%20%20%20%20%20%0A%20%20%20%20%20%20%20%20%20%20%20%20var%20html_8d2bdf5fcf924da98d7d28e26e697774%20%3D%20%24%28%60%3Cdiv%20id%3D%22html_8d2bdf5fcf924da98d7d28e26e697774%22%20style%3D%22width%3A%20100.0%25%3B%20height%3A%20100.0%25%3B%22%3E81001B29-%3C/div%3E%60%29%5B0%5D%3B%0A%20%20%20%20%20%20%20%20%20%20%20%20popup_b7e7837b7e38499895abba73ebd15a9e.setContent%28html_8d2bdf5fcf924da98d7d28e26e697774%29%3B%0A%20%20%20%20%20%20%20%20%0A%0A%20%20%20%20%20%20%20%20marker_ac5d084ffa7b489dac5d3d44a8d915ff.bindPopup%28popup_b7e7837b7e38499895abba73ebd15a9e%29%0A%20%20%20%20%20%20%20%20%3B%0A%0A%20%20%20%20%20%20%20%20%0A%20%20%20%20%0A%20%20%20%20%0A%20%20%20%20%20%20%20%20%20%20%20%20var%20marker_d0279ee323f4490aa799f32a3fa4576e%20%3D%20L.marker%28%0A%20%20%20%20%20%20%20%20%20%20%20%20%20%20%20%20%5B50.14127303635947%2C%206.136203801776041%5D%2C%0A%20%20%20%20%20%20%20%20%20%20%20%20%20%20%20%20%7B%7D%0A%20%20%20%20%20%20%20%20%20%20%20%20%29.addTo%28map_7145a60b17cf4d14a77be449870bc787%29%3B%0A%20%20%20%20%20%20%20%20%0A%20%20%20%20%0A%20%20%20%20%20%20%20%20var%20popup_08306f96554741958b8878600fde604e%20%3D%20L.popup%28%7B%22maxWidth%22%3A%20%22100%25%22%7D%29%3B%0A%0A%20%20%20%20%20%20%20%20%0A%20%20%20%20%20%20%20%20%20%20%20%20var%20html_fbbb9b35ab4f4b048bfb40b4ff071420%20%3D%20%24%28%60%3Cdiv%20id%3D%22html_fbbb9b35ab4f4b048bfb40b4ff071420%22%20style%3D%22width%3A%20100.0%25%3B%20height%3A%20100.0%25%3B%22%3E63087B20-%3C/div%3E%60%29%5B0%5D%3B%0A%20%20%20%20%20%20%20%20%20%20%20%20popup_08306f96554741958b8878600fde604e.setContent%28html_fbbb9b35ab4f4b048bfb40b4ff071420%29%3B%0A%20%20%20%20%20%20%20%20%0A%0A%20%20%20%20%20%20%20%20marker_d0279ee323f4490aa799f32a3fa4576e.bindPopup%28popup_08306f96554741958b8878600fde604e%29%0A%20%20%20%20%20%20%20%20%3B%0A%0A%20%20%20%20%20%20%20%20%0A%20%20%20%20%0A%20%20%20%20%0A%20%20%20%20%20%20%20%20%20%20%20%20var%20marker_4f392012c85442e087f7e3c2c7600544%20%3D%20L.marker%28%0A%20%20%20%20%20%20%20%20%20%20%20%20%20%20%20%20%5B50.27978279020685%2C%206.221189408345839%5D%2C%0A%20%20%20%20%20%20%20%20%20%20%20%20%20%20%20%20%7B%7D%0A%20%20%20%20%20%20%20%20%20%20%20%20%29.addTo%28map_7145a60b17cf4d14a77be449870bc787%29%3B%0A%20%20%20%20%20%20%20%20%0A%20%20%20%20%0A%20%20%20%20%20%20%20%20var%20popup_6029f16e9aef476982c47e301ebac789%20%3D%20L.popup%28%7B%22maxWidth%22%3A%20%22100%25%22%7D%29%3B%0A%0A%20%20%20%20%20%20%20%20%0A%20%20%20%20%20%20%20%20%20%20%20%20var%20html_52997a9900d04d689d63a4b94ea9ee93%20%3D%20%24%28%60%3Cdiv%20id%3D%22html_52997a9900d04d689d63a4b94ea9ee93%22%20style%3D%22width%3A%20100.0%25%3B%20height%3A%20100.0%25%3B%22%3E63067D59-%3C/div%3E%60%29%5B0%5D%3B%0A%20%20%20%20%20%20%20%20%20%20%20%20popup_6029f16e9aef476982c47e301ebac789.setContent%28html_52997a9900d04d689d63a4b94ea9ee93%29%3B%0A%20%20%20%20%20%20%20%20%0A%0A%20%20%20%20%20%20%20%20marker_4f392012c85442e087f7e3c2c7600544.bindPopup%28popup_6029f16e9aef476982c47e301ebac789%29%0A%20%20%20%20%20%20%20%20%3B%0A%0A%20%20%20%20%20%20%20%20%0A%20%20%20%20%0A%20%20%20%20%0A%20%20%20%20%20%20%20%20%20%20%20%20var%20marker_e8371e0799214ba7ab6d5cd7bc548cd5%20%3D%20L.marker%28%0A%20%20%20%20%20%20%20%20%20%20%20%20%20%20%20%20%5B50.296849741359694%2C%206.231504125583427%5D%2C%0A%20%20%20%20%20%20%20%20%20%20%20%20%20%20%20%20%7B%7D%0A%20%20%20%20%20%20%20%20%20%20%20%20%29.addTo%28map_7145a60b17cf4d14a77be449870bc787%29%3B%0A%20%20%20%20%20%20%20%20%0A%20%20%20%20%0A%20%20%20%20%20%20%20%20var%20popup_cb5e68da40e8478fafb279cdafcb55ff%20%3D%20L.popup%28%7B%22maxWidth%22%3A%20%22100%25%22%7D%29%3B%0A%0A%20%20%20%20%20%20%20%20%0A%20%20%20%20%20%20%20%20%20%20%20%20var%20html_9c1d191145fd41d5afc9fa94202d12f5%20%3D%20%24%28%60%3Cdiv%20id%3D%22html_9c1d191145fd41d5afc9fa94202d12f5%22%20style%3D%22width%3A%20100.0%25%3B%20height%3A%20100.0%25%3B%22%3E63067D69-%3C/div%3E%60%29%5B0%5D%3B%0A%20%20%20%20%20%20%20%20%20%20%20%20popup_cb5e68da40e8478fafb279cdafcb55ff.setContent%28html_9c1d191145fd41d5afc9fa94202d12f5%29%3B%0A%20%20%20%20%20%20%20%20%0A%0A%20%20%20%20%20%20%20%20marker_e8371e0799214ba7ab6d5cd7bc548cd5.bindPopup%28popup_cb5e68da40e8478fafb279cdafcb55ff%29%0A%20%20%20%20%20%20%20%20%3B%0A%0A%20%20%20%20%20%20%20%20%0A%20%20%20%20%0A%20%20%20%20%0A%20%20%20%20%20%20%20%20%20%20%20%20var%20marker_93730e6919dd4e04ab8ac0ba702b9973%20%3D%20L.marker%28%0A%20%20%20%20%20%20%20%20%20%20%20%20%20%20%20%20%5B50.24829599585742%2C%206.201407954724925%5D%2C%0A%20%20%20%20%20%20%20%20%20%20%20%20%20%20%20%20%7B%7D%0A%20%20%20%20%20%20%20%20%20%20%20%20%29.addTo%28map_7145a60b17cf4d14a77be449870bc787%29%3B%0A%20%20%20%20%20%20%20%20%0A%20%20%20%20%0A%20%20%20%20%20%20%20%20var%20popup_a7a8b4a84ec94849ad608d3dd71b669d%20%3D%20L.popup%28%7B%22maxWidth%22%3A%20%22100%25%22%7D%29%3B%0A%0A%20%20%20%20%20%20%20%20%0A%20%20%20%20%20%20%20%20%20%20%20%20var%20html_696529f1ba444b4a8e461ef59a8b973a%20%3D%20%24%28%60%3Cdiv%20id%3D%22html_696529f1ba444b4a8e461ef59a8b973a%22%20style%3D%22width%3A%20100.0%25%3B%20height%3A%20100.0%25%3B%22%3E63067D02-%3C/div%3E%60%29%5B0%5D%3B%0A%20%20%20%20%20%20%20%20%20%20%20%20popup_a7a8b4a84ec94849ad608d3dd71b669d.setContent%28html_696529f1ba444b4a8e461ef59a8b973a%29%3B%0A%20%20%20%20%20%20%20%20%0A%0A%20%20%20%20%20%20%20%20marker_93730e6919dd4e04ab8ac0ba702b9973.bindPopup%28popup_a7a8b4a84ec94849ad608d3dd71b669d%29%0A%20%20%20%20%20%20%20%20%3B%0A%0A%20%20%20%20%20%20%20%20%0A%20%20%20%20%0A%20%20%20%20%0A%20%20%20%20%20%20%20%20%20%20%20%20var%20marker_f5eda3c31a9942809097c910f829dfc0%20%3D%20L.marker%28%0A%20%20%20%20%20%20%20%20%20%20%20%20%20%20%20%20%5B50.26075441018197%2C%206.208714481050138%5D%2C%0A%20%20%20%20%20%20%20%20%20%20%20%20%20%20%20%20%7B%7D%0A%20%20%20%20%20%20%20%20%20%20%20%20%29.addTo%28map_7145a60b17cf4d14a77be449870bc787%29%3B%0A%20%20%20%20%20%20%20%20%0A%20%20%20%20%0A%20%20%20%20%20%20%20%20var%20popup_c72085a79c984019980fe9ced31930a4%20%3D%20L.popup%28%7B%22maxWidth%22%3A%20%22100%25%22%7D%29%3B%0A%0A%20%20%20%20%20%20%20%20%0A%20%20%20%20%20%20%20%20%20%20%20%20var%20html_d447c2d02c95454086bacfbd81a37643%20%3D%20%24%28%60%3Cdiv%20id%3D%22html_d447c2d02c95454086bacfbd81a37643%22%20style%3D%22width%3A%20100.0%25%3B%20height%3A%20100.0%25%3B%22%3E63067C312%3C/div%3E%60%29%5B0%5D%3B%0A%20%20%20%20%20%20%20%20%20%20%20%20popup_c72085a79c984019980fe9ced31930a4.setContent%28html_d447c2d02c95454086bacfbd81a37643%29%3B%0A%20%20%20%20%20%20%20%20%0A%0A%20%20%20%20%20%20%20%20marker_f5eda3c31a9942809097c910f829dfc0.bindPopup%28popup_c72085a79c984019980fe9ced31930a4%29%0A%20%20%20%20%20%20%20%20%3B%0A%0A%20%20%20%20%20%20%20%20%0A%20%20%20%20%0A%20%20%20%20%0A%20%20%20%20%20%20%20%20%20%20%20%20var%20marker_6a495f47e62445be9c25b31b17d34503%20%3D%20L.marker%28%0A%20%20%20%20%20%20%20%20%20%20%20%20%20%20%20%20%5B50.26533392147098%2C%206.209266068680013%5D%2C%0A%20%20%20%20%20%20%20%20%20%20%20%20%20%20%20%20%7B%7D%0A%20%20%20%20%20%20%20%20%20%20%20%20%29.addTo%28map_7145a60b17cf4d14a77be449870bc787%29%3B%0A%20%20%20%20%20%20%20%20%0A%20%20%20%20%0A%20%20%20%20%20%20%20%20var%20popup_dd2327ab643b47869a6de65e9e05abd3%20%3D%20L.popup%28%7B%22maxWidth%22%3A%20%22100%25%22%7D%29%3B%0A%0A%20%20%20%20%20%20%20%20%0A%20%20%20%20%20%20%20%20%20%20%20%20var%20html_d15a9c52727c4c0aac4716d8aa8b083e%20%3D%20%24%28%60%3Cdiv%20id%3D%22html_d15a9c52727c4c0aac4716d8aa8b083e%22%20style%3D%22width%3A%20100.0%25%3B%20height%3A%20100.0%25%3B%22%3E63067C10-%3C/div%3E%60%29%5B0%5D%3B%0A%20%20%20%20%20%20%20%20%20%20%20%20popup_dd2327ab643b47869a6de65e9e05abd3.setContent%28html_d15a9c52727c4c0aac4716d8aa8b083e%29%3B%0A%20%20%20%20%20%20%20%20%0A%0A%20%20%20%20%20%20%20%20marker_6a495f47e62445be9c25b31b17d34503.bindPopup%28popup_dd2327ab643b47869a6de65e9e05abd3%29%0A%20%20%20%20%20%20%20%20%3B%0A%0A%20%20%20%20%20%20%20%20%0A%20%20%20%20%0A%20%20%20%20%0A%20%20%20%20%20%20%20%20%20%20%20%20var%20marker_9bd9a381f7f24a72bee15e3f09fdf27d%20%3D%20L.marker%28%0A%20%20%20%20%20%20%20%20%20%20%20%20%20%20%20%20%5B50.260996712190014%2C%206.206393632302589%5D%2C%0A%20%20%20%20%20%20%20%20%20%20%20%20%20%20%20%20%7B%7D%0A%20%20%20%20%20%20%20%20%20%20%20%20%29.addTo%28map_7145a60b17cf4d14a77be449870bc787%29%3B%0A%20%20%20%20%20%20%20%20%0A%20%20%20%20%0A%20%20%20%20%20%20%20%20var%20popup_888317d291644d95b7d7c9d4cbc6e1f7%20%3D%20L.popup%28%7B%22maxWidth%22%3A%20%22100%25%22%7D%29%3B%0A%0A%20%20%20%20%20%20%20%20%0A%20%20%20%20%20%20%20%20%20%20%20%20var%20html_704b52f7aec143fc82f678914cbb1d1d%20%3D%20%24%28%60%3Cdiv%20id%3D%22html_704b52f7aec143fc82f678914cbb1d1d%22%20style%3D%22width%3A%20100.0%25%3B%20height%3A%20100.0%25%3B%22%3E63067D31-%3C/div%3E%60%29%5B0%5D%3B%0A%20%20%20%20%20%20%20%20%20%20%20%20popup_888317d291644d95b7d7c9d4cbc6e1f7.setContent%28html_704b52f7aec143fc82f678914cbb1d1d%29%3B%0A%20%20%20%20%20%20%20%20%0A%0A%20%20%20%20%20%20%20%20marker_9bd9a381f7f24a72bee15e3f09fdf27d.bindPopup%28popup_888317d291644d95b7d7c9d4cbc6e1f7%29%0A%20%20%20%20%20%20%20%20%3B%0A%0A%20%20%20%20%20%20%20%20%0A%20%20%20%20%0A%20%20%20%20%0A%20%20%20%20%20%20%20%20%20%20%20%20var%20marker_7846f704cefc40879eafa226785df829%20%3D%20L.marker%28%0A%20%20%20%20%20%20%20%20%20%20%20%20%20%20%20%20%5B50.382062972175355%2C%206.2800860937870935%5D%2C%0A%20%20%20%20%20%20%20%20%20%20%20%20%20%20%20%20%7B%7D%0A%20%20%20%20%20%20%20%20%20%20%20%20%29.addTo%28map_7145a60b17cf4d14a77be449870bc787%29%3B%0A%20%20%20%20%20%20%20%20%0A%20%20%20%20%0A%20%20%20%20%20%20%20%20var%20popup_6c3423cc5f274d4b93690b08b82cfa89%20%3D%20L.popup%28%7B%22maxWidth%22%3A%20%22100%25%22%7D%29%3B%0A%0A%20%20%20%20%20%20%20%20%0A%20%20%20%20%20%20%20%20%20%20%20%20var%20html_0be8aab29deb4f67abe1cbda3dd7465e%20%3D%20%24%28%60%3Cdiv%20id%3D%22html_0be8aab29deb4f67abe1cbda3dd7465e%22%20style%3D%22width%3A%20100.0%25%3B%20height%3A%20100.0%25%3B%22%3E63012A300%3C/div%3E%60%29%5B0%5D%3B%0A%20%20%20%20%20%20%20%20%20%20%20%20popup_6c3423cc5f274d4b93690b08b82cfa89.setContent%28html_0be8aab29deb4f67abe1cbda3dd7465e%29%3B%0A%20%20%20%20%20%20%20%20%0A%0A%20%20%20%20%20%20%20%20marker_7846f704cefc40879eafa226785df829.bindPopup%28popup_6c3423cc5f274d4b93690b08b82cfa89%29%0A%20%20%20%20%20%20%20%20%3B%0A%0A%20%20%20%20%20%20%20%20%0A%20%20%20%20%0A%20%20%20%20%0A%20%20%20%20%20%20%20%20%20%20%20%20var%20marker_f8d36d38e8414edbb0a42ae60c6b6184%20%3D%20L.marker%28%0A%20%20%20%20%20%20%20%20%20%20%20%20%20%20%20%20%5B50.280007862021854%2C%206.2170103015517215%5D%2C%0A%20%20%20%20%20%20%20%20%20%20%20%20%20%20%20%20%7B%7D%0A%20%20%20%20%20%20%20%20%20%20%20%20%29.addTo%28map_7145a60b17cf4d14a77be449870bc787%29%3B%0A%20%20%20%20%20%20%20%20%0A%20%20%20%20%0A%20%20%20%20%20%20%20%20var%20popup_f9a879f77c734948a7f92f83ba0e9605%20%3D%20L.popup%28%7B%22maxWidth%22%3A%20%22100%25%22%7D%29%3B%0A%0A%20%20%20%20%20%20%20%20%0A%20%20%20%20%20%20%20%20%20%20%20%20var%20html_71566ac984694641884d4274807fe21d%20%3D%20%24%28%60%3Cdiv%20id%3D%22html_71566ac984694641884d4274807fe21d%22%20style%3D%22width%3A%20100.0%25%3B%20height%3A%20100.0%25%3B%22%3E63067D50-%3C/div%3E%60%29%5B0%5D%3B%0A%20%20%20%20%20%20%20%20%20%20%20%20popup_f9a879f77c734948a7f92f83ba0e9605.setContent%28html_71566ac984694641884d4274807fe21d%29%3B%0A%20%20%20%20%20%20%20%20%0A%0A%20%20%20%20%20%20%20%20marker_f8d36d38e8414edbb0a42ae60c6b6184.bindPopup%28popup_f9a879f77c734948a7f92f83ba0e9605%29%0A%20%20%20%20%20%20%20%20%3B%0A%0A%20%20%20%20%20%20%20%20%0A%20%20%20%20%0A%20%20%20%20%0A%20%20%20%20%20%20%20%20%20%20%20%20var%20marker_927d46fafecd4a6d84be86909e5c1a2f%20%3D%20L.marker%28%0A%20%20%20%20%20%20%20%20%20%20%20%20%20%20%20%20%5B49.68455338831153%2C%205.850800600956884%5D%2C%0A%20%20%20%20%20%20%20%20%20%20%20%20%20%20%20%20%7B%7D%0A%20%20%20%20%20%20%20%20%20%20%20%20%29.addTo%28map_7145a60b17cf4d14a77be449870bc787%29%3B%0A%20%20%20%20%20%20%20%20%0A%20%20%20%20%0A%20%20%20%20%20%20%20%20var%20popup_e7e48b9923254cc599488d07d02d3e33%20%3D%20L.popup%28%7B%22maxWidth%22%3A%20%22100%25%22%7D%29%3B%0A%0A%20%20%20%20%20%20%20%20%0A%20%20%20%20%20%20%20%20%20%20%20%20var%20html_2aad583ab0204e2984a691b01d6ab33f%20%3D%20%24%28%60%3Cdiv%20id%3D%22html_2aad583ab0204e2984a691b01d6ab33f%22%20style%3D%22width%3A%20100.0%25%3B%20height%3A%20100.0%25%3B%22%3E81001D291%3C/div%3E%60%29%5B0%5D%3B%0A%20%20%20%20%20%20%20%20%20%20%20%20popup_e7e48b9923254cc599488d07d02d3e33.setContent%28html_2aad583ab0204e2984a691b01d6ab33f%29%3B%0A%20%20%20%20%20%20%20%20%0A%0A%20%20%20%20%20%20%20%20marker_927d46fafecd4a6d84be86909e5c1a2f.bindPopup%28popup_e7e48b9923254cc599488d07d02d3e33%29%0A%20%20%20%20%20%20%20%20%3B%0A%0A%20%20%20%20%20%20%20%20%0A%20%20%20%20%0A%20%20%20%20%0A%20%20%20%20%20%20%20%20%20%20%20%20var%20marker_32bb53d05bff462d95e5e6267f0d0a3d%20%3D%20L.marker%28%0A%20%20%20%20%20%20%20%20%20%20%20%20%20%20%20%20%5B50.15703335812955%2C%206.139132436086584%5D%2C%0A%20%20%20%20%20%20%20%20%20%20%20%20%20%20%20%20%7B%7D%0A%20%20%20%20%20%20%20%20%20%20%20%20%29.addTo%28map_7145a60b17cf4d14a77be449870bc787%29%3B%0A%20%20%20%20%20%20%20%20%0A%20%20%20%20%0A%20%20%20%20%20%20%20%20var%20popup_91e5f25ebe4b47e0b011d2e6565b4607%20%3D%20L.popup%28%7B%22maxWidth%22%3A%20%22100%25%22%7D%29%3B%0A%0A%20%20%20%20%20%20%20%20%0A%20%20%20%20%20%20%20%20%20%20%20%20var%20html_9bf65807746b4d2bb8547bb63c521761%20%3D%20%24%28%60%3Cdiv%20id%3D%22html_9bf65807746b4d2bb8547bb63c521761%22%20style%3D%22width%3A%20100.0%25%3B%20height%3A%20100.0%25%3B%22%3E63087B22-%3C/div%3E%60%29%5B0%5D%3B%0A%20%20%20%20%20%20%20%20%20%20%20%20popup_91e5f25ebe4b47e0b011d2e6565b4607.setContent%28html_9bf65807746b4d2bb8547bb63c521761%29%3B%0A%20%20%20%20%20%20%20%20%0A%0A%20%20%20%20%20%20%20%20marker_32bb53d05bff462d95e5e6267f0d0a3d.bindPopup%28popup_91e5f25ebe4b47e0b011d2e6565b4607%29%0A%20%20%20%20%20%20%20%20%3B%0A%0A%20%20%20%20%20%20%20%20%0A%20%20%20%20%0A%20%20%20%20%0A%20%20%20%20%20%20%20%20%20%20%20%20var%20marker_f23ad67da42343b8831005f1b63e5a58%20%3D%20L.marker%28%0A%20%20%20%20%20%20%20%20%20%20%20%20%20%20%20%20%5B50.21124798886428%2C%206.17233896665183%5D%2C%0A%20%20%20%20%20%20%20%20%20%20%20%20%20%20%20%20%7B%7D%0A%20%20%20%20%20%20%20%20%20%20%20%20%29.addTo%28map_7145a60b17cf4d14a77be449870bc787%29%3B%0A%20%20%20%20%20%20%20%20%0A%20%20%20%20%0A%20%20%20%20%20%20%20%20var%20popup_c37b5b028bb94372a67ed08e723c5656%20%3D%20L.popup%28%7B%22maxWidth%22%3A%20%22100%25%22%7D%29%3B%0A%0A%20%20%20%20%20%20%20%20%0A%20%20%20%20%20%20%20%20%20%20%20%20var%20html_319ca532d9ee4817b71e7b7b91cc2928%20%3D%20%24%28%60%3Cdiv%20id%3D%22html_319ca532d9ee4817b71e7b7b91cc2928%22%20style%3D%22width%3A%20100.0%25%3B%20height%3A%20100.0%25%3B%22%3E63087B50-%3C/div%3E%60%29%5B0%5D%3B%0A%20%20%20%20%20%20%20%20%20%20%20%20popup_c37b5b028bb94372a67ed08e723c5656.setContent%28html_319ca532d9ee4817b71e7b7b91cc2928%29%3B%0A%20%20%20%20%20%20%20%20%0A%0A%20%20%20%20%20%20%20%20marker_f23ad67da42343b8831005f1b63e5a58.bindPopup%28popup_c37b5b028bb94372a67ed08e723c5656%29%0A%20%20%20%20%20%20%20%20%3B%0A%0A%20%20%20%20%20%20%20%20%0A%20%20%20%20%0A%20%20%20%20%0A%20%20%20%20%20%20%20%20%20%20%20%20var%20marker_862098a43c7e42dfad382f0c31e28990%20%3D%20L.marker%28%0A%20%20%20%20%20%20%20%20%20%20%20%20%20%20%20%20%5B50.148089911169954%2C%206.132851321337701%5D%2C%0A%20%20%20%20%20%20%20%20%20%20%20%20%20%20%20%20%7B%7D%0A%20%20%20%20%20%20%20%20%20%20%20%20%29.addTo%28map_7145a60b17cf4d14a77be449870bc787%29%3B%0A%20%20%20%20%20%20%20%20%0A%20%20%20%20%0A%20%20%20%20%20%20%20%20var%20popup_9519c8cf7e844d4e96c08dca1ac37a42%20%3D%20L.popup%28%7B%22maxWidth%22%3A%20%22100%25%22%7D%29%3B%0A%0A%20%20%20%20%20%20%20%20%0A%20%20%20%20%20%20%20%20%20%20%20%20var%20html_acbcf585acff4663b68917230ceabc12%20%3D%20%24%28%60%3Cdiv%20id%3D%22html_acbcf585acff4663b68917230ceabc12%22%20style%3D%22width%3A%20100.0%25%3B%20height%3A%20100.0%25%3B%22%3E63087B29-%3C/div%3E%60%29%5B0%5D%3B%0A%20%20%20%20%20%20%20%20%20%20%20%20popup_9519c8cf7e844d4e96c08dca1ac37a42.setContent%28html_acbcf585acff4663b68917230ceabc12%29%3B%0A%20%20%20%20%20%20%20%20%0A%0A%20%20%20%20%20%20%20%20marker_862098a43c7e42dfad382f0c31e28990.bindPopup%28popup_9519c8cf7e844d4e96c08dca1ac37a42%29%0A%20%20%20%20%20%20%20%20%3B%0A%0A%20%20%20%20%20%20%20%20%0A%20%20%20%20%0A%20%20%20%20%0A%20%20%20%20%20%20%20%20%20%20%20%20var%20marker_92079c93add74f34825c2d44585068d7%20%3D%20L.marker%28%0A%20%20%20%20%20%20%20%20%20%20%20%20%20%20%20%20%5B49.71010711612881%2C%205.864652799407084%5D%2C%0A%20%20%20%20%20%20%20%20%20%20%20%20%20%20%20%20%7B%7D%0A%20%20%20%20%20%20%20%20%20%20%20%20%29.addTo%28map_7145a60b17cf4d14a77be449870bc787%29%3B%0A%20%20%20%20%20%20%20%20%0A%20%20%20%20%0A%20%20%20%20%20%20%20%20var%20popup_0382d87c672a49f5ab1b9b2f3cea1892%20%3D%20L.popup%28%7B%22maxWidth%22%3A%20%22100%25%22%7D%29%3B%0A%0A%20%20%20%20%20%20%20%20%0A%20%20%20%20%20%20%20%20%20%20%20%20var%20html_a7baf3e6076b4b749d5cd8e250eca704%20%3D%20%24%28%60%3Cdiv%20id%3D%22html_a7baf3e6076b4b749d5cd8e250eca704%22%20style%3D%22width%3A%20100.0%25%3B%20height%3A%20100.0%25%3B%22%3E81001E01-%3C/div%3E%60%29%5B0%5D%3B%0A%20%20%20%20%20%20%20%20%20%20%20%20popup_0382d87c672a49f5ab1b9b2f3cea1892.setContent%28html_a7baf3e6076b4b749d5cd8e250eca704%29%3B%0A%20%20%20%20%20%20%20%20%0A%0A%20%20%20%20%20%20%20%20marker_92079c93add74f34825c2d44585068d7.bindPopup%28popup_0382d87c672a49f5ab1b9b2f3cea1892%29%0A%20%20%20%20%20%20%20%20%3B%0A%0A%20%20%20%20%20%20%20%20%0A%20%20%20%20%0A%20%20%20%20%0A%20%20%20%20%20%20%20%20%20%20%20%20var%20marker_d1f716769e38417ab71f6b025429f2b6%20%3D%20L.marker%28%0A%20%20%20%20%20%20%20%20%20%20%20%20%20%20%20%20%5B49.57437061789118%2C%205.781577643197953%5D%2C%0A%20%20%20%20%20%20%20%20%20%20%20%20%20%20%20%20%7B%7D%0A%20%20%20%20%20%20%20%20%20%20%20%20%29.addTo%28map_7145a60b17cf4d14a77be449870bc787%29%3B%0A%20%20%20%20%20%20%20%20%0A%20%20%20%20%0A%20%20%20%20%20%20%20%20var%20popup_94b9dcfac5cc42d481ff81dd97a55c6d%20%3D%20L.popup%28%7B%22maxWidth%22%3A%20%22100%25%22%7D%29%3B%0A%0A%20%20%20%20%20%20%20%20%0A%20%20%20%20%20%20%20%20%20%20%20%20var%20html_0c4a4468efd34f1e818bab138fb86c9e%20%3D%20%24%28%60%3Cdiv%20id%3D%22html_0c4a4468efd34f1e818bab138fb86c9e%22%20style%3D%22width%3A%20100.0%25%3B%20height%3A%20100.0%25%3B%22%3E81004C200%3C/div%3E%60%29%5B0%5D%3B%0A%20%20%20%20%20%20%20%20%20%20%20%20popup_94b9dcfac5cc42d481ff81dd97a55c6d.setContent%28html_0c4a4468efd34f1e818bab138fb86c9e%29%3B%0A%20%20%20%20%20%20%20%20%0A%0A%20%20%20%20%20%20%20%20marker_d1f716769e38417ab71f6b025429f2b6.bindPopup%28popup_94b9dcfac5cc42d481ff81dd97a55c6d%29%0A%20%20%20%20%20%20%20%20%3B%0A%0A%20%20%20%20%20%20%20%20%0A%20%20%20%20%0A%20%20%20%20%0A%20%20%20%20%20%20%20%20%20%20%20%20var%20marker_9d20ca2bda2843329d852ae7f8f4d4ba%20%3D%20L.marker%28%0A%20%20%20%20%20%20%20%20%20%20%20%20%20%20%20%20%5B49.61835850964979%2C%205.808174477160766%5D%2C%0A%20%20%20%20%20%20%20%20%20%20%20%20%20%20%20%20%7B%7D%0A%20%20%20%20%20%20%20%20%20%20%20%20%29.addTo%28map_7145a60b17cf4d14a77be449870bc787%29%3B%0A%20%20%20%20%20%20%20%20%0A%20%20%20%20%0A%20%20%20%20%20%20%20%20var%20popup_fbfe7dfe56424ad5b801cdf6d658beaa%20%3D%20L.popup%28%7B%22maxWidth%22%3A%20%22100%25%22%7D%29%3B%0A%0A%20%20%20%20%20%20%20%20%0A%20%20%20%20%20%20%20%20%20%20%20%20var%20html_13941293dc92405aa832fbb1915b8810%20%3D%20%24%28%60%3Cdiv%20id%3D%22html_13941293dc92405aa832fbb1915b8810%22%20style%3D%22width%3A%20100.0%25%3B%20height%3A%20100.0%25%3B%22%3E81015A300%3C/div%3E%60%29%5B0%5D%3B%0A%20%20%20%20%20%20%20%20%20%20%20%20popup_fbfe7dfe56424ad5b801cdf6d658beaa.setContent%28html_13941293dc92405aa832fbb1915b8810%29%3B%0A%20%20%20%20%20%20%20%20%0A%0A%20%20%20%20%20%20%20%20marker_9d20ca2bda2843329d852ae7f8f4d4ba.bindPopup%28popup_fbfe7dfe56424ad5b801cdf6d658beaa%29%0A%20%20%20%20%20%20%20%20%3B%0A%0A%20%20%20%20%20%20%20%20%0A%20%20%20%20%0A%20%20%20%20%0A%20%20%20%20%20%20%20%20%20%20%20%20var%20marker_2865721db1694bfa9ecfe712feb775f3%20%3D%20L.marker%28%0A%20%20%20%20%20%20%20%20%20%20%20%20%20%20%20%20%5B49.61382372758507%2C%205.804209282206233%5D%2C%0A%20%20%20%20%20%20%20%20%20%20%20%20%20%20%20%20%7B%7D%0A%20%20%20%20%20%20%20%20%20%20%20%20%29.addTo%28map_7145a60b17cf4d14a77be449870bc787%29%3B%0A%20%20%20%20%20%20%20%20%0A%20%20%20%20%0A%20%20%20%20%20%20%20%20var%20popup_85ac2407fe6d417fbb3b366c4ce19262%20%3D%20L.popup%28%7B%22maxWidth%22%3A%20%22100%25%22%7D%29%3B%0A%0A%20%20%20%20%20%20%20%20%0A%20%20%20%20%20%20%20%20%20%20%20%20var%20html_23cec1015c0746b0a5aea155a163977d%20%3D%20%24%28%60%3Cdiv%20id%3D%22html_23cec1015c0746b0a5aea155a163977d%22%20style%3D%22width%3A%20100.0%25%3B%20height%3A%20100.0%25%3B%22%3E81015A390%3C/div%3E%60%29%5B0%5D%3B%0A%20%20%20%20%20%20%20%20%20%20%20%20popup_85ac2407fe6d417fbb3b366c4ce19262.setContent%28html_23cec1015c0746b0a5aea155a163977d%29%3B%0A%20%20%20%20%20%20%20%20%0A%0A%20%20%20%20%20%20%20%20marker_2865721db1694bfa9ecfe712feb775f3.bindPopup%28popup_85ac2407fe6d417fbb3b366c4ce19262%29%0A%20%20%20%20%20%20%20%20%3B%0A%0A%20%20%20%20%20%20%20%20%0A%20%20%20%20%0A%20%20%20%20%0A%20%20%20%20%20%20%20%20%20%20%20%20var%20marker_ed8e18c0b39145a4abf2ca601b547179%20%3D%20L.marker%28%0A%20%20%20%20%20%20%20%20%20%20%20%20%20%20%20%20%5B49.64934907914097%2C%205.82420279661819%5D%2C%0A%20%20%20%20%20%20%20%20%20%20%20%20%20%20%20%20%7B%7D%0A%20%20%20%20%20%20%20%20%20%20%20%20%29.addTo%28map_7145a60b17cf4d14a77be449870bc787%29%3B%0A%20%20%20%20%20%20%20%20%0A%20%20%20%20%0A%20%20%20%20%20%20%20%20var%20popup_442a0ee6a28c42c38acce83f08bd97b0%20%3D%20L.popup%28%7B%22maxWidth%22%3A%20%22100%25%22%7D%29%3B%0A%0A%20%20%20%20%20%20%20%20%0A%20%20%20%20%20%20%20%20%20%20%20%20var%20html_cfc2c77550404399b1298c7d7fcb96fb%20%3D%20%24%28%60%3Cdiv%20id%3D%22html_cfc2c77550404399b1298c7d7fcb96fb%22%20style%3D%22width%3A%20100.0%25%3B%20height%3A%20100.0%25%3B%22%3E81001B3MA%3C/div%3E%60%29%5B0%5D%3B%0A%20%20%20%20%20%20%20%20%20%20%20%20popup_442a0ee6a28c42c38acce83f08bd97b0.setContent%28html_cfc2c77550404399b1298c7d7fcb96fb%29%3B%0A%20%20%20%20%20%20%20%20%0A%0A%20%20%20%20%20%20%20%20marker_ed8e18c0b39145a4abf2ca601b547179.bindPopup%28popup_442a0ee6a28c42c38acce83f08bd97b0%29%0A%20%20%20%20%20%20%20%20%3B%0A%0A%20%20%20%20%20%20%20%20%0A%20%20%20%20%0A%20%20%20%20%0A%20%20%20%20%20%20%20%20%20%20%20%20var%20marker_9d51ae921da544d8800e081fedb7784f%20%3D%20L.marker%28%0A%20%20%20%20%20%20%20%20%20%20%20%20%20%20%20%20%5B50.4569362826525%2C%206.318368889141953%5D%2C%0A%20%20%20%20%20%20%20%20%20%20%20%20%20%20%20%20%7B%7D%0A%20%20%20%20%20%20%20%20%20%20%20%20%29.addTo%28map_7145a60b17cf4d14a77be449870bc787%29%3B%0A%20%20%20%20%20%20%20%20%0A%20%20%20%20%0A%20%20%20%20%20%20%20%20var%20popup_4d430ba00487448bacf985691709e44c%20%3D%20L.popup%28%7B%22maxWidth%22%3A%20%22100%25%22%7D%29%3B%0A%0A%20%20%20%20%20%20%20%20%0A%20%20%20%20%20%20%20%20%20%20%20%20var%20html_518e6022c0284b51bb211ede6f8c0669%20%3D%20%24%28%60%3Cdiv%20id%3D%22html_518e6022c0284b51bb211ede6f8c0669%22%20style%3D%22width%3A%20100.0%25%3B%20height%3A%20100.0%25%3B%22%3E63012B09-%3C/div%3E%60%29%5B0%5D%3B%0A%20%20%20%20%20%20%20%20%20%20%20%20popup_4d430ba00487448bacf985691709e44c.setContent%28html_518e6022c0284b51bb211ede6f8c0669%29%3B%0A%20%20%20%20%20%20%20%20%0A%0A%20%20%20%20%20%20%20%20marker_9d51ae921da544d8800e081fedb7784f.bindPopup%28popup_4d430ba00487448bacf985691709e44c%29%0A%20%20%20%20%20%20%20%20%3B%0A%0A%20%20%20%20%20%20%20%20%0A%20%20%20%20%0A%20%20%20%20%0A%20%20%20%20%20%20%20%20%20%20%20%20var%20marker_4477da69bfc34cff8a01a437d62bc2ed%20%3D%20L.marker%28%0A%20%20%20%20%20%20%20%20%20%20%20%20%20%20%20%20%5B49.5760811363006%2C%205.778889042221844%5D%2C%0A%20%20%20%20%20%20%20%20%20%20%20%20%20%20%20%20%7B%7D%0A%20%20%20%20%20%20%20%20%20%20%20%20%29.addTo%28map_7145a60b17cf4d14a77be449870bc787%29%3B%0A%20%20%20%20%20%20%20%20%0A%20%20%20%20%0A%20%20%20%20%20%20%20%20var%20popup_8b80a2d17b7248e7924764bc01863576%20%3D%20L.popup%28%7B%22maxWidth%22%3A%20%22100%25%22%7D%29%3B%0A%0A%20%20%20%20%20%20%20%20%0A%20%20%20%20%20%20%20%20%20%20%20%20var%20html_c0a61c4aef194fd9b32d78e2ffc61242%20%3D%20%24%28%60%3Cdiv%20id%3D%22html_c0a61c4aef194fd9b32d78e2ffc61242%22%20style%3D%22width%3A%20100.0%25%3B%20height%3A%20100.0%25%3B%22%3E81004C290%3C/div%3E%60%29%5B0%5D%3B%0A%20%20%20%20%20%20%20%20%20%20%20%20popup_8b80a2d17b7248e7924764bc01863576.setContent%28html_c0a61c4aef194fd9b32d78e2ffc61242%29%3B%0A%20%20%20%20%20%20%20%20%0A%0A%20%20%20%20%20%20%20%20marker_4477da69bfc34cff8a01a437d62bc2ed.bindPopup%28popup_8b80a2d17b7248e7924764bc01863576%29%0A%20%20%20%20%20%20%20%20%3B%0A%0A%20%20%20%20%20%20%20%20%0A%20%20%20%20%0A%20%20%20%20%0A%20%20%20%20%20%20%20%20%20%20%20%20var%20marker_b00eae32bd93420fa96fe3ffb77239b8%20%3D%20L.marker%28%0A%20%20%20%20%20%20%20%20%20%20%20%20%20%20%20%20%5B50.19880427412285%2C%206.158394804794078%5D%2C%0A%20%20%20%20%20%20%20%20%20%20%20%20%20%20%20%20%7B%7D%0A%20%20%20%20%20%20%20%20%20%20%20%20%29.addTo%28map_7145a60b17cf4d14a77be449870bc787%29%3B%0A%20%20%20%20%20%20%20%20%0A%20%20%20%20%0A%20%20%20%20%20%20%20%20var%20popup_3ed576d1b4df4d7a93f8c11fe532201c%20%3D%20L.popup%28%7B%22maxWidth%22%3A%20%22100%25%22%7D%29%3B%0A%0A%20%20%20%20%20%20%20%20%0A%20%20%20%20%20%20%20%20%20%20%20%20var%20html_c439388842fd4bd9a1be48c7e1fe8f66%20%3D%20%24%28%60%3Cdiv%20id%3D%22html_c439388842fd4bd9a1be48c7e1fe8f66%22%20style%3D%22width%3A%20100.0%25%3B%20height%3A%20100.0%25%3B%22%3E63087B10-%3C/div%3E%60%29%5B0%5D%3B%0A%20%20%20%20%20%20%20%20%20%20%20%20popup_3ed576d1b4df4d7a93f8c11fe532201c.setContent%28html_c439388842fd4bd9a1be48c7e1fe8f66%29%3B%0A%20%20%20%20%20%20%20%20%0A%0A%20%20%20%20%20%20%20%20marker_b00eae32bd93420fa96fe3ffb77239b8.bindPopup%28popup_3ed576d1b4df4d7a93f8c11fe532201c%29%0A%20%20%20%20%20%20%20%20%3B%0A%0A%20%20%20%20%20%20%20%20%0A%20%20%20%20%0A%3C/script%3E onload=\"this.contentDocument.open();this.contentDocument.write(    decodeURIComponent(this.getAttribute('data-html')));this.contentDocument.close();\" allowfullscreen webkitallowfullscreen mozallowfullscreen></iframe></div></div>"
      ],
      "text/plain": [
       "<folium.folium.Map at 0x7fae2ab7f5d0>"
      ]
     },
     "execution_count": 25,
     "metadata": {},
     "output_type": "execute_result"
    }
   ],
   "source": [
    "#calling map object to display the map \n",
    "map"
   ]
  },
  {
   "cell_type": "code",
   "execution_count": null,
   "metadata": {},
   "outputs": [],
   "source": []
  }
 ],
 "metadata": {
  "kernelspec": {
   "display_name": "Python 3",
   "language": "python",
   "name": "python3"
  },
  "language_info": {
   "codemirror_mode": {
    "name": "ipython",
    "version": 3
   },
   "file_extension": ".py",
   "mimetype": "text/x-python",
   "name": "python",
   "nbconvert_exporter": "python",
   "pygments_lexer": "ipython3",
   "version": "3.7.6"
  }
 },
 "nbformat": 4,
 "nbformat_minor": 4
}
